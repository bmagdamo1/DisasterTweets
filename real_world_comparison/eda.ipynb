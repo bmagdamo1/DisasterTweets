{
 "metadata": {
  "language_info": {
   "codemirror_mode": {
    "name": "ipython",
    "version": 3
   },
   "file_extension": ".py",
   "mimetype": "text/x-python",
   "name": "python",
   "nbconvert_exporter": "python",
   "pygments_lexer": "ipython3",
   "version": "3.9.0-final"
  },
  "orig_nbformat": 2,
  "kernelspec": {
   "name": "python3",
   "display_name": "Python 3.9.0 64-bit",
   "metadata": {
    "interpreter": {
     "hash": "aee8b7b246df8f9039afb4144a1f6fd8d2ca17a180786b69acc140d282b71a49"
    }
   }
  }
 },
 "nbformat": 4,
 "nbformat_minor": 2,
 "cells": [
  {
   "cell_type": "code",
   "execution_count": 1,
   "metadata": {},
   "outputs": [],
   "source": [
    "import pandas as pd"
   ]
  },
  {
   "cell_type": "code",
   "execution_count": 2,
   "metadata": {},
   "outputs": [],
   "source": [
    "beirut = pd.read_csv('data/manual_labels/beirut_with_manual_labels.csv')\n",
    "brunswick = pd.read_csv('data/manual_labels/brunswick_county_nc_with_manual_labels.csv')\n",
    "nashville = pd.read_csv('data/manual_labels/nashville_with_manual_labels.csv')"
   ]
  },
  {
   "cell_type": "code",
   "execution_count": null,
   "metadata": {},
   "outputs": [],
   "source": [
    "print(\"Portion of Beirut Tweets that were about the disaster: \" + str(beirut['Disaster'].mean()))\n",
    "print(\"Portion of Brunswick Co Tweets that were about the disaster: \" + str(brunswick['Disaster'].mean()))\n",
    "print(\"Portion of Nashville Tweets that were about the disaster: \" + str(nashville['Disaster'].mean()))"
   ]
  }
 ]
}