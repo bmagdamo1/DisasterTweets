{
 "cells": [
  {
   "cell_type": "code",
   "execution_count": 1,
   "metadata": {},
   "outputs": [],
   "source": [
    "import pandas as pd\n",
    "import twint\n",
    "import glob\n",
    "import math\n",
    "import json\n",
    "import os\n",
    "import re\n",
    "import numpy as np\n",
    "\n",
    "from tldextract import extract\n",
    "\n",
    "import matplotlib.pyplot as plt\n",
    "\n",
    "import collections\n",
    "from collections import Counter\n",
    "\n",
    "from sklearn.preprocessing import StandardScaler\n",
    "from sklearn.feature_extraction.text import CountVectorizer\n",
    "from sklearn import neighbors, datasets\n",
    "from sklearn.datasets import load_iris\n",
    "from sklearn.tree import DecisionTreeClassifier, plot_tree, export_graphviz\n",
    "from sklearn.model_selection import train_test_split\n",
    "from sklearn.metrics import confusion_matrix\n",
    "from sklearn.ensemble import RandomForestRegressor\n",
    "\n",
    "import nltk\n",
    "from nltk.util import ngrams\n",
    "from nltk.corpus import stopwords \n",
    "from nltk.tokenize import word_tokenize \n",
    "from nltk.stem import PorterStemmer "
   ]
  },
  {
   "cell_type": "code",
   "execution_count": 2,
   "metadata": {},
   "outputs": [],
   "source": [
    "## Define global constants\n",
    "\n",
    "REPUBLICAN = 1\n",
    "DEMOCRAT = 0"
   ]
  },
  {
   "cell_type": "code",
   "execution_count": 3,
   "metadata": {},
   "outputs": [],
   "source": [
    "## Define global instances of SKL/NLTK classes\n",
    "\n",
    "ps = PorterStemmer()"
   ]
  },
  {
   "cell_type": "markdown",
   "metadata": {},
   "source": [
    "## 1. Explore Congressional Data"
   ]
  },
  {
   "cell_type": "code",
   "execution_count": 4,
   "metadata": {},
   "outputs": [
    {
     "data": {
      "text/plain": [
       "0    262\n",
       "1    244\n",
       "Name: Party, dtype: int64"
      ]
     },
     "execution_count": 4,
     "metadata": {},
     "output_type": "execute_result"
    }
   ],
   "source": [
    "congressmen = pd.read_csv(\"Congressmen.csv\")\n",
    "congressmen['Party'].value_counts()\n",
    "\n",
    "# Democratic = 0\n",
    "# Republican = 1"
   ]
  },
  {
   "cell_type": "markdown",
   "metadata": {},
   "source": [
    "# Week 1: Congressional Tweets"
   ]
  },
  {
   "cell_type": "code",
   "execution_count": 5,
   "metadata": {},
   "outputs": [],
   "source": [
    "bash_script = \"\"\n",
    "\n",
    "startIndex = 235\n",
    "for index, row in congressmen.iterrows():\n",
    "    \n",
    "    # We may need to resume downloading in the middle\n",
    "    # So, we're going to allow the process to resume\n",
    "    # from an arbitrary index in the dataframe\n",
    "    if index < startIndex:\n",
    "        continue\n",
    "        \n",
    "    # We need to print this information so that if the\n",
    "    # process hangs, we know what index we disconnected at\n",
    "    limit = 300\n",
    "    name = row['Name']\n",
    "    twitter = row['username']\n",
    "    \n",
    "    # We can't efficiently run twint in python, so we \n",
    "    # generate a shell script to download the tweets instead\n",
    "    bash_script += \"twint -u \" + twitter + \" -o tweets_politicians/\" + twitter + \".csv --csv --limit \" + str(limit) + \" && \\n\"\n",
    "    \n",
    "bash_script += \"echo Done!\"\n",
    "    \n",
    "file = open(\"download_tweets.sh\", \"w\")\n",
    "file.write(bash_script)\n",
    "file.close()"
   ]
  },
  {
   "cell_type": "markdown",
   "metadata": {},
   "source": [
    "#### A. Combine all user extracts"
   ]
  },
  {
   "cell_type": "code",
   "execution_count": 6,
   "metadata": {},
   "outputs": [],
   "source": [
    "tweet_files = glob.glob(\"tweets_politicians/*.csv\")"
   ]
  },
  {
   "cell_type": "code",
   "execution_count": 7,
   "metadata": {},
   "outputs": [],
   "source": [
    "try:\n",
    "    os.remove(\"tweets.csv\")\n",
    "except OSError:\n",
    "    pass"
   ]
  },
  {
   "cell_type": "code",
   "execution_count": 8,
   "metadata": {},
   "outputs": [],
   "source": [
    "output_database = open(\"tweets.csv\",\"a\")\n",
    "\n",
    "# first file:\n",
    "for line in open(tweet_files[0]):\n",
    "    output_database.write(line)\n",
    "# now the rest:    \n",
    "for num in range(1,len(tweet_files)):\n",
    "    \n",
    "    f = open(tweet_files[num], 'r') \n",
    "    for line in f.readlines()[1:]:\n",
    "        output_database.write(line)\n",
    "    f.close() # not really needed\n",
    "    \n",
    "output_database.close()"
   ]
  },
  {
   "cell_type": "markdown",
   "metadata": {},
   "source": [
    "#### B. Define Transformation Functions"
   ]
  },
  {
   "cell_type": "code",
   "execution_count": 9,
   "metadata": {},
   "outputs": [],
   "source": [
    "def tidy_possible_url(string):\n",
    "    if \"pic.twitter.com\" in string:\n",
    "        return \"\"\n",
    "    isURL = string.startswith(\"http://\") or string.startswith(\"https://\")\n",
    "    if isURL:\n",
    "        tsd, td, tsu = extract(string) # gives you: www, hostname, com\n",
    "        return td + \".\" + tsu\n",
    "    else:\n",
    "        return string"
   ]
  },
  {
   "cell_type": "code",
   "execution_count": 10,
   "metadata": {},
   "outputs": [],
   "source": [
    "def transform_tweet(content):\n",
    "    content = content.lower()    \n",
    "    content = ' '.join([word for word in content.split() if word not in stopwords.words('english')])    \n",
    "    content = ' '.join([tidy_possible_url(word) for word in content.split()])\n",
    "    content = re.sub(r'[^0-9a-zA-Z@ ]+', '', content)\n",
    "    content = content.replace('#', '')\n",
    "    content = ' '.join([ps.stem(word) for word in content.split()])\n",
    "    return content"
   ]
  },
  {
   "cell_type": "code",
   "execution_count": 11,
   "metadata": {},
   "outputs": [
    {
     "name": "stdout",
     "output_type": "stream",
     "text": [
      "read hello\n"
     ]
    }
   ],
   "source": [
    "# \"Playground\" example to verify that the transform_tweet function is working as expected\n",
    "print(transform_tweet(\"I just read pic.twitter.com/saowyr2gvo \\n#HELLO$ $'$^%$*(&^)'\"))"
   ]
  },
  {
   "cell_type": "code",
   "execution_count": 12,
   "metadata": {},
   "outputs": [],
   "source": [
    "def most_interesting_ngrams(n, count):\n",
    "    \n",
    "    corpus   = \" \".join(tweets['tweet'])\n",
    "    grams    = ngrams(corpus.split(), n)\n",
    "    counts   = collections.Counter(grams)\n",
    "    \n",
    "    indices = list(set(counts.keys()))\n",
    "    \n",
    "    r_usages = dict.fromkeys(indices, 0)\n",
    "    d_usages = dict.fromkeys(indices, 0)\n",
    "    \n",
    "    r_users = dict.fromkeys(indices, 0)\n",
    "    d_users = dict.fromkeys(indices, 0)\n",
    "    \n",
    "    for index, item in congressmen.iterrows():\n",
    "        \n",
    "        currentPersonTweets = tweets.loc[tweets['username'] == item['username']]        \n",
    "        currentPersonCorpus = \" \".join(currentPersonTweets['tweet'])\n",
    "        currentPersonGrams   = ngrams(currentPersonCorpus.split(), n)\n",
    "        currentPersonGramCounts = collections.Counter(currentPersonGrams)\n",
    "        for cpg in currentPersonGramCounts.keys():\n",
    "            if item['Party'] == 0:\n",
    "                d_usages[cpg] += currentPersonGramCounts[cpg]\n",
    "                d_users[cpg] += 1\n",
    "            elif item['Party'] == 1:\n",
    "                r_usages[cpg] += currentPersonGramCounts[cpg]\n",
    "                r_users[cpg] += 1\n",
    "\n",
    "    \n",
    "    importance = dict.fromkeys(counts.keys(), 0)\n",
    "    \n",
    "    for i in indices:\n",
    "        importance[i] = abs(r_users[i] - d_users[i])**2 * (abs(r_usages[i] - d_usages[i]))**(1.0/1.5)\n",
    "        \n",
    "        \n",
    "    sorted_importance = sorted(importance.items() , reverse=True, key=lambda x: x[1])\n",
    "    sorted_importance = sorted_importance[0:count]\n",
    "    \n",
    "    return [x[0] for x in sorted_importance]"
   ]
  },
  {
   "cell_type": "code",
   "execution_count": 13,
   "metadata": {},
   "outputs": [],
   "source": [
    "def generate_vocabulary_map(array_of_ngram_arrays):\n",
    "    vocab = {}    \n",
    "    index = 0\n",
    "    for arr in array_of_ngram_arrays:\n",
    "        for ng in arr:\n",
    "            vocab[' '.join(ng)] = index\n",
    "            index += 1\n",
    "    return vocab"
   ]
  },
  {
   "cell_type": "code",
   "execution_count": 14,
   "metadata": {},
   "outputs": [],
   "source": [
    "def transform_dataset(df):\n",
    "    corpus = df['tweet'].values\n",
    "    vocabulary = generate_vocabulary_map([\n",
    "        most_interesting_ngrams(1, 500),\n",
    "        most_interesting_ngrams(2, 1000),\n",
    "        most_interesting_ngrams(3, 2500),\n",
    "    ])\n",
    "    \n",
    "    print(vocabulary)\n",
    "            \n",
    "    vectorizer = CountVectorizer(vocabulary=vocabulary, ngram_range=(1,3))\n",
    "    \n",
    "    X = vectorizer.fit_transform(corpus)\n",
    "    X = X.toarray()\n",
    "    Y = df['Party'].values\n",
    "    \n",
    "    scaler = StandardScaler()\n",
    "    X = scaler.fit_transform(X)\n",
    "    \n",
    "    return X,Y"
   ]
  },
  {
   "cell_type": "markdown",
   "metadata": {},
   "source": [
    "#### C. Combine with biographical information"
   ]
  },
  {
   "cell_type": "code",
   "execution_count": 15,
   "metadata": {},
   "outputs": [],
   "source": [
    "tweets = pd.read_csv(\"tweets.csv\")\n",
    "tweets = tweets.merge(congressmen[['username', 'State', 'Party' ]], on=['username'])"
   ]
  },
  {
   "cell_type": "code",
   "execution_count": 16,
   "metadata": {},
   "outputs": [],
   "source": [
    "tweets['tweet'] = tweets['tweet'].apply(lambda t: transform_tweet(t))"
   ]
  },
  {
   "cell_type": "code",
   "execution_count": 17,
   "metadata": {},
   "outputs": [
    {
     "data": {
      "text/plain": [
       "0       bolster stock ppe southern indiana john riley ...\n",
       "1       team reach local hospit check in mani work kee...\n",
       "2       listen in join @chamberbloom discuss caresact ...\n",
       "3       visit websit housegov find inform everyth appl...\n",
       "4       hoosier work togeth fight coronaviru numer res...\n",
       "                              ...                        \n",
       "6135    radianc technolog inc ceo william c bailey wil...\n",
       "6136    soldier sailor airmen marin willingli place li...\n",
       "6137    met @canopychildren ceo dr john d damon hear g...\n",
       "6138    david josh ashley oper fastgrow small busi jac...\n",
       "6139    great visit @15thsma listen idea improv qualit...\n",
       "Name: tweet, Length: 6140, dtype: object"
      ]
     },
     "execution_count": 17,
     "metadata": {},
     "output_type": "execute_result"
    }
   ],
   "source": [
    "tweets['tweet']"
   ]
  },
  {
   "cell_type": "markdown",
   "metadata": {},
   "source": [
    "#### D. Remove unnecessary columns"
   ]
  },
  {
   "cell_type": "code",
   "execution_count": 18,
   "metadata": {},
   "outputs": [],
   "source": [
    "tweets = tweets[['date','tweet', 'username', 'Party', 'hashtags', 'mentions']]"
   ]
  },
  {
   "cell_type": "code",
   "execution_count": 19,
   "metadata": {},
   "outputs": [
    {
     "data": {
      "text/plain": [
       "0       bolster stock ppe southern indiana john riley ...\n",
       "1       team reach local hospit check in mani work kee...\n",
       "2       listen in join @chamberbloom discuss caresact ...\n",
       "3       visit websit housegov find inform everyth appl...\n",
       "4       hoosier work togeth fight coronaviru numer res...\n",
       "                              ...                        \n",
       "6135    radianc technolog inc ceo william c bailey wil...\n",
       "6136    soldier sailor airmen marin willingli place li...\n",
       "6137    met @canopychildren ceo dr john d damon hear g...\n",
       "6138    david josh ashley oper fastgrow small busi jac...\n",
       "6139    great visit @15thsma listen idea improv qualit...\n",
       "Name: tweet, Length: 6140, dtype: object"
      ]
     },
     "execution_count": 19,
     "metadata": {},
     "output_type": "execute_result"
    }
   ],
   "source": [
    "tweets['tweet']"
   ]
  },
  {
   "cell_type": "markdown",
   "metadata": {},
   "source": [
    "#### E. Normalize the number of Republican and Democrats"
   ]
  },
  {
   "cell_type": "code",
   "execution_count": 20,
   "metadata": {},
   "outputs": [],
   "source": [
    "r_tweets = tweets.loc[tweets['Party'] == REPUBLICAN]\n",
    "d_tweets = tweets.loc[tweets['Party'] == DEMOCRAT]"
   ]
  },
  {
   "cell_type": "code",
   "execution_count": 21,
   "metadata": {},
   "outputs": [
    {
     "name": "stdout",
     "output_type": "stream",
     "text": [
      "Started with 3140 Republican, 3000 Democrat\n"
     ]
    }
   ],
   "source": [
    "r_tweet_count = len(r_tweets)\n",
    "d_tweet_count = len(d_tweets)\n",
    "\n",
    "difference = abs(r_tweet_count - d_tweet_count)\n",
    "\n",
    "print(\"Started with \" + str(r_tweet_count) + \" Republican, \" + str(d_tweet_count) + \" Democrat\")\n",
    "\n",
    "if r_tweet_count > d_tweet_count:\n",
    "    to_remove = np.random.choice(tweets[tweets['Party']==REPUBLICAN].index,size=difference,replace=False)\n",
    "    tweets = tweets.drop(to_remove)\n",
    "elif d_tweet_count > r_tweet_count:\n",
    "    to_remove = np.random.choice(tweets[tweets['Party']==DEMOCRAT].index,size=difference,replace=False)\n",
    "    tweets = tweets.drop(to_remove)"
   ]
  },
  {
   "cell_type": "code",
   "execution_count": 22,
   "metadata": {},
   "outputs": [
    {
     "name": "stdout",
     "output_type": "stream",
     "text": [
      "Classes normalized\n"
     ]
    }
   ],
   "source": [
    "r_tweets = tweets.loc[tweets['Party'] == REPUBLICAN]\n",
    "d_tweets = tweets.loc[tweets['Party'] == DEMOCRAT]\n",
    "\n",
    "r_tweet_count = len(r_tweets)\n",
    "d_tweet_count = len(d_tweets)\n",
    "\n",
    "print(\"Classes normalized\" if (r_tweet_count - d_tweet_count) == 0 else \"Classes NOT normalized\")"
   ]
  },
  {
   "cell_type": "markdown",
   "metadata": {},
   "source": [
    "#### F. Split into training and testing"
   ]
  },
  {
   "cell_type": "code",
   "execution_count": 23,
   "metadata": {},
   "outputs": [
    {
     "name": "stdout",
     "output_type": "stream",
     "text": [
      "{'@potu': 0, 'west': 1, 'discrimin': 2, 'town': 3, 'god': 4, 'censu': 5, 'librari': 6, 'terrorist': 7, 'count': 8, 'pelosi': 9, 'forthepeopl': 10, 'supplement': 11, '@usda': 12, 'partisan': 13, 'condit': 14, 'enrol': 15, 'said': 16, 'comprehens': 17, 'mental': 18, 'democrat': 19, 'unpreced': 20, 'condemn': 21, 'pm': 22, 'facebookcom': 23, 'gun': 24, 'foxnewscom': 25, 'mobil': 26, 'medicaid': 27, 'legal': 28, 'montgomeri': 29, 'manufactur': 30, 'remov': 31, 'telephon': 32, 'confid': 33, 'paid': 34, 'chanc': 35, 'climat': 36, 'usmcanow': 37, 'decid': 38, 'cnbccom': 39, '2020censu': 40, 'regim': 41, 'appropri': 42, 'central': 43, 'capabl': 44, 'facebook': 45, 'ad': 46, '2020censusgov': 47, 'result': 48, 'progrowth': 49, 'key': 50, 'border': 51, 'gender': 52, 'equalpayday': 53, 'size': 54, 'jobsreport': 55, 'aliv': 56, 'recommit': 57, 'soldier': 58, 'unborn': 59, 'phone': 60, 'daca': 61, 'lender': 62, 'instead': 63, 'rancher': 64, 'far': 65, 'kick': 66, 'custom': 67, 'pray': 68, 'connect': 69, 'email': 70, 'isi': 71, 'rx': 72, 'speaker': 73, 'china': 74, 'sick': 75, 'inittogeth': 76, 'arm': 77, 'violenc': 78, 'democraci': 79, 'thrive': 80, '2016': 81, 'woman': 82, 'tennesse': 83, 'growth': 84, 'park': 85, 'bless': 86, 'ultim': 87, '2010': 88, 'postpon': 89, 'horrif': 90, 'georgia': 91, '@realdonaldtrump': 92, 'lowest': 93, '35': 94, 'road': 95, '14': 96, 'terror': 97, 'natl': 98, 'fail': 99, 'illeg': 100, 'advoc': 101, 'regist': 102, 'rebuild': 103, 'certainti': 104, 'advanc': 105, 'wwii': 106, 'bridg': 107, 'monday': 108, 'nytimescom': 109, 'percent': 110, 'sever': 111, 'disrupt': 112, 'singl': 113, 'enemi': 114, 'doubt': 115, 'stem': 116, 'oversight': 117, 'video': 118, '@whitehous': 119, 'insur': 120, 'wsjcom': 121, 'defend': 122, 'corpor': 123, 'iran': 124, 'farmer': 125, 'epidem': 126, 'vital': 127, 'coverag': 128, 'russia': 129, 'michael': 130, 'fear': 131, 'touch': 132, 'divers': 133, 'deepli': 134, '@secretarysonni': 135, 'click': 136, 'dial': 137, 'sham': 138, 'unaccept': 139, 'quick': 140, 'suprem': 141, 'prayer': 142, 'lowincom': 143, 'globe': 144, 'boom': 145, 'sanctuari': 146, 'hi': 147, 'sector': 148, 'agreement': 149, 'current': 150, 'jackson': 151, 'repeal': 152, 'push': 153, 'interview': 154, 'bitli': 155, 'rural': 156, 'tragedi': 157, 'census2020': 158, 'movement': 159, 'mail': 160, '@energycommerc': 161, 'owli': 162, 'concern': 163, 'everyth': 164, 'cover': 165, 'eranow': 166, 'lifesav': 167, 'standard': 168, 'airmen': 169, 'championship': 170, 'prolif': 171, 'proact': 172, 'healthcar': 173, 'mission': 174, 'process': 175, 'everyon': 176, 'bank': 177, 'troop': 178, 'ga': 179, 'washingtonexaminercom': 180, 'suffer': 181, 'plant': 182, 'weekend': 183, 'say': 184, 'bigotri': 185, 'mueller': 186, 'team': 187, 'enforc': 188, 'payrol': 189, '36': 190, 'commend': 191, 'accomplish': 192, 'motiv': 193, 'my2020censusgov': 194, 'be': 195, 'aca': 196, 'deposit': 197, '32': 198, 'undo': 199, 'represent': 200, 'communist': 201, 'alabama': 202, 'document': 203, 'mayor': 204, 'king': 205, 'mcconnel': 206, 'who': 207, 'chairman': 208, 'contain': 209, 'socialist': 210, 'soleimani': 211, 'traffick': 212, 'casework': 213, 'piec': 214, 'spirit': 215, 'white': 216, 'canada': 217, 'board': 218, 'racist': 219, 'hatr': 220, 'pro': 221, 'dem': 222, 'mourn': 223, 'younger': 224, 'mitch': 225, 'fli': 226, 'expedit': 227, 'revel': 228, 'unemploy': 229, 'affect': 230, 'deliv': 231, 'air': 232, 'iranian': 233, 'caresact': 234, 'mexico': 235, 'east': 236, 'trust': 237, 'all': 238, 'restor': 239, 'blackhistorymonth': 240, 'lgbtq': 241, 'hr8': 242, 'ope': 243, 'older': 244, 'phase': 245, 'effici': 246, '@vp': 247, 'stateofhealthcar': 248, '2': 249, 'innov': 250, 'thi': 251, 'group': 252, 'usmca': 253, 'weve': 254, 'valentin': 255, 'thrill': 256, '31': 257, 'near': 258, 'draft': 259, 'afternoon': 260, 'born': 261, 'period': 262, 'familiesfirst': 263, 'a': 264, 'reliabl': 265, 'victori': 266, 'apnewscom': 267, 'comput': 268, 'prove': 269, 'treasurygov': 270, 'guy': 271, 'trace': 272, 'struggl': 273, 'guid': 274, 'florida': 275, 'march': 276, 'appoint': 277, 'endgunviol': 278, 'catch': 279, 'price': 280, 'guard': 281, 'regulatori': 282, 'felt': 283, 'tell': 284, 'will': 285, 'extend': 286, 'protectourcar': 287, 'uncertain': 288, 'poverti': 289, 'export': 290, '273000': 291, 'acquit': 292, 'charad': 293, 'tragic': 294, 'panel': 295, 'driver': 296, 'medicar': 297, 'technolog': 298, 'number': 299, 'advantag': 300, 'uniform': 301, 'renew': 302, 'equal': 303, 'control': 304, 'civil': 305, 'antisemit': 306, 'clean': 307, 'al': 308, 'morn': 309, 'counti': 310, 'almost': 311, 'match': 312, 'lifelong': 313, 'expens': 314, 'landmark': 315, 'physic': 316, 'sexual': 317, 'seem': 318, 'smart': 319, 'sadden': 320, 'rent': 321, 'caution': 322, 'construct': 323, 'warm': 324, 'everywher': 325, 'suppli': 326, 'investig': 327, 'true': 328, 'lose': 329, 'owe': 330, 'bonni': 331, 'that': 332, 'highlight': 333, 'taliban': 334, 'truck': 335, 'hand': 336, 'outcom': 337, 'what': 338, 'posit': 339, 'recipi': 340, 'owner': 341, 'industri': 342, 'seriou': 343, 'hundr': 344, 'cyber': 345, 'becam': 346, 'nuclear': 347, 'footbal': 348, 'frequent': 349, 'five': 350, '@dcexamin': 351, 'green': 352, 'lawenforcementappreciationday': 353, 'whitehousegov': 354, 'creator': 355, 'overcom': 356, 'express': 357, 'racism': 358, 'advocaci': 359, 'roevwad': 360, 'testimoni': 361, 'giant': 362, '75': 363, 'equalityact': 364, '80': 365, 'rosa': 366, '2021': 367, 'affordablecareact': 368, '@cmsgov': 369, 'outreach': 370, 'wound': 371, 'comfort': 372, 'discharg': 373, 'properti': 374, 'evil': 375, 'sailor': 376, 'schiff': 377, 'passion': 378, 'inclus': 379, 'mayb': 380, 'popular': 381, 'hurrican': 382, 'expert': 383, 'washingtonpostcom': 384, 'session': 385, '@uscensusbureau': 386, 'win': 387, 'healthi': 388, 'az01': 389, 'freedom': 390, 'reform': 391, 'foster': 392, 'never': 393, 'form': 394, 'progress': 395, 'tri': 396, 'dreamer': 397, '200': 398, 'associ': 399, '1000': 400, 'commission': 401, 'buy': 402, 'paper': 403, 'disord': 404, 'daili': 405, 'campus': 406, 'prosper': 407, 'februari': 408, 'homeless': 409, 'spoke': 410, 'ground': 411, 'patient': 412, 'publicpriv': 413, '@uschamb': 414, 'scammer': 415, 'welfar': 416, 'creation': 417, 'afloat': 418, 'cough': 419, 'speed': 420, 'worth': 421, 'scotu': 422, 'v': 423, 'releas': 424, 'transgend': 425, 'swear': 426, 'condol': 427, 'assassin': 428, 'rev': 429, 'vigil': 430, 'nasagov': 431, 'internationalwomensday': 432, 'energi': 433, 'lawmak': 434, 'cast': 435, 'usdagov': 436, 'beacon': 437, 'contrast': 438, 'nashvil': 439, 'walker': 440, '@stevescalis': 441, 'captain': 442, 'adam': 443, 'stake': 444, 'throw': 445, 'copi': 446, '2002': 447, 'whi': 448, '@thejusticedept': 449, 'core': 450, 'politic': 451, 'tribal': 452, 'infrastructur': 453, 'frederick': 454, 'wage': 455, 'sgt': 456, 'manag': 457, 'livestock': 458, 'club': 459, 'closur': 460, 'shape': 461, 'reproduct': 462, 'ballot': 463, 'tribe': 464, 'council': 465, 'venezuela': 466, 'radic': 467, 'children': 468, 'bernardino': 469, 'share': 470, 'place': 471, 'leav': 472, 'health': 473, 'order': 474, 'river': 475, 'desk': 476, 'amount': 477, 'chair': 478, 'eye': 479, 'fair': 480, 'submit': 481, 'salut': 482, 'ceo': 483, 'matern': 484, 'vawa': 485, 'johnni': 486, 'competit': 487, 'major': 488, 'commun': 489, 'effort': 490, 'low': 491, 'broke': 492, 'fellow': 493, 'bright': 494, 'hr1': 495, '@redcross': 496, 'data': 497, 'worst': 498, 'cdcgov': 499, 'town hall': 500, 'hous democrat': 501, 'im work': 502, 'mental health': 503, 'new job': 504, 'gun violenc': 505, 'speaker pelosi': 506, 'us safe': 507, 'proud stand': 508, 'pass bill': 509, 'sick leav': 510, 'twittercom im': 511, 'right now': 512, 'access health': 513, 'mobil offic': 514, 'care worker': 515, 'bipartisan legisl': 516, 'feder fund': 517, 'health insur': 518, 'thank @realdonaldtrump': 519, 'paid sick': 520, 'today im': 521, 'supplement fund': 522, 'pass bipartisan': 523, 'job creat': 524, 'work peopl': 525, 'health crisi': 526, 'dark money': 527, 'partisan impeach': 528, 'job ad': 529, 'see mani': 530, 'great news': 531, 'farmer rancher': 532, 'telephon town': 533, 'presid @realdonaldtrump': 534, 'must ensur': 535, 'here facebookcom': 536, 'american commun': 537, 'take action': 538, 'climat chang': 539, 'thank @potu': 540, 'protect act': 541, '100 year': 542, 'child care': 543, 'farmer manufactur': 544, 'past time': 545, 'social secur': 546, 'last night': 547, 'special interest': 548, '@realdonaldtrump sign': 549, 'thank you': 550, 'state local': 551, 'vote right': 552, 'move forward': 553, 'public school': 554, 'protect right': 555, 'air forc': 556, 'expand access': 557, '2016 elect': 558, 'great see': 559, 'housegov im': 560, 'citizen unit': 561, 'time senat': 562, 'food assist': 563, 'im proud': 564, 'im hold': 565, 'stay healthi': 566, 'censu count': 567, 'dr king': 568, 'violenc women': 569, 'secur border': 570, 'resourc fair': 571, 'impeach process': 572, 'civil right': 573, 'facebook page': 574, 'rx drug': 575, 'spread coronaviru': 576, 'far long': 577, 'suprem court': 578, 'congress pass': 579, 'preexist condit': 580, 'women uniform': 581, 'help pass': 582, 'worker right': 583, 'ultim sacrific': 584, 'censu bureau': 585, 'famili affect': 586, 'last day': 587, 'cast vote': 588, 'work day': 589, 'learn appli': 590, 'introduc bipartisan': 591, 'import work': 592, 'inform visit': 593, 'health coverag': 594, 'law enforc': 595, 'health care': 596, 'click link': 597, '@potu sign': 598, 'work famili': 599, 'due process': 600, 'paycheck protect': 601, 'keep famili': 602, 'million american': 603, 'work forthepeopl': 604, 'safe healthi': 605, 'fair act': 606, 'commit fight': 607, 'commun access': 608, 'thank dedic': 609, 'communist parti': 610, 'staff hold': 611, 'keep american': 612, 'trade agreement': 613, 'protect program': 614, 'health safeti': 615, 'great state': 616, 'born aliv': 617, 'open enrol': 618, 'win american': 619, 'hold mobil': 620, 'montgomeri counti': 621, 'men women': 622, 'stop spread': 623, 'sign usmca': 624, 'enforc offic': 625, 'alway rememb': 626, 'make chang': 627, 'commun today': 628, 'sure everi': 629, 'spread word': 630, 'grate opportun': 631, 'work congress': 632, 'us economi': 633, 'unemploy rate': 634, 'crisi border': 635, 'equal right': 636, 'risk live': 637, 'young peopl': 638, 'offic hour': 639, 'presid trump': 640, 'progrowth polici': 641, '50 year': 642, 'need assist': 643, 'commun help': 644, 'visit 2020censusgov': 645, 'famili deserv': 646, 'today proud': 647, 'earlier year': 648, 'uncertain time': 649, 'presid sign': 650, 'money polit': 651, 'today @realdonaldtrump': 652, 'hour today': 653, 'higher educ': 654, 'make it': 655, 'im host': 656, 'act would': 657, 'proud announc': 658, 'manufactur busi': 659, 'farm bill': 660, 'us capitol': 661, 'cost american': 662, 'tax cut': 663, 'avail help': 664, 'hold telephon': 665, 'care provid': 666, 'resourc inform': 667, 'women equal': 668, 'one thing': 669, 'col vindman': 670, 'deserv access': 671, 'border secur': 672, 'work address': 673, 'let us': 674, 'housegov look': 675, 'tax return': 676, 'equal pay': 677, 'administr propos': 678, 'fight back': 679, 'pleas consid': 680, 'million job': 681, 'american worker': 682, 'servic sacrific': 683, 'aliv abort': 684, 'sanctuari citi': 685, 'access new': 686, 'first woman': 687, 'call offic': 688, 'test coronaviru': 689, 'follow @cdcgov': 690, 'good friend': 691, 'keep us': 692, 'art competit': 693, 'busi owner': 694, 'district offic': 695, 'one anoth': 696, 'hand sanit': 697, 'provid necessari': 698, 'local commun': 699, 'feder law': 700, 'great visit': 701, 'lowest level': 702, 'brave men': 703, 'avoid touch': 704, 'access qualiti': 705, 'twittercom trump': 706, 'were still': 707, 'day work': 708, 'help secur': 709, 'women act': 710, 'call email': 711, 'protect health': 712, 'defens product': 713, 'product act': 714, 'stay tune': 715, 'valentin day': 716, 'day night': 717, 'nation defens': 718, 'ive heard': 719, 'fight freedom': 720, 'democrat tri': 721, 'put polit': 722, 'democrat leadership': 723, 'relief american': 724, 'pelosi bring': 725, 'abort survivor': 726, 'worker front': 727, 'make voic': 728, '@realdonaldtrump today': 729, 'america today': 730, 'day one': 731, 'resourc guid': 732, 'hurrican michael': 733, 'trade deal': 734, 'work hard': 735, 'that im': 736, 'domest violenc': 737, '2020 censu': 738, 'im look': 739, 'drug cost': 740, 'middl east': 741, 'happen now': 742, 'take place': 743, 'chines communist': 744, 'twittercom congratul': 745, '36 unemploy': 746, 'support presid': 747, 'fight isi': 748, 'nation prescript': 749, 'promis kept': 750, 'thank law': 751, 'away famili': 752, 'im thank': 753, 'happi thanksgiv': 754, 'local state': 755, 'without doubt': 756, 'support commun': 757, 'stay afloat': 758, 'ill join': 759, 'visit my2020censusgov': 760, 'stand togeth': 761, 'without fear': 762, 'took import': 763, 'fight make': 764, 'month celebr': 765, 'mitch mcconnel': 766, 'housegov proud': 767, 'honor host': 768, 'support student': 769, 'gender equal': 770, 'equal work': 771, 'twittercom proud': 772, 'pass hr1': 773, 'tonight sotu': 774, 'countri deserv': 775, 'fill 2020': 776, 'doctor health': 777, 'today call': 778, 'follow cdc': 779, 'one safe': 780, 'gener come': 781, 'work state': 782, 'across globe': 783, 'protect environ': 784, 'know firsthand': 785, 'state thank': 786, 'fair pay': 787, 'pay act': 788, 'look back': 789, 'happi announc': 790, 'protect older': 791, 'thank honor': 792, 'night keep': 793, 'peopl work': 794, 'long time': 795, 'import know': 796, 'america farmer': 797, 'weve done': 798, 'frequent ask': 799, 'state today': 800, 'help nation': 801, 'older american': 802, 'us job': 803, 'send messag': 804, 'adam schiff': 805, 'twittercom @realdonaldtrump': 806, 'survivor protect': 807, 'district work': 808, 'improv stateofhealthcar': 809, 'togeth protect': 810, 'fight get': 811, 'countri honor': 812, 'repeal 2002': 813, 'court decis': 814, 'today it': 815, 'busi thank': 816, 'new medicin': 817, 'usmca creat': 818, '50year low': 819, 'updat covid19': 820, 'privat sector': 821, 'congression district': 822, 'good news': 823, 'famili safe': 824, 'coronaviru covid19': 825, 'full interview': 826, 'reach offic': 827, 'san bernardino': 828, 'american peopl': 829, 'stop offic': 830, '2019 congression': 831, 'econom growth': 832, 'question feder': 833, 'access resourc': 834, 'afford health': 835, 'rural area': 836, 'valentin veteran': 837, 'impeach sham': 838, '@realdonaldtrump sotu': 839, 'partisan polit': 840, 'econom opportun': 841, 'appreci meet': 842, 'unit state': 843, 'bipartisan bill': 844, 'keep promis': 845, 'year ago': 846, 'legisl help': 847, '75 year': 848, 'join colleagu': 849, 'job report': 850, 'wage growth': 851, 'continu fight': 852, 'school student': 853, 'keep commun': 854, 'commun countri': 855, 'commun resourc': 856, 'care act': 857, 'covid19 resourc': 858, 'put togeth': 859, 'take step': 860, 'must keep': 861, 'keep fight': 862, 'health center': 863, 'week hous': 864, 'commun health': 865, '200 pm': 866, 'pass usmca': 867, 'tax relief': 868, '@realdonaldtrump desk': 869, 'militari readi': 870, 'unemploy benefit': 871, 'famili small': 872, 'introduc bill': 873, 'detail here': 874, '7 million': 875, 'sinc day': 876, 'illeg immigr': 877, 'feder agenc': 878, 'american safe': 879, 'act pass': 880, 'access afford': 881, 'farm bureau': 882, 'floor vote': 883, 'highspe internet': 884, 'academi day': 885, 'import step': 886, 'american across': 887, 'info here': 888, 'deserv know': 889, 'there still': 890, 'way help': 891, 'commun get': 892, 'defend countri': 893, 'honor meet': 894, 'discuss work': 895, 'ensur everi': 896, 'help feder': 897, 'militari famili': 898, 'famili across': 899, 'hear directli': 900, 'bill expand': 901, 'work across': 902, 'defend nation': 903, 'im urg': 904, 'protect equip': 905, 'put food': 906, 'food tabl': 907, 'help save': 908, 'learn work': 909, 'subcommitte hear': 910, 'everi year': 911, 'servicememb famili': 912, 'make payrol': 913, 'govern take': 914, 'economi ad': 915, '@realdonaldtrump commit': 916, 'forest product': 917, 'connect resourc': 918, 'read letter': 919, 'meet me': 920, 'trace act': 921, 'today discuss': 922, 'emerg relief': 923, 'border crisi': 924, 'free covid19': 925, 'twittercom happen': 926, 'resourc avail': 927, '@potu @realdonaldtrump': 928, 'first district': 929, 'high school': 930, 'page facebookcom': 931, 'week washington': 932, 'twittercom great': 933, 'train program': 934, 'american farmer': 935, 'agreement usmca': 936, 'bring usmca': 937, 'im honor': 938, 'million small': 939, 'anoth great': 940, 'secur benefit': 941, 'pass away': 942, 'bill help': 943, 'truck driver': 944, 'due coronaviru': 945, 'full equal': 946, 'protect commun': 947, 'highqual afford': 948, 'thank visit': 949, 'sure get': 950, 'watch full': 951, 'continu deliv': 952, 'must make': 953, 'learn import': 954, 'american deserv': 955, 'background check': 956, 'bipartisan work': 957, 'colleagu side': 958, 'congress im': 959, 'get work': 960, 'bitli twittercom': 961, 'protect public': 962, 'vote favor': 963, 'fight protect': 964, 'one import': 965, 'power act': 966, 'improv health': 967, 'execut order': 968, 'world health': 969, 'fill censu': 970, 'thank meet': 971, '273000 new': 972, 'us must': 973, 'first step': 974, 'thank presid': 975, 'work us': 976, 'rebuild militari': 977, '@realdonaldtrump polici': 978, 'big win': 979, 'pelosi hous': 980, '25 million': 981, '@realdonaldtrump address': 982, '500 pm': 983, 'know need': 984, 'senat act': 985, 'need work': 986, 'educ student': 987, 'senat floor': 988, 'staff help': 989, 'join me': 990, 'now im': 991, 'look resourc': 992, 'housegov tomorrow': 993, 'tomorrow ill': 994, 'alway great': 995, 'must held': 996, 'us hous': 997, 'sotu presid': 998, 'famili medic': 999, 'medic leav': 1000, 'enrol period': 1001, 'work american': 1002, 'resourc need': 1003, 'join us': 1004, 'militari widow': 1005, '8th district': 1006, 'more bitli': 1007, 'vote pass': 1008, 'difficult time': 1009, 'tribal commun': 1010, 'teletown hall': 1011, 'question concern': 1012, 'frederick counti': 1013, 'medic suppli': 1014, 'govern privat': 1015, 'act provid': 1016, 'strong support': 1017, '31 wage': 1018, 'white hous': 1019, 'made promis': 1020, 'let get': 1021, 'get back': 1022, 'tonight vote': 1023, 'vote democrat': 1024, 'thank take': 1025, 'back day': 1026, 'give student': 1027, 'voic heard': 1028, 'law make': 1029, 'congression gold': 1030, 'im excit': 1031, 'local law': 1032, 'week thank': 1033, 'made ultim': 1034, 'support local': 1035, '2018 farm': 1036, 'everi singl': 1037, 'countri thank': 1038, 'effort combat': 1039, 'state militari': 1040, 'naval air': 1041, 'help student': 1042, 'year great': 1043, 'support great': 1044, 'perfect union': 1045, 'safe twittercom': 1046, 'number one': 1047, 'thank come': 1048, 'nation small': 1049, 'school hospit': 1050, 'find here': 1051, 'ensur health': 1052, 'way support': 1053, 'today twittercom': 1054, 'import ever': 1055, 'familiesfirst coronaviru': 1056, 'practic social': 1057, 'combat coronaviru': 1058, 'take necessari': 1059, 'soap water': 1060, 'touch eye': 1061, 'eye nose': 1062, 'nose mouth': 1063, 'today took': 1064, 'step forward': 1065, 'work done': 1066, 'fight climat': 1067, 'commun proud': 1068, 'spend time': 1069, 'today mourn': 1070, 'housegov one': 1071, 'twittercom call': 1072, 'climat crisi': 1073, 'work get': 1074, 'get thing': 1075, 'help american': 1076, 'time celebr': 1077, 'access american': 1078, 'colleagu pass': 1079, 'earlier month': 1080, 'student leader': 1081, 'us work': 1082, 'rosa park': 1083, 'includ mani': 1084, 'common sens': 1085, 'stayathom order': 1086, 'line crisi': 1087, 'healthcar system': 1088, 'bipartisan care': 1089, 'protect expand': 1090, 'pay mortgag': 1091, 'senat take': 1092, 'state need': 1093, 'famili get': 1094, 'get assist': 1095, 'twittercom remind': 1096, 'sacrific countri': 1097, 'togeth find': 1098, 'access safe': 1099, 'violenc survivor': 1100, 'prioriti year': 1101, '2 pm': 1102, 'learn resourc': 1103, 'avail you': 1104, 'qualiti afford': 1105, 'long past': 1106, 'ope here': 1107, 'toward justic': 1108, 'legisl assist': 1109, 'age discrimin': 1110, '4 pm': 1111, 'thank dr': 1112, 'hall tomorrow': 1113, 'pleas follow': 1114, 'deal coronaviru': 1115, 'coronaviru relief': 1116, 'coronaviru everi': 1117, 'twittercom let': 1118, 'support them': 1119, 'congress get': 1120, 'trump sign': 1121, 'impeach charad': 1122, 'record low': 1123, 'kill american': 1124, 'servic nation': 1125, 'counti commission': 1126, 'yesterday discuss': 1127, 'time pass': 1128, 'across world': 1129, 'democrat colleagu': 1130, 'discharg petit': 1131, '@usda @secretarysonni': 1132, 'live unborn': 1133, 'came togeth': 1134, '2 year': 1135, 'hope join': 1136, 'natl secur': 1137, '5 year': 1138, 'plan make': 1139, 'father three': 1140, 'feder grant': 1141, '150 year': 1142, 'state check': 1143, 'need access': 1144, 'keep push': 1145, 'colleagu call': 1146, 'lower rx': 1147, 'pfa chemic': 1148, 'call center': 1149, 'housegov were': 1150, 'american work': 1151, 'global pandem': 1152, 'blame us': 1153, 'get fact': 1154, 'sbagov thank': 1155, 'great group': 1156, 'trump sinc': 1157, 'twittercom it': 1158, '68 billion': 1159, 'boost economi': 1160, 'rent util': 1161, 'stand life': 1162, 'care thank': 1163, 'partisan bill': 1164, 'benefit avail': 1165, 'inform appli': 1166, 'right amend': 1167, 'fight antisemit': 1168, 'make everi': 1169, 'asian american': 1170, '5 pm': 1171, 'safe legal': 1172, 'prey upon': 1173, 'usmca would': 1174, '80th birthday': 1175, 'yet come': 1176, 'today join': 1177, 'agenc program': 1178, 'pass hous': 1179, 'congression art': 1180, 'need help': 1181, 'proud join': 1182, 'question answer': 1183, 'impeach @realdonaldtrump': 1184, 'iranian regim': 1185, '@oversightdem hear': 1186, 'best help': 1187, 'websit list': 1188, 'latest updat': 1189, 'bipartisan support': 1190, 'across state': 1191, 'american spirit': 1192, 'deal put': 1193, 'million invest': 1194, 'today jobsreport': 1195, 'result 2016': 1196, 'usmca floor': 1197, 'awar month': 1198, 'work continu': 1199, 'workforc thank': 1200, 'promis made': 1201, 'healthcar educ': 1202, 'busi provid': 1203, 'it time': 1204, 'see friend': 1205, 'issu matter': 1206, 'ensur voic': 1207, 'publicpriv partnership': 1208, 'ensur local': 1209, 'travel washington': 1210, 'record high': 1211, 'step help': 1212, 'today introduc': 1213, 'compani like': 1214, 'return home': 1215, 'arm forc': 1216, 'thank everi': 1217, 'veteran serv': 1218, 'the us': 1219, 'militari academi': 1220, 'west point': 1221, 'countri make': 1222, 'year cnbccom': 1223, 'bill support': 1224, 'us servic': 1225, 'wwii veteran': 1226, 'job creation': 1227, 'strengthen protect': 1228, 'year look': 1229, 'veteran thank': 1230, 'great stori': 1231, 'job higher': 1232, 'thank support': 1233, 'mother day': 1234, 'cut job': 1235, 'next gener': 1236, 'accur censu': 1237, 'were see': 1238, 'take minut': 1239, 'monday march': 1240, 'question need': 1241, 'that work': 1242, 'test need': 1243, 'necessari precaut': 1244, 'local resourc': 1245, 'tell us': 1246, 'step take': 1247, 'famili healthi': 1248, 'continu advoc': 1249, 'housegov ive': 1250, 'equal constitut': 1251, 'constitut eranow': 1252, 'commun blackhistorymonth': 1253, 'commun count': 1254, 'work build': 1255, 'american valu': 1256, 'congression scorecard': 1257, 'pass hr3': 1258, 'us censu': 1259, 'would provid': 1260, 'democraci attack': 1261, 'act protect': 1262, 'housegov it': 1263, 'that introduc': 1264, 'program today': 1265, 'risk health': 1266, 'like one': 1267, 'fund commun': 1268, 'conduct oversight': 1269, 'fair wage': 1270, 'stand hatr': 1271, 'racist attack': 1272, 'everi person': 1273, 'must recommit': 1274, 'tonight im': 1275, 'educ program': 1276, 'commun includ': 1277, 'servic countri': 1278, 'women access': 1279, 'take import': 1280, 'world better': 1281, 'time like': 1282, 'now need': 1283, 'law presid': 1284, 'proud see': 1285, 'proud origin': 1286, 'improv commun': 1287, 'protect make': 1288, 'make harder': 1289, 'work today': 1290, 'best work': 1291, 'nation emerg': 1292, 'go around': 1293, 'also creat': 1294, 'time let': 1295, 'one difficult': 1296, 'made sure': 1297, 'way make': 1298, 'pass two': 1299, 'two bipartisan': 1300, 'forthepeopl act': 1301, 'day everi': 1302, 'protect serv': 1303, 'famili join': 1304, 'need file': 1305, 'major disast': 1306, 'resourc here': 1307, 'especi rural': 1308, 'today equalpayday': 1309, 'day women': 1310, 'wage gap': 1311, 'work issu': 1312, 'american abroad': 1313, 'recent pass': 1314, 'lifesav work': 1315, 'countri around': 1316, 'know im': 1317, 'legisl improv': 1318, 'pandem work': 1319, 'bipartisan group': 1320, 'need test': 1321, 'confirm case': 1322, 'state offici': 1323, 'counti commun': 1324, 'commun healthi': 1325, 'health profession': 1326, 'late last': 1327, 'get count': 1328, 'women made': 1329, 'pay equal': 1330, 'stay date': 1331, 'opportun meet': 1332, 'talk import': 1333, 'week join': 1334, 'educ system': 1335, 'intern dc': 1336, 'addit inform': 1337, 'feder offici': 1338, 'veteran benefit': 1339, 'public educ': 1340, 'resolut recogn': 1341, 'learn best': 1342, '80 year': 1343, 'key provis': 1344, 'resourc program': 1345, 'lilli ledbett': 1346, 'ledbett fair': 1347, 'lunar new': 1348, 'work better': 1349, 'come first': 1350, 'encourag use': 1351, 'report fraud': 1352, 'continu pay': 1353, 'around countri': 1354, '20 year': 1355, 'peopl employ': 1356, 'thank healthcar': 1357, 'line coronaviru': 1358, 'help health': 1359, 'pass caresact': 1360, 'distanc help': 1361, 'visit coronavirusgov': 1362, 'use time': 1363, 'women continu': 1364, 'covid19 nation': 1365, 'sever blood': 1366, 'blood shortag': 1367, 'covid19 expos': 1368, 'way give': 1369, 'see compani': 1370, 'togeth overcom': 1371, 'coronaviru pleas': 1372, 'must hold': 1373, 'congression deleg': 1374, 'sever impact': 1375, 'billion emerg': 1376, 'emerg supplement': 1377, 'step taken': 1378, 'made great': 1379, 'republican work': 1380, 'servic need': 1381, '70 year': 1382, 'month unemploy': 1383, 'send deepest': 1384, 'deepest condol': 1385, 'home busi': 1386, 'would make': 1387, 'justic victim': 1388, 'great job': 1389, 'express support': 1390, 'better protect': 1391, 'economi boom': 1392, 'consid donat': 1393, 'suppli equip': 1394, 'covid19 us': 1395, 'us respons': 1396, 'legisl sign': 1397, 'support men': 1398, 'sinc @potu': 1399, '@realdonaldtrump great': 1400, 'great discuss': 1401, 'reform lower': 1402, 'want undo': 1403, 'fight terror': 1404, 'one worst': 1405, 'build upon': 1406, 'upon success': 1407, 'winner 2019': 1408, 'sacrific servic': 1409, 'guarante women': 1410, 'ensur equal': 1411, 'happi nation': 1412, 'sign discharg': 1413, 'care commun': 1414, 'deadlin submit': 1415, 'thank farmer': 1416, 'mani sacrific': 1417, 'see result': 1418, 'let stay': 1419, 'peopl need': 1420, 'expand unemploy': 1421, 'file deadlin': 1422, 'peopl safe': 1423, 'were togeth': 1424, 'peopl make': 1425, 'work protect': 1426, 'coronaviru hear': 1427, '1 year': 1428, 'cant wait': 1429, 'could make': 1430, 'year help': 1431, 'twittercom live': 1432, 'happi valentin': 1433, 'togeth improv': 1434, 'help fill': 1435, '11 year': 1436, 'pass histor': 1437, 'servic provid': 1438, 'want extend': 1439, 'day 2020': 1440, 'also take': 1441, 'talk way': 1442, 'all im': 1443, 'fund school': 1444, 'day let': 1445, 'fix it': 1446, 'roll back': 1447, 'hear what': 1448, 'were make': 1449, 'it right': 1450, 'fight restor': 1451, 'need put': 1452, 'legisl like': 1453, 'done twittercom': 1454, 'devast impact': 1455, 'help call': 1456, 'w peopl': 1457, 'busi housegov': 1458, 'test free': 1459, 'sick day': 1460, 'action today': 1461, 'hand often': 1462, 'need job': 1463, 'mani peopl': 1464, 'honor celebr': 1465, '2002 aumf': 1466, 'senat refus': 1467, 'everi month': 1468, 'state marin': 1469, 'act housegov': 1470, 'reauthor vawa': 1471, 'resourc small': 1472, 'violenc must': 1473, 'help busi': 1474, 'job well': 1475, 'elect serv': 1476, 'sinc introduc': 1477, 'day must': 1478, 'nation prayer': 1479, '60 million': 1480, 'senat today': 1481, '30 million': 1482, 'use payrol': 1483, '8 week': 1484, 'encourag see': 1485, 'guidanc @cdcgov': 1486, 'polit asid': 1487, 'lot peopl': 1488, 'intellig agenc': 1489, 'solid plan': 1490, 'way prevent': 1491, 'threat nation': 1492, 'nation face': 1493, 'loan help': 1494, 'protect life': 1495, 'provid direct': 1496, 'combat spread': 1497, 'togeth condemn': 1498, 'today appreci': 1499, 'keep us safe': 1500, 'health care worker': 1501, 'mobil offic hour': 1502, 'paid sick leav': 1503, 'telephon town hall': 1504, 'public health crisi': 1505, 'im proud stand': 1506, 'men women uniform': 1507, 'continu work togeth': 1508, 'great see mani': 1509, 'paycheck protect program': 1510, 'twittercom im proud': 1511, 'access health care': 1512, 'hold mobil offic': 1513, 'law enforc offic': 1514, 'make sure everi': 1515, 'pass bipartisan bill': 1516, 'staff hold mobil': 1517, 'im hold telephon': 1518, 'hold telephon town': 1519, 'lt col vindman': 1520, 'get back work': 1521, 'born aliv abort': 1522, 'brave men women': 1523, 'violenc women act': 1524, 'defens product act': 1525, 'introduc bipartisan bill': 1526, 'act would provid': 1527, 'aliv abort survivor': 1528, 'town hall tomorrow': 1529, 'make voic heard': 1530, 'read here housegov': 1531, '@realdonaldtrump sign usmca': 1532, 'im look forward': 1533, 'chines communist parti': 1534, 'work american peopl': 1535, 'thank law enforc': 1536, 'fight make sure': 1537, 'love one safe': 1538, 'fair pay act': 1539, 'work day night': 1540, 'day night keep': 1541, 'frequent ask question': 1542, 'abort survivor protect': 1543, 'survivor protect act': 1544, 'work togeth protect': 1545, 'afford health care': 1546, 'keep american safe': 1547, 'american across countri': 1548, 'keep famili safe': 1549, 'put food tabl': 1550, 'offic hour today': 1551, 'facebook page facebookcom': 1552, 'stop spread coronaviru': 1553, 'health care provid': 1554, 'work make sure': 1555, 'famili across countri': 1556, 'dark money polit': 1557, 'cost prescript drug': 1558, '273000 new job': 1559, 'vote articl impeach': 1560, 'keep peopl safe': 1561, 'need work togeth': 1562, 'sinc day one': 1563, 'must held account': 1564, 'protect american live': 1565, 'famili medic leav': 1566, 'visit websit housegov': 1567, 'govern privat sector': 1568, '31 wage growth': 1569, 'thank take time': 1570, 'local law enforc': 1571, 'made ultim sacrific': 1572, '2018 farm bill': 1573, 'million small busi': 1574, 'unit state militari': 1575, 'nation small busi': 1576, 'familiesfirst coronaviru respons': 1577, 'practic social distanc': 1578, 'avoid touch eye': 1579, 'touch eye nose': 1580, 'eye nose mouth': 1581, 'im work make': 1582, 'mental health care': 1583, 'get thing done': 1584, 'make sure get': 1585, 'front line crisi': 1586, 'bipartisan care act': 1587, 'worker first respond': 1588, 'help save live': 1589, 'learn resourc avail': 1590, 'read ope here': 1591, 'lower drug cost': 1592, 'state local offici': 1593, 'presid trump sign': 1594, 'pelosi hous democrat': 1595, 'speaker pelosi bring': 1596, 'plan make sure': 1597, 'afford care act': 1598, 'hous pass bill': 1599, 'presid trump sinc': 1600, 'partisan impeach process': 1601, 'read more housegov': 1602, 'equal right amend': 1603, 'open enrol period': 1604, 'town hall tonight': 1605, 'worker front line': 1606, 'feder agenc program': 1607, 'congression art competit': 1608, 'deal put american': 1609, 'result 2016 elect': 1610, 'promis made promis': 1611, 'made promis kept': 1612, 'ensur voic heard': 1613, 'support local busi': 1614, 'thank brave men': 1615, 'tax cut job': 1616, 'cut job act': 1617, 'twittercom im live': 1618, 'accur censu count': 1619, 'need assist pleas': 1620, 'take necessari precaut': 1621, 'took import step': 1622, 'import step forward': 1623, 'us censu bureau': 1624, 'women right vote': 1625, 'make world better': 1626, 'world better place': 1627, 'must make sure': 1628, 'sign law presid': 1629, 'proud origin cosponsor': 1630, 'love one difficult': 1631, 'one difficult time': 1632, 'major disast declar': 1633, 'protect public land': 1634, 'fill 2020 censu': 1635, 'doctor health care': 1636, 'late last night': 1637, 'equal pay equal': 1638, 'proud introduc bipartisan': 1639, 'improv health care': 1640, 'long past time': 1641, 'lilli ledbett fair': 1642, 'ledbett fair pay': 1643, 'lunar new year': 1644, 'work keep commun': 1645, 'front line coronaviru': 1646, 'feder state local': 1647, 'social distanc help': 1648, 'men women continu': 1649, 'sever blood shortag': 1650, 'were work hard': 1651, 'month unemploy rate': 1652, 'medic suppli equip': 1653, 'inform visit websit': 1654, 'legisl sign law': 1655, 'support men women': 1656, 'nation prescript drug': 1657, 'build upon success': 1658, 'guarante women right': 1659, 'sign discharg petit': 1660, 'local state feder': 1661, 'happi valentin day': 1662, 'work togeth improv': 1663, '11 year ago': 1664, 'hundr million dollar': 1665, 'work weve done': 1666, 'wash hand often': 1667, 'repeal 2002 aumf': 1668, 'suprem court decis': 1669, 'unit state marin': 1670, 'servic countri honor': 1671, 'health care need': 1672, 'put polit asid': 1673, 'protect american peopl': 1674, 'articl impeach senat': 1675, 'famili your merri': 1676, 'your merri christma': 1677, 'democrat would rather': 1678, 'coronaviru aid relief': 1679, 'aid relief econom': 1680, 'relief econom secur': 1681, 'sign usmca law': 1682, 'liber auschwitz must': 1683, 'farmer rancher busi': 1684, 'next gener leader': 1685, 'town hall covid19': 1686, 'housegov great meet': 1687, 'pleas contact offic': 1688, 'im proud cosponsor': 1689, 'protect small busi': 1690, 'cesarchavezday let us': 1691, 'let us thank': 1692, 'pm ill join': 1693, 'join presid trump': 1694, 'access new medicin': 1695, 'new medicin cure': 1696, 'today celebr 100': 1697, 'celebr 100 year': 1698, 'year ago today': 1699, 'worker small busi': 1700, 'proud announc fund': 1701, 'air forc base': 1702, 'proud help pass': 1703, 'look forward work': 1704, 'look forward join': 1705, '75 year ago': 1706, '2019 congression art': 1707, 'help make sure': 1708, 'famili small busi': 1709, 'may god bless': 1710, 'make sure everyon': 1711, 'act pass hous': 1712, 'twittercom look forward': 1713, 'high school student': 1714, 'one year ago': 1715, 'keep commun safe': 1716, 'work across aisl': 1717, 'commun health center': 1718, 'town hall meet': 1719, 'mental health resourc': 1720, 'tomorrow staff hold': 1721, 'week hous vote': 1722, 'detail here housegov': 1723, 'small busi develop': 1724, 'million new job': 1725, 'impeach presid trump': 1726, 'farmer manufactur worker': 1727, 'look forward continu': 1728, '21st centuri trade': 1729, 'dispos expir unus': 1730, 'medicar social secur': 1731, 'art competit winner': 1732, 'social secur benefit': 1733, 'pass bipartisan legisl': 1734, 'highqual afford health': 1735, 'make health care': 1736, 'must keep fight': 1737, 'colleagu side aisl': 1738, 'hous pass bipartisan': 1739, 'result american peopl': 1740, 'unit state america': 1741, 'martin luther king': 1742, 'luther king jr': 1743, 'assist feder agenc': 1744, 'famili safe healthi': 1745, 'person protect equip': 1746, 'public health worker': 1747, 'forward work togeth': 1748, 'address public health': 1749, 'get dark money': 1750, 'read full statement': 1751, 'statement here housegov': 1752, 'read here owli': 1753, 'us economi ad': 1754, 'economi ad 273000': 1755, 'ad 273000 new': 1756, 'unit statesmexicocanada agreement': 1757, 'special counsel robert': 1758, 'counsel robert mueller': 1759, 'happi founder day': 1760, 'live preexist condit': 1761, 'happen now im': 1762, 'twittercom presid trump': 1763, '7 million new': 1764, 'unemploy 50 year': 1765, 'circuit court judg': 1766, 'speaker pelosi hous': 1767, 'us hous repres': 1768, 'host telephon town': 1769, 'learn more pleas': 1770, 'throughout covid19 pandem': 1771, 'speak member team': 1772, 'montgomeri counti resid': 1773, 'visit websit below': 1774, 'help stop spread': 1775, 'paid famili medic': 1776, 'first congression district': 1777, 'take look enewslett': 1778, 'look enewslett see': 1779, 'hous floor vote': 1780, 'economi creat job': 1781, 'everi singl day': 1782, 'unus prescript drug': 1783, 'prescript drug support': 1784, 'wait far long': 1785, 'small busi week': 1786, 'ensur health safeti': 1787, 'one best way': 1788, 'visit websit learn': 1789, 'pleas dont hesit': 1790, 'dont hesit contact': 1791, 'make sure american': 1792, 'ill continu work': 1793, 'there still work': 1794, 'still work done': 1795, 'fight climat chang': 1796, 'there still time': 1797, 'lower health care': 1798, 'reach across aisl': 1799, 'help pass bipartisan': 1800, 'two year sinc': 1801, 'access highqual afford': 1802, 'feder hous polici': 1803, 'access resourc allow': 1804, 'health care choic': 1805, 'civil right protect': 1806, 'today im join': 1807, 'commun make sure': 1808, 'american peopl look': 1809, 'im work ensur': 1810, 'protect health safeti': 1811, 'presid sign law': 1812, 'improv broadband access': 1813, 'health care million': 1814, 'care million american': 1815, 'pay mortgag put': 1816, 'mortgag put food': 1817, 'leader health offici': 1818, 'sick leav famili': 1819, 'bipartisan bill would': 1820, 'issu social secur': 1821, 'work togeth find': 1822, 'qualiti mental health': 1823, 'puppi assist wound': 1824, 'assist wound servicememb': 1825, 'wound servicememb paw': 1826, 'servicememb paw veteran': 1827, 'paw veteran therapi': 1828, 'veteran therapi act': 1829, 'address mental health': 1830, 'staff work hard': 1831, 'hour facebook page': 1832, 'today last day': 1833, 'proud vote favor': 1834, 'dr martin luther': 1835, 'drug cost act': 1836, 'world health organ': 1837, 'close due covid19': 1838, 'true blue award': 1839, 'support veteran stem': 1840, 'veteran stem career': 1841, 'stem career act': 1842, 'great american comeback': 1843, 'statesmexicocanada agreement usmca': 1844, 'wast time money': 1845, 'unit state stand': 1846, 'everi day keep': 1847, 'drug take back': 1848, 'take back day': 1849, 'humanitarian crisi border': 1850, 'twittercom thank @realdonaldtrump': 1851, 'relief american across': 1852, 'said time again': 1853, 'includ hurrican michael': 1854, 'front line pandem': 1855, 'new small busi': 1856, 'thank everyon came': 1857, 'montgomeri bu boycott': 1858, 'delta sigma theta': 1859, 'sigma theta soror': 1860, 'theta soror inc': 1861, 'today hous took': 1862, 'forest product industri': 1863, 'father three know': 1864, 'town hall look': 1865, 'hall look forward': 1866, 'join town hall': 1867, '150 year ago': 1868, 'worker famili small': 1869, 'prevent spread viru': 1870, 'protect right organ': 1871, 'right organ act': 1872, 'american worker famili': 1873, 'lower rx drug': 1874, 'it past time': 1875, 'rx drug price': 1876, 'mental health substanc': 1877, 'health substanc abus': 1878, 'download here housegov': 1879, 'women act vawa': 1880, 'time senat act': 1881, 'small busi commun': 1882, 'small busi pay': 1883, 'communist parti china': 1884, 'state local author': 1885, 'back work american': 1886, 'record low unemploy': 1887, '@realdonaldtrump continu deliv': 1888, 'continu deliv promis': 1889, 'trump sinc day': 1890, 'pay rais troop': 1891, 'phase one trade': 1892, 'one trade agreement': 1893, 'trade agreement china': 1894, 'enewslett see week': 1895, 'surviv abort attempt': 1896, 'sotu presid trump': 1897, 'everi human life': 1898, 'duli elect presid': 1899, 'hous democrat leadership': 1900, 'attack pearl harbor': 1901, 'crisi southern border': 1902, 'fund border secur': 1903, 'visit sbagov inform': 1904, 'congression medal honor': 1905, 'hand often soap': 1906, 'often soap water': 1907, 'gun violenc survivor': 1908, 'cant make it': 1909, 'victim gun violenc': 1910, 'stop mobil offic': 1911, 'get assist feder': 1912, 'mental health servic': 1913, 'follow @cdcgov guidelin': 1914, 'make everi day': 1915, 'join us import': 1916, 'navig covid19 pandem': 1917, 'covid19 resourc guid': 1918, 'covid19 pandem check': 1919, 'help one anoth': 1920, 'asian american commun': 1921, 'covid19 pandem offic': 1922, 'twittercom happen now': 1923, 'special open enrol': 1924, 'housegov small busi': 1925, 'address opioid epidem': 1926, 'peac middl east': 1927, 'join import convers': 1928, 'access safe legal': 1929, 'safe legal abort': 1930, '@vp mike penc': 1931, 'thank meet me': 1932, 'farmer manufactur busi': 1933, 'im host telephon': 1934, 'beauti 8th district': 1935, 'counti mobil offic': 1936, 'im work congress': 1937, 'everi level govern': 1938, 'inform pleas visit': 1939, 'nation defens author': 1940, 'defens author act': 1941, 'author act ndaa': 1942, 'stay home effort': 1943, 'home effort stop': 1944, 'effort stop spread': 1945, 'control prevent cdc': 1946, 'coronaviru outbreak learn': 1947, 'expand access afford': 1948, 'look forward what': 1949, 'forward what come': 1950, 'farm bureau invit': 1951, '@potu sign usmca': 1952, 'trade deal put': 1953, 'put american farmer': 1954, 'strong american economi': 1955, 'law enforc thank': 1956, 'work keep us': 1957, 'american peopl twittercom': 1958, 'centuri trade deal': 1959, 'bring usmca floor': 1960, 'take time busi': 1961, 'due process continu': 1962, 'back day saturday': 1963, 'im commit ensur': 1964, 'access healthcar educ': 1965, 'time nafta replac': 1966, 'nafta replac 21st': 1967, 'replac 21st centuri': 1968, 'centuri trade agreement': 1969, 'voic heard washington': 1970, 'high school talk': 1971, 'take proactiv measur': 1972, 'congression gold medal': 1973, 'commun across countri': 1974, 'honor spend morn': 1975, 'ensur local law': 1976, 'polic week thank': 1977, 'stop offic thank': 1978, 'live keep us': 1979, 'nation polic week': 1980, 'washington week honor': 1981, 'act import step': 1982, 'man dedic life': 1983, 'fight everi day': 1984, 'spirit enterpris award': 1985, 'head start program': 1986, 'everyon stay safe': 1987, 'line duti keep': 1988, 'bill hous pass': 1989, 'thank everi day': 1990, '100 year ago': 1991, 'countri thank servic': 1992, 'dispos unus prescript': 1993, 'famili member friend': 1994, 'work toward end': 1995, 'twittercom @potu sign': 1996, 'help fellow veteran': 1997, 'first time sinc': 1998, 'naval air forc': 1999, 'air forc coast': 2000, 'forc coast guard': 2001, 'middl class famili': 2002, 'year great news': 2003, 'award continu fight': 2004, 'form perfect union': 2005, 'new job ad': 2006, 'econom news us': 2007, 'us servic member': 2008, 'growth job creation': 2009, 'home safe twittercom': 2010, 'year look forward': 2011, 'thank come by': 2012, 'team help you': 2013, 'art competit artwork': 2014, 'happi father day': 2015, 'countri thank you': 2016, 'thank first respond': 2017, 'first respond law': 2018, 'respond law enforc': 2019, 'kill line duti': 2020, 'happi mother day': 2021, 'thank everyon particip': 2022, '2017 tax cut': 2023, 'middl school student': 2024, 'creat new job': 2025, 'here sbagov twittercom': 2026, 'fill census2020 form': 2027, 'year congression art': 2028, 'find here housegov': 2029, 'best way support': 2030, 'way support commun': 2031, 'direct cash payment': 2032, 'small busi increas': 2033, 'thank health care': 2034, 'resourc avail help': 2035, 'websit learn more': 2036, 'monday march 23rd': 2037, 'answer question coronaviru': 2038, 'question need assist': 2039, 'care love one': 2040, 'covid19 resourc avail': 2041, 'import step toward': 2042, 'respons act would': 2043, 'act would give': 2044, 'free coronaviru test': 2045, 'health safeti commun': 2046, 'keep famili healthi': 2047, 'women equal constitut': 2048, 'equal constitut eranow': 2049, 'that im work': 2050, 'everi member commun': 2051, 'american valu twittercom': 2052, 'sure american access': 2053, 'american access qualiti': 2054, 'reproduct health care': 2055, 'end citizen unit': 2056, 'honor life legaci': 2057, 'plan work famili': 2058, 'help commun get': 2059, '275 bipartisan bill': 2060, 'it time senat': 2061, 'today rememb lost': 2062, 'honor spend time': 2063, 'comprehens health care': 2064, 'proud join bipartisan': 2065, 'commun live fear': 2066, 'discuss work were': 2067, 'famili cant afford': 2068, 'twittercom climat chang': 2069, 'make problem wors': 2070, 'im proud join': 2071, 'congress abl pass': 2072, 'great place start': 2073, 'take step toward': 2074, 'intellig commun made': 2075, 'allianc retir american': 2076, 'bipartisan bill help': 2077, 'deliv result forthepeopl': 2078, 'disgust @realdonaldtrump continu': 2079, 'last week announc': 2080, 'survivor domest violenc': 2081, 'violenc sexual assault': 2082, 'speaker pro tempor': 2083, 'million american famili': 2084, 'famili today im': 2085, 'place call home': 2086, 'proud support program': 2087, 'paycheck fair act': 2088, 'hero serv nation': 2089, 'mani innoc live': 2090, 'background check firearm': 2091, 'check firearm purchas': 2092, 'hold presid account': 2093, 'keep govern open': 2094, 'join tonight sotu': 2095, 'within commun let': 2096, 'rosa park born': 2097, 'forward work colleagu': 2098, 'im commit work': 2099, 'aisl work togeth': 2100, 'effort im glad': 2101, 'today rememb life': 2102, 'care prescript drug': 2103, 'threaten withhold disast': 2104, 'withhold disast aid': 2105, 'pass two bipartisan': 2106, 'two bipartisan bill': 2107, 'ive work hard': 2108, 'countri deserv better': 2109, 'never forget lost': 2110, 'forget lost live': 2111, 'plan work best': 2112, 'work best famili': 2113, 'offic continu work': 2114, 'serv unit state': 2115, 'bitli need assist': 2116, 'social secur recipi': 2117, 'covid19 im work': 2118, 'request major disast': 2119, 'leadership heed call': 2120, 'statewid stayathom order': 2121, 'stayathom order slow': 2122, 'order slow spread': 2123, 'provid front line': 2124, 'close wage gap': 2125, 'abroad get home': 2126, 'act save live': 2127, 'across countri around': 2128, 'clock keep famili': 2129, 'commun safe healthi': 2130, 'million feder fund': 2131, 'work address spread': 2132, 'spread coronaviru protect': 2133, 'pass bipartisan care': 2134, 'vote pass care': 2135, 'speak hous floor': 2136, 'receiv care act': 2137, 'vote favor import': 2138, 'effort fight coronaviru': 2139, 'frontlin pandem work': 2140, 'pandem work around': 2141, 'util defens product': 2142, 'protect gear need': 2143, 'way keep famili': 2144, 'difficult uncertain time': 2145, 'continu fight protect': 2146, 'fight protect aca': 2147, 'transit onlin learn': 2148, 'famili worker busi': 2149, 'care worker first': 2150, 'follow cdc guidelin': 2151, 'inform keep famili': 2152, 'coronaviru resourc inform': 2153, 'resourc feder govern': 2154, 'elig small busi': 2155, 'expand paid sick': 2156, 'st patrick day': 2157, 'need them pleas': 2158, 'protect public health': 2159, 'commun across america': 2160, 'precaut prevent spread': 2161, 'prevent spread covid19': 2162, 'march womenshistorymonth celebr': 2163, 'pay equal work': 2164, 'week discuss way': 2165, 'assist issu may': 2166, 'intern dc offic': 2167, 'health care benefit': 2168, 'public school foundat': 2169, 'introduc bipartisan legisl': 2170, 'strengthen social secur': 2171, 'lower cost prescript': 2172, 'experi domest violenc': 2173, 'deepli sadden hear': 2174, 'lower skyrocket cost': 2175, 'letter district offic': 2176, 'met health care': 2177, 'health care profession': 2178, 'learn import work': 2179, 'program spoke hous': 2180, 'cost rx drug': 2181, 'resourc avail you': 2182, 'lead caus death': 2183, 'bipartisan resolut recogn': 2184, 'discuss health care': 2185, 'expand access qualiti': 2186, 'access qualiti afford': 2187, 'proud bipartisan work': 2188, 'civil right champion': 2189, 'presid sign usmca': 2190, 'act must recommit': 2191, 'legisl provid resourc': 2192, 'happi lunar new': 2193, 'american famili deserv': 2194, 'import work togeth': 2195, 'look back work': 2196, 'mail drop card': 2197, 'arc moral univers': 2198, 'bend toward justic': 2199, 'ensur constitu access': 2200, 'pass hr 3': 2201, 'hr 3 lower': 2202, '3 lower drug': 2203, 'protect older worker': 2204, 'older worker discrimin': 2205, 'worker discrimin act': 2206, 'social secur scam': 2207, 'secur scam includ': 2208, 'call email use': 2209, 'email use fals': 2210, 'use fals document': 2211, 'fals document target': 2212, 'document target encourag': 2213, 'target encourag use': 2214, 'encourag use new': 2215, 'use new onlin': 2216, 'new onlin form': 2217, 'onlin form report': 2218, 'form report fraud': 2219, 'report fraud help': 2220, 'fraud help protect': 2221, 'vote today took': 2222, 'everi day brave': 2223, 'vote pass bipartisan': 2224, 'night keep us': 2225, 'last night host': 2226, 'coronaviru covid19 outbreak': 2227, 'continu pay employe': 2228, 'line save other': 2229, 'step support nation': 2230, 'thank healthcar profession': 2231, 'across countri work': 2232, 'effort save live': 2233, 'thank front line': 2234, 'provis care act': 2235, 'work small busi': 2236, 'bill far perfect': 2237, 'hous pass caresact': 2238, 'head back dc': 2239, 'last week host': 2240, 'america farmer rancher': 2241, 'care act give': 2242, 'mani busi struggl': 2243, 'presid donald j': 2244, 'donald j trump': 2245, 'covid19 nation emerg': 2246, 'covid19 pleas follow': 2247, 'visit websit here': 2248, 'relief packag would': 2249, 'work level govern': 2250, 'want make sure': 2251, 'disast loan program': 2252, 'school close due': 2253, 'us govern take': 2254, 'thank servic great': 2255, 'small busi provid': 2256, 'last week discuss': 2257, 'nation emerg declar': 2258, 'govern keep american': 2259, 'govern take everi': 2260, 'democrat war power': 2261, 'two month ago': 2262, 'hous republican work': 2263, 'new job month': 2264, 'job month unemploy': 2265, 'unemploy rate 35': 2266, 'rate 35 match': 2267, '35 match lowest': 2268, 'match lowest level': 2269, 'lowest level 50': 2270, 'level 50 year': 2271, '50 year cnbccom': 2272, 'american speaker pelosi': 2273, 'send deepest condol': 2274, 'deepest condol prayer': 2275, 'desk sign law': 2276, 'togeth keep great': 2277, 'nation defens strategi': 2278, 'appreci hard work': 2279, 'take care servic': 2280, 'care servic member': 2281, '58 million american': 2282, 'find solut end': 2283, 'older american act': 2284, '225000 job ad': 2285, 'pleas consid donat': 2286, 'last night passag': 2287, 'resourc help combat': 2288, 'help combat coronaviru': 2289, 'prepared respons supplement': 2290, 'respons supplement appropri': 2291, 'supplement appropri act': 2292, '175 year ago': 2293, 'honor receiv true': 2294, 'receiv true blue': 2295, 'send clear messag': 2296, 'million job creat': 2297, 'citizen forfeit life': 2298, 'job higher wage': 2299, 'state union tonight': 2300, 'pass hous repres': 2301, 'play key role': 2302, 'wwii korea vietnam': 2303, 'law enforc appreci': 2304, 'enforc appreci day': 2305, 'pleas keep men': 2306, 'keep men women': 2307, 'behind close door': 2308, 'undo result 2016': 2309, 'get fair share': 2310, 'join sever colleagu': 2311, 'attack naval air': 2312, 'reform lower cost': 2313, 'veteran get care': 2314, 'hous democrat tri': 2315, 'one worst terrorist': 2316, 'continu fight isi': 2317, 'us safe thank': 2318, 'thank dedic servic': 2319, 'dedic servic sacrific': 2320, 'prescript drug take': 2321, 'impeach inquiri sham': 2322, 'famili friend difficult': 2323, 'friend difficult time': 2324, 'fulli support presid': 2325, 'support presid trump': 2326, 'presid trump decis': 2327, 'overturn 2016 elect': 2328, 'twittercom great see': 2329, 'baseless impeach inquiri': 2330, '18 year ago': 2331, 'local offici follow': 2332, 'alway enjoy meet': 2333, 'speaker pelosi it': 2334, 'pelosi it time': 2335, 'time get work': 2336, 'four week ago': 2337, 'winner 2019 congression': 2338, 'happi birthday @potu': 2339, 'birthday @potu @realdonaldtrump': 2340, 'presid reagan said': 2341, 'peopl unit state': 2342, 'constitut guarante women': 2343, 'american farm bureau': 2344, 'provid necessari resourc': 2345, 'thank work tirelessli': 2346, 'made clear continu': 2347, 'attorney gener barr': 2348, 'look forward review': 2349, 'supplement fund bill': 2350, 'provid relief american': 2351, 'provid tax relief': 2352, 'thank @realdonaldtrump continu': 2353, 'art competit deadlin': 2354, 'competit deadlin submit': 2355, 'deadlin submit art': 2356, 'thank farmer rancher': 2357, 'famili mani sacrific': 2358, 'mani sacrific made': 2359, 'right bear arm': 2360, 'work hard keep': 2361, 'provid necessari fund': 2362, 'declar nation emerg': 2363, 'work @realdonaldtrump address': 2364, 'continu kick road': 2365, 'rememb live tragic': 2366, 'issu stay home': 2367, 'health care crisi': 2368, 'tune here facebookcom': 2369, 'here facebookcom thank': 2370, 'risk live everi': 2371, 'stay home stay': 2372, 'difficult time thank': 2373, 'pleas hesit reach': 2374, 'bill get money': 2375, 'care worker front': 2376, 'done american peopl': 2377, 'take bold action': 2378, 'move juli 15': 2379, 'keep commun healthi': 2380, 'work famili small': 2381, 'like wash hand': 2382, 'first confirm case': 2383, 'confirm case covid19': 2384, 'take step prevent': 2385, 'step prevent spread': 2386, 'healthi covid19 outbreak': 2387, 'town hall today': 2388, 'health care infrastructur': 2389, 'health insur million': 2390, 'wish everyon happi': 2391, 'last year help': 2392, 'justic system proud': 2393, 'find way come': 2394, 'way come togeth': 2395, 'presid abus power': 2396, 'protect older american': 2397, 'year ago lilli': 2398, 'ago lilli ledbett': 2399, 'pay act sign': 2400, 'serv commun across': 2401, 'holiday season hope': 2402, 'open enrol dont': 2403, 'enrol dont forget': 2404, 'student across countri': 2405, 'hous took import': 2406, 'day pass sinc': 2407, 'worth fight for': 2408, 'sign health insur': 2409, 'issu work togeth': 2410, 'mental health challeng': 2411, 'thank folk came': 2412, 'im urg colleagu': 2413, 'urg colleagu senat': 2414, 'need someon talk': 2415, 'show around today': 2416, 'still work do': 2417, 'let work togeth': 2418, 'hope see there': 2419, 'shelbi counti v': 2420, 'counti v holder': 2421, 'wish best futur': 2422, 'today rememb courag': 2423, 'serv countri honor': 2424, 'get done twittercom': 2425, 'take time fill': 2426, 'small busi housegov': 2427, 'find reliabl inform': 2428, 'sba disast loan': 2429, 'incom tax return': 2430, 'offic open public': 2431, 'job due coronaviru': 2432, 'continu work district': 2433, 'help famili stay': 2434, 'pass bill hous': 2435, 'sba servic small': 2436, 'bipartisan bill support': 2437, 'qualiti health coverag': 2438, 'state union guest': 2439, 'counti teacher year': 2440, 'worker age discrimin': 2441, 'citizen unit decis': 2442, 'big money polit': 2443, 'last month w': 2444, 'dark money group': 2445, 'set record straight': 2446, 'roll back protect': 2447, '244th birthday unit': 2448, 'state marin corp': 2449, 'benefit theyv earn': 2450, 'improv mental health': 2451, 'hous health care': 2452, 'housegov tomorrow ill': 2453, 'reauthor violenc women': 2454, 'hous floor today': 2455, 'work compani like': 2456, 'that pass bipartisan': 2457, 'pro act protect': 2458, 'small busi creat': 2459, 'rejoin pari climat': 2460, 'pari climat agreement': 2461, 'entir commun offic': 2462, 'help famili affect': 2463, 'see innov work': 2464, 'resourc small busi': 2465, '2008 financi crisi': 2466, 'come togeth stand': 2467, 'last week pass': 2468, 'secur feder fund': 2469, 'want hear you': 2470, 'power special interest': 2471, 'learn work theyr': 2472, 'provid child care': 2473, 'hear what happen': 2474, 'updat im work': 2475, 'god bless keep': 2476, 'bless keep safe': 2477, 'answer frequent ask': 2478, 'get lot question': 2479, '30 million small': 2480, 'number peopl work': 2481, 'urgenc get done': 2482, 'bank credit union': 2483, 'job go back': 2484, 'coronaviru relief bill': 2485, 'encourag see mani': 2486, 'advantag us nation': 2487, 'state local govt': 2488, 'best way prevent': 2489, 'resourc help health': 2490, 'help health care': 2491, 'impact coronaviru outbreak': 2492, 'singl greatest threat': 2493, 'greatest threat nation': 2494, 'small busi backbon': 2495, 'protect program loan': 2496, 'frontlin coronaviru crisi': 2497, 'discuss coronaviru impact': 2498, 'provid direct relief': 2499, 'appreci opportun talk': 2500, 'combat spread coronaviru': 2501, 'spread coronaviru pleas': 2502, 'resourc need fight': 2503, 'entir grave famili': 2504, 'new job februari': 2505, 'stand togeth condemn': 2506, 'im close monitor': 2507, 'take coronaviru serious': 2508, 'presid trump win': 2509, 'veteran servic sacrific': 2510, 'major polit parti': 2511, 'nation prayer breakfast': 2512, 'last 3 year': 2513, 'huge win american': 2514, 'weve seen last': 2515, 'right due process': 2516, 'togeth im confid': 2517, 'american peopl time': 2518, '@senatorloeffl look forward': 2519, 'send articl impeach': 2520, 'democrat obsess impeach': 2521, 'one polit parti': 2522, 'anoth strong jobsreport': 2523, '266000 job ad': 2524, 'year sinc @realdonaldtrump': 2525, 'sinc @realdonaldtrump sign': 2526, 'sign usmca speaker': 2527, 'usmca speaker pelosi': 2528, 'speaker pelosi still': 2529, 'job it time': 2530, 'socialist polici would': 2531, 'end human traffick': 2532, 'held account twittercom': 2533, 'reach full potenti': 2534, 'due process right': 2535, 'democrat wast time': 2536, 'it time vote': 2537, 'thank dedic help': 2538, 'loan forgiven use': 2539, 'act provid direct': 2540, 'econom secur care': 2541, 'secur care act': 2542, 'us small busi': 2543, 'hesit contact offic': 2544, 'medicar expand telemedicin': 2545, 'serv american peopl': 2546, 'thank @realdonaldtrump sign': 2547, 'week washington bitli': 2548, 'surpris medic bill': 2549, 'medic bill im': 2550, 'cover cough sneez': 2551, 'vote born aliv': 2552, 'pain capabl unborn': 2553, 'capabl unborn child': 2554, 'it alway great': 2555, 'cut wast spend': 2556, 'america today great': 2557, 'get work american': 2558, 'modern trade polici': 2559, 'work togeth behalf': 2560, 'merri christma happi': 2561, 'christma happi new': 2562, 'american peopl speaker': 2563, 'peopl speaker pelosi': 2564, 'prescript drug plan': 2565, 'pelosi bring usmca': 2566, 'bring usmca vote': 2567, 'pearl harbor date': 2568, 'hous repres pass': 2569, 'letter servic member': 2570, 'remov duli elect': 2571, 'happi 244th birthday': 2572, 'cost american peopl': 2573, 'urg democrat colleagu': 2574, 'urg speaker pelosi': 2575, 'speaker pelosi democrat': 2576, 'happi 72nd birthday': 2577, 'rancher busi owner': 2578, 'eighteen year ago': 2579, 'district work period': 2580, 'may alway rememb': 2581, 'hope take time': 2582, 'thank veteran honor': 2583, 'near you pleas': 2584, 'small busi thrive': 2585, 'jeannett rankin becam': 2586, 'take care sick': 2587, 'fill censu onlin': 2588, 'make sure student': 2589, 'protect right vote': 2590, 'medal honor societi': 2591, 'file payment deadlin': 2592, 'payment deadlin also': 2593, 'access afford qualiti': 2594, 'afford qualiti health': 2595, 'get support need': 2596, 'three month pay': 2597, 'disast declar @sbagov': 2598, 'ask question hear': 2599, 'keep us healthi': 2600, 'stay home keep': 2601, 'work state local': 2602, 'inspir us all': 2603, 'us all one': 2604, 'vote right secur': 2605, 'right secur elect': 2606, 'violenc women reauthor': 2607, 'women reauthor act': 2608, 'franklin delano roosevelt': 2609, 'cough sneez w': 2610, 'sneez w tissu': 2611, 'w tissu throw': 2612, 'tissu throw tissu': 2613, 'throw tissu trash': 2614, 'water 20 sec': 2615, 'presid kennedi establish': 2616, 'countri around world': 2617, 'great meet student': 2618, 'week pass bill': 2619, 'proud cast vote': 2620, 'onthisday 75 year': 2621, 'us marin rais': 2622, 'flag iwo jima': 2623, 'commun live center': 2624, 'must ensur equal': 2625, 'ensur equal right': 2626, 'equal right women': 2627, 'right women includ': 2628, 'women includ constitut': 2629, 'fight improv stateofhealthcar': 2630, 'wound warrior act': 2631, 'fundament right must': 2632, 'today citizen unit': 2633, 'let us stand': 2634, 'gun violenc save': 2635, 'violenc save live': 2636, 'commit fight antisemit': 2637, 'fight antisemit form': 2638, 'inspir everi day': 2639, 'everi day fight': 2640, 'wish merri christma': 2641, 'today continu work': 2642, 'stop gun violenc': 2643, 'univers background check': 2644, 'stream onlin housegov': 2645, 'onlin housegov twittercom': 2646, 'bipartisan background check': 2647, 'peopl come togeth': 2648, 'everyon deserv live': 2649, 'help individu famili': 2650, 'legisl weve pass': 2651, 'learn constitu servic': 2652, 'medicar open enrol': 2653, 'statement congression record': 2654, 'care mental health': 2655, 'day protect health': 2656, 'countri honor meet': 2657, 'relief small busi': 2658, 'today join colleagu': 2659, 'today discuss way': 2660, 'way help american': 2661, 'american small busi': 2662, 'famili difficult time': 2663, 'qualiti life soldier': 2664, 'never happen again': 2665, 'continu work colleagu': 2666, 'auschwitz must continu': 2667, 'day must continu': 2668, 'human right religi': 2669, 'right religi freedom': 2670, 'known long time': 2671, 'state sponsor terror': 2672, 'improv militari readi': 2673, 'continu deliv american': 2674, 'must stand unit': 2675, 'special oper forc': 2676, 'give back commun': 2677, 'natur resourc committe': 2678, 'took oath offic': 2679, 'us import convers': 2680, 'protect yourself visit': 2681, 'us alreadi knew': 2682, 'connect one anoth': 2683, 'respons covid19 pandem': 2684, 'updat covid19 resourc': 2685, 'impact covid19 pandem': 2686, 'smart travel enrol': 2687, 'travel enrol program': 2688, 'counti resid lost': 2689, 'resid lost covid19': 2690, 'lost covid19 pandem': 2691, 'first maryland lost': 2692, 'respons covid19 congress': 2693, 'nation capit region': 2694, 'elig disast loan': 2695, 'vote public health': 2696, 'find inform here': 2697, 'come togeth nation': 2698, 'discuss congress help': 2699, 'intern women day': 2700, 'today md deleg': 2701, 'peopl everi day': 2702, 'global health crisi': 2703, 'that im fight': 2704, 'pass bill would': 2705, 'engin prosper frederick': 2706, 'prosper frederick counti': 2707, 'we better thi': 2708, 'new grant program': 2709, 'invest rural broadband': 2710, 'work togeth invest': 2711, '47 year ago': 2712, 'social media cover': 2713, 'media cover photo': 2714, 'cover photo contest': 2715, 'prevent war iran': 2716, 'protect lgbtq peopl': 2717, 'lgbtq peopl discrimin': 2718, '2019 washingtonian year': 2719, '1st 2nd 3rd': 2720, '2nd 3rd place': 2721, '3rd place winner': 2722, 'forgiven use payrol': 2723, 'use payrol mortgag': 2724, 'payrol mortgag rent': 2725, 'mortgag rent util': 2726, 'click link learn': 2727, 'deleg sent letter': 2728, 'statement last night': 2729, 'decis declar nation': 2730, 'wish best retir': 2731, 'take time meet': 2732, 'militari veteran thank': 2733, 'unborn child protect': 2734, 'child protect act': 2735, '@realdonaldtrump sotu presid': 2736, '@realdonaldtrump progrowth agenda': 2737, 'senat acquit @realdonaldtrump': 2738, 'job increas wage': 2739, 'week @realdonaldtrump sign': 2740, 'today @realdonaldtrump sign': 2741, '@goplead resolut support': 2742, 'spoke floor us': 2743, 'floor us hous': 2744, 'us safe twittercom': 2745, 'broadband infrastructur develop': 2746, 'lower cost cure': 2747, 'cost cure act': 2748, '50 year low': 2749, 'congress took action': 2750, 'housegov happi nation': 2751, '100 year @farmbureau': 2752, 'rural commun like': 2753, 'us thank honor': 2754, 'health care essenti': 2755, 'frontlin health care': 2756, 'care act housegov': 2757, 'housegov im host': 2758, 'covid19 inform avail': 2759, 'celebr 80th birthday': 2760, 'revers youth tobacco': 2761, 'youth tobacco epidem': 2762, 'tobacco epidem act': 2763, 'great meet member': 2764, 'ago hous pass': 2765, 'save live twittercom': 2766, 'trump administr propos': 2767, 'hous pass comprehens': 2768, 'war power act': 2769, 'everi day everi': 2770, 'restor tax fair': 2771, 'stricter work requir': 2772, 'human right twittercom': 2773, 'paid ultim sacrific': 2774, 'cosponsor resolut condemn': 2775, 'work ensur never': 2776, 'sinc presid trump': 2777, 'american peopl see': 2778, 'find inform appli': 2779, 'expand unemploy insur': 2780, 'restaur small busi': 2781, 'free covid19 test': 2782, 'test paid emerg': 2783, 'paid emerg leav': 2784, 'emerg leav enhanc': 2785, 'unemploy benefit food': 2786, 'make sure voic': 2787, 'sure voic heard': 2788, 'school make sure': 2789, 'onlin by phone': 2790, 'combat climat chang': 2791, 'show appreci servic': 2792, 'becam first woman': 2793, 'job well done': 2794, 'use defens product': 2795, 'groceri store worker': 2796, 'food assist program': 2797, 'strengthen nation secur': 2798, 'great news farmer': 2799, '2020 pass hous': 2800, 'stand peopl iran': 2801, 'act pass congress': 2802, 'civil right leader': 2803, 'act use bipartisan': 2804, 'use bipartisan reform': 2805, 'lower pocket spend': 2806, 'pocket spend protect': 2807, 'spend protect access': 2808, 'protect access new': 2809, 'see week washington': 2810, 'firesid chat facebook': 2811, 'pleas click link': 2812, 'san bernardino counti': 2813, 'facebook page bitli': 2814, 'militari widow tax': 2815, 'detail facebook page': 2816, 'look forward see': 2817, 'inland empir resid': 2818, 'district director kathleen': 2819, 'director kathleen connor': 2820, 'phone appoint tool': 2821, 'chat facebook page': 2822, 'az01 mobil offic': 2823, 'see yall there': 2824, 'week serv ga12': 2825, 'serv ga12 bitli': 2826, 'email websit housegov': 2827, 'click link owli': 2828, 'newslett owli ms01': 2829, 'famili first coronaviru': 2830, 'first coronaviru respons': 2831, 'green new deal': 2832, 'dedic public servant': 2833, 'work togeth ensur': 2834, 'offic hour tomorrow': 2835, 'tune in im': 2836, 'dr adi pour': 2837, 'china communist parti': 2838, 'see week serv': 2839, 'ill anoth firesid': 2840, 'anoth firesid chat': 2841, 'ct coronaviru pandem': 2842, 'coronaviru pandem question': 2843, 'pandem question concern': 2844, 'question concern want': 2845, 'concern want address': 2846, 'want address pleas': 2847, 'address pleas call': 2848, 'pleas call 847': 2849, 'call 847 413': 2850, 'page facebookcom 1230pm': 2851, 'pleas read newslett': 2852, 'read newslett owli': 2853, 'im proud announc': 2854, 'tyndal air forc': 2855, 'hbcu minorityserv institut': 2856, 'lewiston 2072416767 bangor': 2857, 'join dial 8773001219': 2858, '847 413 1959': 2859, '413 1959 email': 2860, '1959 email websit': 2861, 'facebookcom 1230pm ct': 2862, 'ye backyard act': 2863, 'senior secur act': 2864, 'across indiana ninth': 2865, 'join @appropsdem colleagu': 2866, 'learn more bitli': 2867, 'help small busi': 2868, 'call 855 9200558': 2869, 'get question answer': 2870, 'forward see yall': 2871, 'fund hbcu minorityserv': 2872, 'main small busi': 2873, 'new york state': 2874, 'salut countri hero': 2875, 'countri hero thank': 2876, '1230pm ct coronaviru': 2877, 'conflict trade act': 2878, 'read weekli wrapup': 2879, 'indiana ninth congression': 2880, 'ninth congression district': 2881, 'posit impact tax': 2882, 'impact tax reform': 2883, 'hoosier famili busi': 2884, 'like inland empir': 2885, 'inland empir famili': 2886, 'today hous pass': 2887, 'close digit divid': 2888, 'question feder agenc': 2889, 'teletown hall local': 2890, 'hall local health': 2891, 'local health offici': 2892, 'fl02 covid19 coronaviru': 2893, 'may rest peac': 2894, 'constitu town hall': 2895, '2072416767 bangor 2072497400': 2896, 'bangor 2072497400 carib': 2897, '2072497400 carib 2074926009': 2898, 'savannah harbor expans': 2899, 'harbor expans project': 2900, 'ga12 bitli video': 2901, 'bitli video here': 2902, 'video here bitli': 2903, 'experi call america': 2904, 'hope tune in': 2905, 'md06 busi owner': 2906, 'freshmen work group': 2907, 'work group addict': 2908, 'rural health agenda': 2909, 'offic put togeth': 2910, 'connect folk resourc': 2911, 'offic hour monday': 2912, '35th town hall': 2913, 'chatham polic chief': 2914, 'polic chief peter': 2915, 'chief peter volkmann': 2916, 'subcommitte econom consum': 2917, 'econom consum polici': 2918, 'question concern coronaviru': 2919, 'ban conflict trade': 2920, 'question answer coronaviru': 2921, 'answer coronaviru stimulu': 2922, 'coronaviru stimulu packag': 2923, 'pleas read weekli': 2924, 'weekli wrapup owli': 2925, 'foster innov act': 2926, 'sgt ben bertram': 2927, 'find dropoff locat': 2928, 'famili love one': 2929, 'taxreform stori in09': 2930, 'stori in09 hoosier': 2931, 'in09 hoosier famili': 2932, 'famili busi across': 2933, 'busi across indiana': 2934, 'congression district alreadi': 2935, 'district alreadi felt': 2936, 'alreadi felt posit': 2937, 'felt posit impact': 2938, 'everi inland empir': 2939, 'congress coequal branch': 2940, 'coequal branch govern': 2941, 'proud join @housedemocrat': 2942, 'casework az01 staff': 2943, 'az01 bitli today': 2944, 'az01 tribal commun': 2945, 'spoke hous floor': 2946, 'host town hall': 2947, 'az01 staff hold': 2948, 'last year introduc': 2949, 'stop by az01': 2950, 'staff hold az01': 2951, 'hold az01 mobil': 2952, 'week staff hold': 2953, 'receiv benefit owe': 2954, 'access servic offic': 2955, 'servic offic provid': 2956, 'top prioriti mine': 2957, 'valentin veteran program': 2958, 'profession first respond': 2959, 'small busi nonprofit': 2960, '855 9200558 listen': 2961, 'full statement here': 2962, 'make lynch feder': 2963, 'lynch feder hate': 2964, 'feder hate crime': 2965, 'hurrican michael recoveri': 2966, 'recov hurrican michael': 2967, 'alabama across countri': 2968, 'hope see yall': 2969, 'repeal militari widow': 2970, 'host constitu town': 2971, 'academi nomin info': 2972, 'nomin info session': 2973, 'nearest offic lewiston': 2974, 'offic lewiston 2072416767': 2975, 'rx drug cost': 2976, 'defens fund bill': 2977, 'week ago twittercom': 2978, 'unit state senat': 2979, 'conduct fair trial': 2980, 'here full interview': 2981, 'held telephon town': 2982, 'answer question resid': 2983, 'bitli take look': 2984, 'substanc use disord': 2985, 'great experi call': 2986, 'take advantag technolog': 2987, 'advantag technolog take': 2988, 'technolog take advantag': 2989, 'take advantag us': 2990, 'nation intellig prioriti': 2991, 'busi resourc webinar': 2992, '300 400 pm': 2993, 'see full statement': 2994, 'offic help get': 2995, 'help get answer': 2996, 'twittercom send love': 2997, 'covid19 telephon town': 2998, 'district offic 3013541000': 2999, 'kathleen connor attend': 3000, 'put togeth resourc': 3001, 'town hall coronaviru': 3002, 'weekli telephon town': 3003, 'appoint tool connect': 3004, 'constitu servic repres': 3005, 'offic 845 4432930': 3006, 'new phone appoint': 3007, 'renssela ulster counti': 3008, 'today join @housesmallbiz': 3009, 'join @housesmallbiz hear': 3010, 'town hall ny19': 3011, 'gateway career act': 3012, 'show appreci veteran': 3013, 'sure everyon count': 3014, 'kingston offic 256': 3015, 'offic 256 clinton': 3016, 'offic collect valentin': 3017, 'card kingston offic': 3018, 'honor chatham polic': 3019, '@oversightdem subcommitte econom': 3020, 'take place 9am': 3021, 'place 9am ct': 3022, '9am ct 10amet': 3023, 'ct 10amet 1230': 3024, '10amet 1230 previous': 3025, '1230 previous announc': 3026, 'previous announc pleas': 3027, 'announc pleas tune': 3028, 'pleas tune facebook': 3029, 'tune facebook page': 3030, 'page facebookcom 9am': 3031, 'facebookcom 9am ct': 3032, '9am ct question': 3033, 'ct question answer': 3034, 'address question concern': 3035, 'recent chanc meet': 3036, 'ms01 great news': 3037, 'link owli ms01': 3038, 'first district ms01': 3039, 'backyard act pass': 3040, 'locat near housegov': 3041, 'interest attend servic': 3042, 'attend servic academi': 3043, 'enhanc safeti skill': 3044, 'safeti skill train': 3045, 'open job opportun': 3046, 'cut edg scientif': 3047, 'edg scientif medic': 3048, 'scientif medic research': 3049, 'protect senior citizen': 3050, 'truck industri driver': 3051, 'industri driver shortag': 3052, 'job opportun hoosier': 3053, 'combat opioid epidem': 3054, 'dropoff locat near': 3055, 'seaman 1st class': 3056, '1st class carl': 3057, 'class carl huff': 3058, 'receiv medal earn': 3059, 'job investor confid': 3060, 'investor confid act': 3061, '2018 congression art': 3062, 'resourc avail commun': 3063, 'help inland empir': 3064, 'bernardino counti depart': 3065, 'counti depart public': 3066, 'depart public health': 3067, 'dream promis act': 3068, 'away million american': 3069, 'commun like inland': 3070, 'act terror took': 3071, 'terror took live': 3072, 'announc fund help': 3073, 'secur fund help': 3074, 'access ballot box': 3075, 'broken immigr system': 3076, 'teacher aid learn': 3077, 'today join @appropsdem': 3078, 'join @housedemocrat colleagu': 3079, 'bipartisan bill expand': 3080, 'fulfil campaign promis': 3081, 'bipartisan bill reopen': 3082, 'bill reopen govern': 3083, 'deliv result american': 3084, 'az deleg letter': 3085, 'relief az01 famili': 3086, 'more bitli az01': 3087, 'tribal commun az01': 3088, 'overlook nation respons': 3089, 'commun across az01': 3090, 'temporarili close @grandcanyonnp': 3091, 'solar vet act': 3092, 'casework staff work': 3093, 'assist az01 famili': 3094, 'az01 bitli icymi': 3095, 'bitli today sent': 3096, 'today sent letter': 3097, 'letter vp penc': 3098, 'avail websit here': 3099, 'websit here bitli': 3100, 'act legisl provid': 3101, 'rural tribal commun': 3102, 'reliabl date inform': 3103, 'ensur free test': 3104, 'free test covid19': 3105, 'hous vote pass': 3106, 'ensur az01 famili': 3107, 'must ensur az01': 3108, 'social secur medicar': 3109, 'anoth feder agenc': 3110, 'western navajo agenc': 3111, 'navajo agenc va': 3112, 'agenc va offic': 3113, 'protect az01 commun': 3114, 'az01 staff detail': 3115, 'offic hour across': 3116, 'hour across az01': 3117, 'work togeth identifi': 3118, 'tribal power act': 3119, 'censu onceadecad chanc': 3120, 'onceadecad chanc track': 3121, 'chanc track chang': 3122, 'track chang popul': 3123, 'az01 commun help': 3124, 'commun help shape': 3125, 'help shape futur': 3126, 'shape futur arizona': 3127, 'futur arizona particip': 3128, 'arizona particip 2020': 3129, 'particip 2020 censu': 3130, 'act bill cosponsor': 3131, 'rio de flag': 3132, 'az01 receiv benefit': 3133, 'forward see good': 3134, 'agenc program detail': 3135, 'program detail facebook': 3136, 'remark @energycommerc subcommitte': 3137, '@energycommerc subcommitte hear': 3138, 'az01 famili rural': 3139, 'tara mccollum plese': 3140, 'week mobil offic': 3141, 'bill secur 5g': 3142, 'secur 5g beyond': 3143, '5g beyond act': 3144, 'call teletown hall': 3145, 'ron eidshaug us': 3146, 'eidshaug us chamber': 3147, 'governor pete rickett': 3148, 'busi develop center': 3149, 'one top prioriti': 3150, 'medic profession first': 3151, 'coronaviru answer question': 3152, 'websit contain page': 3153, 'contain page strictli': 3154, 'page strictli dedic': 3155, 'strictli dedic provid': 3156, 'dedic provid inform': 3157, 'provid inform coronaviru': 3158, 'inform coronaviru also': 3159, 'coronaviru also list': 3160, 'also list feder': 3161, 'list feder resourc': 3162, 'feder resourc employ': 3163, 'resourc employ busi': 3164, 'employ busi organ': 3165, 'busi organ learn': 3166, 'organ learn visit': 3167, 'learn visit websit': 3168, 'visit websit at': 3169, 'websit at housegov': 3170, 'sba econom injuri': 3171, 'constitu call 855': 3172, '745 pm ct': 3173, 'discuss govern respons': 3174, 'govern respons coronaviru': 3175, 'art competit open': 3176, 'competit open high': 3177, 'open high school': 3178, 'school student nebraska': 3179, 'student nebraska 2nd': 3180, 'nebraska 2nd district': 3181, '2nd district opportun': 3182, 'district opportun recogn': 3183, 'opportun recogn encourag': 3184, 'recogn encourag artist': 3185, 'encourag artist talent': 3186, 'artist talent nation': 3187, 'talent nation youth': 3188, 'nation youth good': 3189, 'youth good luck': 3190, 'good luck look': 3191, 'luck look forward': 3192, 'forward see art': 3193, 'see art appli': 3194, 'art appli here': 3195, 'grate cosponsor hr': 3196, 'stay tune updat': 3197, 'here cdcgov fl02': 3198, 'thank men women': 3199, 'rebuild tyndal air': 3200, 'week honor life': 3201, 'rest peac it': 3202, 'keep famili commun': 3203, 'discuss hurrican michael': 3204, 'help us rebuild': 3205, 'across countri hurt': 3206, 'sinc hurrican michael': 3207, 'marianna high school': 3208, 'colleg world seri': 3209, 'disast relief fund': 3210, 'pass disast supplement': 3211, 'great question work': 3212, 'question work congress': 3213, 'due covid19 pandem': 3214, 'im proud introduc': 3215, 'fair complet trial': 3216, 'act sign law': 3217, 'perman fund hbcu': 3218, 'critic fund hbcu': 3219, 'forward see there': 3220, 'renew critic fund': 3221, 'hall im look': 3222, 'look forward hope': 3223, 'final get done': 3224, 'staff host militari': 3225, 'host militari academi': 3226, 'staff lead militari': 3227, 'im go keep': 3228, 'matern care act': 3229, 'improv qualiti life': 3230, 'carib 2074926009 2': 3231, 'social secur va': 3232, 'violat worker right': 3233, 'rural small busi': 3234, 'main wood fiber': 3235, 'hear take place': 3236, '@senatorcollin @senangusk @chelliepingre': 3237, '@senangusk @chelliepingre urg': 3238, 'protect right whale': 3239, 'small busi succeed': 3240, 'info here housegov': 3241, 'arm servic committe': 3242, '@realdonaldtrump main lobstermen': 3243, 'main lobstermen need': 3244, 'lobstermen need help': 3245, 'saw day one': 3246, '@sbagov interim final': 3247, 'interim final rule': 3248, 'expect earli next': 3249, 'earli next week': 3250, 'slow rate infect': 3251, 'use pay worker': 3252, 'job small busi': 3253, 'one way anoth': 3254, 'get cash small': 3255, 'cash small busi': 3256, 'ago twittercom rt': 3257, 'i lord god': 3258, 'find approv lender': 3259, 'tune can gapol': 3260, 'take extra precaut': 3261, 'presid trump agenda': 3262, '25 million peopl': 3263, 'tune in gapol': 3264, 'discuss latest impeach': 3265, '176000 new job': 3266, 'great news ga12': 3267, 'public health offici': 3268, 'help prevent spread': 3269, 'night answer question': 3270, 'question resid ga12': 3271, 'undermin presid trump': 3272, 'washington bitli today': 3273, 'assist closer home': 3274, 'june commun offic': 3275, 'commun offic hour': 3276, 'full list date': 3277, 'list date time': 3278, 'date time locat': 3279, 'act becam law': 3280, 'inspir next gener': 3281, 'gun violenc prevent': 3282, 'one favorit part': 3283, 'save american live': 3284, 'refus accept that': 3285, 'one import job': 3286, 'import job member': 3287, 'job member congress': 3288, 'member congress help': 3289, 'congress help feder': 3290, 'help feder case': 3291, 'seven year ago': 3292, 'act gun violenc': 3293, 'deserv feel safe': 3294, 'nation ai strategi': 3295, 'unit us divid': 3296, 'us divid us': 3297, 'gener secretari xi': 3298, 'light conquer dark': 3299, 'trade mexico canada': 3300, 'minut hope tune': 3301, 'jewish friend celebr': 3302, 'put innoc live': 3303, 'innoc live risk': 3304, 'south west texa': 3305, 'tune 7pm ct': 3306, 'spread hate respond': 3307, 'hate respond love': 3308, 'mail onlin 2020censusgov': 3309, 'onlin 2020censusgov phone': 3310, '2020censusgov phone english': 3311, 'phone english 18443302020': 3312, 'phone spanish 18444682020': 3313, 'busi owner regist': 3314, 'regist free covid19': 3315, 'maryland health benefit': 3316, 'health benefit exchang': 3317, 'covid19 pandem regist': 3318, 'covid19 busi resourc': 3319, 'resourc webinar wednesday': 3320, 'webinar wednesday april': 3321, 'wednesday april 1st': 3322, 'april 1st 300': 3323, 'news governor larri': 3324, 'governor larri hogan': 3325, 'covid19 commun resourc': 3326, 'commun resourc guid': 3327, 'famili support servic': 3328, 'support servic act': 3329, 'thank hard work': 3330, 'west tennesse thank': 3331, 'appreci learn continu': 3332, 'catch week below': 3333, 'trade deal major': 3334, 'deal major win': 3335, 'answer need housegov': 3336, 'year incred servic': 3337, 'harass robocal receiv': 3338, 'introduc rural health': 3339, 'also join dial': 3340, 'send love strength': 3341, 'frederick carrol counti': 3342, 'remind offic host': 3343, 'call district offic': 3344, 'check out housegov': 3345, 'district team member': 3346, 'complet censu count': 3347, 'oklahoma first district': 3348, 'covid19 pandem togeth': 3349, 'togeth resourc guid': 3350, 'third telephon town': 3351, 'im hold third': 3352, 'your abl join': 3353, 'abl join us': 3354, 'small busi ny19': 3355, 'join us housegov': 3356, 'offic send updat': 3357, 'tool connect folk': 3358, 'respect social distanc': 3359, 'speak constitu servic': 3360, 'second telephon town': 3361, 'commun throughout covid19': 3362, 'im hold second': 3363, 'latest @cdcgov guidanc': 3364, 'small busi selfemploy': 3365, 'busi selfemploy owner': 3366, 'ny19 small busi': 3367, 'issu feder govern': 3368, '@ulsterexec pat ryan': 3369, 'ny19 home nearli': 3370, 'home nearli 5000': 3371, 'nearli 5000 farm': 3372, '5000 farm 96': 3373, 'farm 96 famili': 3374, '96 famili farm': 3375, 'housegov thank everyon': 3376, 'small busi across': 3377, 'answer question assist': 3378, 'want help prevent': 3379, 'member staff hold': 3380, 'were work togeth': 3381, 'columbia sullivan counti': 3382, 'offic hold mobil': 3383, 'otsego dutchess counti': 3384, 'appli serv commun': 3385, 'serv commun 2020censusgov': 3386, 'im hold 35th': 3387, 'hold 35th town': 3388, 'share prioriti 2020': 3389, 'introduc gateway career': 3390, 'import famili detail': 3391, '256 clinton ave': 3392, 'valentin show appreci': 3393, 'town hall dutchess': 3394, 'hall dutchess counti': 3395, '34th town hall': 3396, '300 pm hyde': 3397, 'pm hyde park': 3398, 'collect valentin veteran': 3399, 'im honor chatham': 3400, 'get back game': 3401, 'need bold action': 3402, 'concern coronaviru pandem': 3403, 'trade act would': 3404, 'trade individu stock': 3405, 'tomorrow ill anoth': 3406, 'offic 847 4131959': 3407, 'chat facebook morn': 3408, 'facebook morn take': 3409, 'morn take place': 3410, 'chanc meet member': 3411, 'today @oversightdem hear': 3412, 'read letter housegov': 3413, '2020 first congression': 3414, 'congression district art': 3415, 'district art competit': 3416, 'come see us': 3417, 'throughout first district': 3418, 'wrapup owli ms01': 3419, 'owli ms01 thank': 3420, 'partisan polit american': 3421, 'state mississippi thank': 3422, 'owli ms01 great': 3423, 'more pleas click': 3424, 'prevent spread coronaviru': 3425, 'pass hous last': 3426, 'hous last week': 3427, 'night hous pass': 3428, 'legisl encourag commun': 3429, 'encourag commun increas': 3430, 'commun increas avail': 3431, 'increas avail afford': 3432, 'avail afford hous': 3433, 'safe stabl home': 3434, 'stabl home serv': 3435, 'home serv bedrock': 3436, 'serv bedrock famili': 3437, 'gain skill need': 3438, 'updat trade deal': 3439, 'certainti hoosier farmer': 3440, 'thank tireless work': 3441, 'live everi day': 3442, 'john wooden middl': 3443, 'wooden middl school': 3444, 'prevent youth substanc': 3445, 'youth substanc use': 3446, 'hoosier across indiana': 3447, 'expir unus unwant': 3448, 'unus unwant prescript': 3449, 'unwant prescript drug': 3450, 'afford hous crisi': 3451, 'experi manufactur busi': 3452, 'men women work': 3453, 'act introduc w': 3454, 'someon know interest': 3455, 'know interest attend': 3456, 'sure attend academi': 3457, 'attend academi day': 3458, 'address driver shortag': 3459, 'invest cut edg': 3460, 'medic research develop': 3461, 'secur act introduc': 3462, 'salem water treatment': 3463, 'water treatment facil': 3464, 'protect protect us': 3465, 'ben bertram newsandtribunecom': 3466, 'grow indiana economi': 3467, 'protect lifelong save': 3468, 'introduc w @repjoshg': 3469, 'senior learn more': 3470, 'find housegov twittercom': 3471, 'housegov twittercom today': 3472, 'lifelong save invest': 3473, 'local famili farm': 3474, 'famili farm countri': 3475, 'farm countri origin': 3476, 'countri origin small': 3477, 'origin small busi': 3478, 'address truck industri': 3479, 'driver shortag open': 3480, 'shortag open job': 3481, 'opportun hoosier enhanc': 3482, 'hoosier enhanc safeti': 3483, 'ban member congress': 3484, 'member congress becom': 3485, 'congress becom lobbyist': 3486, 'chao dysfunct washington': 3487, 'dysfunct washington interest': 3488, 'washington interest livelihood': 3489, 'interest livelihood hoosier': 3490, 'livelihood hoosier american': 3491, 'hoosier american come': 3492, 'american come second': 3493, 'come second selfinterest': 3494, 'second selfinterest social': 3495, 'selfinterest social media': 3496, 'social media follow': 3497, 'media follow financi': 3498, 'follow financi futur': 3499, 'mani member congress': 3500, 'america small busi': 3501, 'econom good news': 3502, 'drug takeback day': 3503, 'cut suppli prescript': 3504, 'suppli prescript drug': 3505, '10am2pm properli dispos': 3506, 'properli dispos expir': 3507, 'drug support ongo': 3508, 'support ongo effort': 3509, 'ongo effort combat': 3510, 'effort combat opioid': 3511, 'opioid epidem face': 3512, 'epidem face commun': 3513, 'click find dropoff': 3514, 'carl huff famili': 3515, 'huff famili receiv': 3516, 'famili receiv medal': 3517, 'medal earn wwii': 3518, 'pass job investor': 3519, 'develop empow aspir': 3520, 'empow aspir leader': 3521, 'aspir leader act': 3522, 'polic act wrote': 3523, 'counti sheriff frank': 3524, 'sheriff frank loop': 3525, 'drivesaf act address': 3526, 'indiana ninth district': 3527, 'world robot competit': 3528, 'busi affect coronaviru': 3529, 'affect coronaviru crisi': 3530, 'question feder respons': 3531, 'feder respons coronaviru': 3532, 'respons coronaviru crisi': 3533, 'coronaviru crisi resourc': 3534, 'crisi resourc avail': 3535, 'today twittercom today': 3536, 'twittercom today vote': 3537, 'resourc need meet': 3538, 'need meet challeng': 3539, 'support small busi': 3540, 'health care system': 3541, 'avail help inland': 3542, 'guarante paid sick': 3543, 'help work famili': 3544, 'assist pleas contact': 3545, 'small busi resourc': 3546, 'busi resourc avail': 3547, 'econom injuri disast': 3548, 'injuri disast loan': 3549, 'coronaviru hotlin 909': 3550, 'hotlin 909 3873911': 3551, 'bernardino counti resid': 3552, 'resourc need overcom': 3553, 'congress must pass': 3554, 'ensur daca recipi': 3555, 'pass dream promis': 3556, 'recipi deserv know': 3557, 'region like inland': 3558, 'vice chair @appropsdem': 3559, 'issu face commun': 3560, 'inland empir job': 3561, 'empir job corp': 3562, 'fight full equal': 3563, 'fund help region': 3564, 'presid tri take': 3565, 'sure everi inland': 3566, 'empir resid count': 3567, 'repres best brightest': 3568, 'region look forward': 3569, 'stand inland empir': 3570, 'dr king dedic': 3571, 'king dedic life': 3572, 'student loan debt': 3573, 'were go let': 3574, 'go let happen': 3575, 'still time getcov': 3576, 'trump administr make': 3577, 'prioriti inland empir': 3578, 'health care one': 3579, 'make sure peopl': 3580, 'four year ago': 3581, 'took live 14': 3582, 'live 14 injur': 3583, '14 injur 22': 3584, 'injur 22 commun': 3585, 'legisl would provid': 3586, 'health care cost': 3587, 'help san bernardino': 3588, 'im proud support': 3589, 'sinc presid cruel': 3590, 'twittercom hous pass': 3591, 'countri know home': 3592, 'time senat step': 3593, 'twittercom trump administr': 3594, 'take action protect': 3595, 'one face discrimin': 3596, 'face discrimin love': 3597, 'happi new year': 3598, 'open impeach inquiri': 3599, 'proud stand @hispaniccaucu': 3600, 'commun housegov happi': 3601, 'put american live': 3602, 'american live risk': 3603, 'today im vote': 3604, 'bad problem wors': 3605, 'spend day work': 3606, 'help feder agenc': 3607, 'valu make countri': 3608, 'make countri great': 3609, 'like not twittercom': 3610, 'fund help support': 3611, 'help support good': 3612, 'support good job': 3613, 'head start teacher': 3614, 'start teacher aid': 3615, 'border patrol agent': 3616, 'unaccept today join': 3617, 'american dream mani': 3618, 'famili inland empir': 3619, 'includ amend expand': 3620, 'benefit militari spous': 3621, 'help servic member': 3622, 'progress that made': 3623, 'help american access': 3624, 'display us capitol': 3625, 'taco ramon immigrantown': 3626, 'ramon immigrantown busi': 3627, 'busi heart san': 3628, 'heart san bernardino': 3629, 'san bernardino thank': 3630, 'woman right make': 3631, 'right make health': 3632, 'join hous colleagu': 3633, '@appropsdem colleagu demand': 3634, 'colleagu demand answer': 3635, 'jack h brown': 3636, 'tear apart famili': 3637, 'im join @appropsdem': 3638, '@appropsdem colleagu hear': 3639, 'find goodpay job': 3640, 'health care away': 3641, 'care away million': 3642, 'fund allow inland': 3643, 'allow inland empir': 3644, 'inland empir housegov': 3645, 'proud work @reppaulcook': 3646, 'proud announc feder': 3647, 'announc feder fund': 3648, 'everi american deserv': 3649, 'job inland empir': 3650, 'campaign promis build': 3651, 'promis build wall': 3652, 'constitut nation emerg': 3653, 'enhanc secur southern': 3654, 'secur southern border': 3655, 'solut look forward': 3656, 'enhanc border secur': 3657, 'peopl look forward': 3658, 'reopen govern @realdonaldtrump': 3659, 'time stop play': 3660, 'stop play polit': 3661, 'play polit peopl': 3662, 'polit peopl live': 3663, 'shutdown real consequ': 3664, '116th congress im': 3665, 'throughout 115th congress': 3666, 'deleg letter urg': 3667, 'letter urg speedi': 3668, 'urg speedi distribut': 3669, 'tribal govern care': 3670, 'govern care act': 3671, 'resourc promis fight': 3672, 'promis fight covid19': 3673, 'led entir az': 3674, 'entir az deleg': 3675, 'more bitli twittercom': 3676, 'need assist feder': 3677, 'around clock assist': 3678, 'uncertainti caus coronaviru': 3679, 'bitli az01 famili': 3680, 'nation respons effort': 3681, 'health safeti constitu': 3682, 'home onlin phone': 3683, 'onlin phone mail': 3684, 'bitli pleas see': 3685, 'slow spread covid19': 3686, 'spread covid19 navajo': 3687, 'continu work w': 3688, 'navajo nation az01': 3689, 'az01 bitli az01': 3690, '@secbernhardt close @grandcanyonnp': 3691, 'around clock keep': 3692, 'need temporarili close': 3693, 'az01 commun tribe': 3694, 'websit bitli today': 3695, 'sent letter vp': 3696, 'tribal commun overlook': 3697, 'commun overlook nation': 3698, 'az01 commun bitli': 3699, 'care act provid': 3700, 'muchneed relief az01': 3701, 'az01 famili health': 3702, 'famili health care': 3703, 'today spoke hous': 3704, 'care act legisl': 3705, 'support az01 famili': 3706, 'az01 famili busi': 3707, 'work keep az01': 3708, 'keep az01 famili': 3709, 'neg effect coronaviru': 3710, 'tomorrow look forward': 3711, 'look forward vote': 3712, 'qualiti highspe internet': 3713, 'az01 commun health': 3714, 'protect equip need': 3715, 'equip need keep': 3716, 'az01 work togeth': 3717, 'az01 farmer ag': 3718, 'improv access health': 3719, 'tribal commun across': 3720, 'new legisl packag': 3721, 'legisl packag address': 3722, 'stay inform reliabl': 3723, 'inform reliabl date': 3724, 'govern american approach': 3725, 'health crisi az01': 3726, 'ensur az01 tribal': 3727, 'read ope bitli': 3728, 'propos chang would': 3729, 'sent letter indian': 3730, 'letter indian health': 3731, 'indian health servic': 3732, 'health servic voic': 3733, 'servic voic concern': 3734, 'tribal leader health': 3735, 'receiv adequ guidanc': 3736, 'time manner more': 3737, 'manner more bitli': 3738, 'bipartisan famili first': 3739, 'head presid desk': 3740, 'presid desk signatur': 3741, 'urg senat take': 3742, 'test covid19 extend': 3743, 'covid19 extend paid': 3744, 'extend paid sick': 3745, 'leav famili affect': 3746, 'famili affect expand': 3747, 'affect expand nutrit': 3748, 'expand nutrit assist': 3749, 'transit militari personnel': 3750, 'career solar industri': 3751, 'solar industri bitli': 3752, 'increasingli connect world': 3753, 'one hardwork intern': 3754, 'keep love one': 3755, 'az01 famili w': 3756, 'due coronaviru concern': 3757, 'cancel upcom az01': 3758, 'upcom az01 town': 3759, 'az01 town hall': 3760, 'first prioriti health': 3761, 'ensur az01 rural': 3762, 'resourc avail websit': 3763, 'az01 tuba citi': 3764, 'tuba citi meet': 3765, 'citi meet casework': 3766, 'meet casework staff': 3767, 'offic hour issu': 3768, 'hour issu social': 3769, 'secur medicar anoth': 3770, 'medicar anoth feder': 3771, 'feder agenc thursday': 3772, 'agenc thursday march': 3773, 'thursday march 12th': 3774, 'march 12th 1000': 3775, '12th 1000 200': 3776, '1000 200 pm': 3777, '200 pm western': 3778, 'pm western navajo': 3779, 'work close digit': 3780, 'spoke @energycommerc subcommitte': 3781, '@energycommerc subcommitte markup': 3782, 'money polit safeguard': 3783, 'us capitol attract': 3784, 'capitol attract visit': 3785, 'attract visit websit': 3786, 'visit websit detail': 3787, 'websit detail bitli': 3788, 'detail bitli az01': 3789, 'hear directli az01': 3790, 'directli az01 famili': 3791, 'az01 famili today': 3792, 'hopi veteran outstat': 3793, 'veteran outstat tomorrow': 3794, 'new mobil offic': 3795, 'may feder agenc': 3796, 'meet casework detail': 3797, 'discuss econom develop': 3798, 'az01 rural commun': 3799, 'hardwork az01 famili': 3800, 'agenc program encourag': 3801, 'tomorrow meet casework': 3802, 'meet casework az01': 3803, 'staff detail bitli': 3804, 'detail bitli staff': 3805, 'bitli staff hold': 3806, 'across az01 ensur': 3807, 'az01 ensur famili': 3808, 'ensur famili veteran': 3809, 'famili veteran senior': 3810, 'az01 look forward': 3811, 'togeth identifi last': 3812, 'keep promis veteran': 3813, 'offic visit websit': 3814, 'staff host mobil': 3815, 'az01 famili abl': 3816, 'famili abl access': 3817, 'abl access resourc': 3818, 'access resourc avail': 3819, 'resourc avail offic': 3820, 'rural electr cooper': 3821, 'week met w': 3822, 'togeth find solut': 3823, 'agenc program urg': 3824, 'program urg stop': 3825, 'veteran love one': 3826, 'invest public school': 3827, 'ag produc work': 3828, 'produc work tirelessli': 3829, 'deserv access highest': 3830, 'access highest qualiti': 3831, 'highest qualiti mental': 3832, 'health resourc cosponsor': 3833, 'resourc cosponsor @repbrindisi': 3834, 'cosponsor @repbrindisi see': 3835, '@repbrindisi see rural': 3836, 'see rural resili': 3837, 'rural resili act': 3838, 'resili act address': 3839, 'act address crisi': 3840, 'address crisi farmer': 3841, 'crisi farmer suicid': 3842, 'farmer suicid america': 3843, 'offic hour page': 3844, 'call 928 286533': 3845, '928 286533 email': 3846, '286533 email pauletteyazzie@mailhousegov': 3847, 'email pauletteyazzie@mailhousegov schedul': 3848, 'pauletteyazzie@mailhousegov schedul appoint': 3849, 'commun thought today': 3850, 'bitli last week': 3851, 'offic hour window': 3852, 'hour window rock': 3853, 'bitli need build': 3854, 'need build school': 3855, 'build school hospit': 3856, 'school hospit road': 3857, 'hospit road censu': 3858, 'road censu onceadecad': 3859, 'chang popul determin': 3860, 'popul determin feder': 3861, 'fund flow az01': 3862, 'flow az01 commun': 3863, 'bipartisan solut address': 3864, 'solut address nation': 3865, 'nation crumbl infrastructur': 3866, 'pass puppi assist': 3867, 'therapi act bill': 3868, 'bill cosponsor establish': 3869, 'cosponsor establish pilot': 3870, 'establish pilot program': 3871, 'pilot program within': 3872, 'program within va': 3873, 'within va give': 3874, 'va give veteran': 3875, 'give veteran access': 3876, 'veteran access therapi': 3877, 'access therapi dog': 3878, 'therapi dog address': 3879, 'dog address mental': 3880, 'az01 commun flood': 3881, 'bitli week staff': 3882, 'year introduc bipartisan': 3883, 'work hard ensur': 3884, 'veteran az01 receiv': 3885, 'secur nearli 85000': 3886, 'nearli 85000 backpay': 3887, '85000 backpay marcu': 3888, 'offic hour winslow': 3889, 'hour winslow springervil': 3890, 'bitli former cop': 3891, 'prioriti mine week': 3892, 'mine week staff': 3893, 'week met az01': 3894, 'prioriti year thank': 3895, 'thank visit washington': 3896, 'vulner ensur care': 3897, 'ensur care center': 3898, 'held account serv': 3899, 'account serv az01': 3900, 'serv az01 bitli': 3901, '9 12 pm': 3902, 'complet rio de': 3903, 'de flag flood': 3904, 'flag flood control': 3905, 'flood control project': 3906, 'sinc come congress': 3907, 'come congress 2017': 3908, 'az01 indian countri': 3909, 'key prioriti mine': 3910, 'encourag stop question': 3911, 'stop question feder': 3912, 'bitli deepli sadden': 3913, 'joe vandev sr': 3914, 'vandev sr joe': 3915, 'navajo code talker': 3916, 'serv az01 famili': 3917, 'work accomplish 2019': 3918, 'bitli last year': 3919, 'offic hour facebook': 3920, 'resolv disput feder': 3921, 'disput feder agenc': 3922, 'return nearli 2': 3923, 'nearli 2 million': 3924, 'promis act legisl': 3925, 'affect closur ng': 3926, 'veteran program encourag': 3927, 'recogn import work': 3928, 'tribal colleg univers': 3929, 'colleg univers week': 3930, 'digit divid az01': 3931, 'divid az01 bitli': 3932, 'veteran servic staff': 3933, 'veteran resourc fair': 3934, 'issu must continu': 3935, 'pleas tara mccollum': 3936, 'mccollum plese @azalliancechc': 3937, 'offic hour sedona': 3938, 'bring constitu servic': 3939, 'see good az01': 3940, 'good az01 bitli': 3941, 'detail websit bitli': 3942, 'page bitli icymi': 3943, 'proud receiv a': 3944, 'receiv a rate': 3945, 'honor repres az01': 3946, 'live arizona famili': 3947, 'accomplish past year': 3948, 'full statement bitli': 3949, 'offic provid matter': 3950, 'provid matter zip': 3951, 'matter zip code': 3952, 'zip code detail': 3953, 'code detail week': 3954, 'detail week mobil': 3955, 'vote pass bill': 3956, 'pass bill secur': 3957, 'watch remark @energycommerc': 3958, 'famili navajo nation': 3959, 'navajo nation lack': 3960, 'nation lack access': 3961, 'lack access electr': 3962, 'access electr tribal': 3963, 'electr tribal power': 3964, 'power act would': 3965, 'would provid assist': 3966, 'bitli icymi week': 3967, 'front line work': 3968, 'talk econom relief': 3969, 'busi affect novel': 3970, 'affect novel coronaviru': 3971, 'listen full teletown': 3972, 'full teletown hall': 3973, 'teletown hall here': 3974, 'hall here housegov': 3975, 'everyon call teletown': 3976, 'thank you icymi': 3977, 'icymi governor pete': 3978, 'pete rickett announc': 3979, 'owli lo resultado': 3980, 'lo resultado del': 3981, 'resultado del censo': 3982, 'del censo 2020': 3983, 'censo 2020 ayudarn': 3984, '2020 ayudarn determinar': 3985, 'ayudarn determinar cmo': 3986, 'determinar cmo lo': 3987, 'cmo lo fondo': 3988, 'lo fondo federal': 3989, 'fondo federal fluyen': 3990, 'federal fluyen la': 3991, 'fluyen la comunidad': 3992, 'la comunidad cada': 3993, 'comunidad cada ao': 3994, 'cada ao durant': 3995, 'ao durant la': 3996, 'durant la prxima': 3997, 'la prxima dcada': 3998, 'prxima dcada aprovech': 3999}\n"
     ]
    }
   ],
   "source": [
    "X, Y = transform_dataset(tweets)"
   ]
  },
  {
   "cell_type": "code",
   "execution_count": 24,
   "metadata": {},
   "outputs": [],
   "source": [
    "XTrain, XTest, YTrain, YTest = train_test_split(\n",
    "    X, Y, test_size=0.33\n",
    ")"
   ]
  },
  {
   "cell_type": "markdown",
   "metadata": {},
   "source": [
    "#### G. Try many classifier types"
   ]
  },
  {
   "cell_type": "code",
   "execution_count": 25,
   "metadata": {},
   "outputs": [
    {
     "name": "stdout",
     "output_type": "stream",
     "text": [
      "0.8146464646464646\n"
     ]
    }
   ],
   "source": [
    "from sklearn.neural_network import MLPClassifier\n",
    "nn = MLPClassifier(\n",
    "    solver='adam',\n",
    "    activation='relu',\n",
    "    alpha=1e-5,\n",
    "    hidden_layer_sizes=(2000,), \n",
    "    max_iter=200\n",
    ")\n",
    "nn.fit(XTrain, YTrain)\n",
    "print(nn.score(XTest, YTest))"
   ]
  },
  {
   "cell_type": "code",
   "execution_count": 26,
   "metadata": {},
   "outputs": [
    {
     "name": "stdout",
     "output_type": "stream",
     "text": [
      "Model Score (against training): 0.9559701492537314\n",
      "Model Score (against testing): 0.7065656565656566\n"
     ]
    }
   ],
   "source": [
    "# Train\n",
    "clf = DecisionTreeClassifier().fit(XTrain, YTrain)\n",
    "\n",
    "YTestPred = clf.predict(XTest)\n",
    "confusion = confusion_matrix(YTest, YTestPred)\n",
    "\n",
    "scoreAgainstTraningSet = clf.score(XTrain, YTrain)\n",
    "scoreAgainstTestingSet = clf.score(XTest,YTest)\n",
    "print(\"Model Score (against training): \" + str(scoreAgainstTraningSet) );\n",
    "print(\"Model Score (against testing): \" + str(scoreAgainstTestingSet) );"
   ]
  },
  {
   "cell_type": "code",
   "execution_count": 27,
   "metadata": {},
   "outputs": [
    {
     "name": "stdout",
     "output_type": "stream",
     "text": [
      "KNeighborsClassifier(algorithm='auto', leaf_size=30, metric='minkowski',\n",
      "                     metric_params=None, n_jobs=None, n_neighbors=9, p=2,\n",
      "                     weights='distance')\n",
      "0.6974747474747475\n"
     ]
    }
   ],
   "source": [
    "#from sklearn.neighbors import KNeighborsClassifier\n",
    "k = 9   # number of nearest neighbors\n",
    "knnPred = neighbors.KNeighborsClassifier(n_neighbors = k, weights='distance')\n",
    "knnPred.fit(XTrain, YTrain);\n",
    "print(knnPred)\n",
    "\n",
    "\n",
    "accuracy = knnPred.score(XTest,YTest)\n",
    "print(accuracy)"
   ]
  },
  {
   "cell_type": "markdown",
   "metadata": {},
   "source": [
    "# Week 2: Citizen Tweets"
   ]
  },
  {
   "cell_type": "code",
   "execution_count": 28,
   "metadata": {},
   "outputs": [],
   "source": [
    "citizen_tweets = pd.read_csv('citizen_tweets.csv')"
   ]
  },
  {
   "cell_type": "code",
   "execution_count": 29,
   "metadata": {},
   "outputs": [
    {
     "name": "stdout",
     "output_type": "stream",
     "text": [
      "       Hashtag  Party                                              tweet\n",
      "0         MAGA      1  Yeah. You Democrats are loving it aren't you? ...\n",
      "1         MAGA      1  Hopefully the dimwits that voted for one of th...\n",
      "2         MAGA      1  #QAnon #QArmy #MAGA #QAnon #GreatAwakening #Sp...\n",
      "3         MAGA      1  That Woman is a disgrace, she adds nothing to ...\n",
      "4         MAGA      1         Same to you GIRL #MAGA #KAG2020 #fightback\n",
      "..         ...    ...                                                ...\n",
      "274  SleepyJoe      1  The Dem president, That gave the Iranians $1.8...\n",
      "275  SleepyJoe      1  What‚Äôs good comedy, socialist slaughter in t...\n",
      "276  SleepyJoe      1  You can tell a lot about somebody by who they ...\n",
      "277  SleepyJoe      1  Actually...President Trump predicted you would...\n",
      "278  SleepyJoe      1  Son, you sound like a person who could really ...\n",
      "\n",
      "[279 rows x 3 columns]\n"
     ]
    }
   ],
   "source": [
    "print(citizen_tweets)"
   ]
  },
  {
   "cell_type": "code",
   "execution_count": 30,
   "metadata": {},
   "outputs": [],
   "source": [
    "def remove_tag(hashtag, content):\n",
    "    return content.replace(\"#\" + hashtag, \"\")"
   ]
  },
  {
   "cell_type": "code",
   "execution_count": 31,
   "metadata": {},
   "outputs": [
    {
     "name": "stderr",
     "output_type": "stream",
     "text": [
      "/usr/local/lib/python3.7/site-packages/ipykernel_launcher.py:8: SettingWithCopyWarning: \n",
      "A value is trying to be set on a copy of a slice from a DataFrame.\n",
      "Try using .loc[row_indexer,col_indexer] = value instead\n",
      "\n",
      "See the caveats in the documentation: http://pandas.pydata.org/pandas-docs/stable/user_guide/indexing.html#returning-a-view-versus-a-copy\n",
      "  \n"
     ]
    }
   ],
   "source": [
    "hashtags = citizen_tweets['Hashtag'].unique()\n",
    "\n",
    "for hashtag in hashtags:\n",
    "    \n",
    "    mask = (citizen_tweets['Hashtag'] == hashtag)\n",
    "    temp_tweets = citizen_tweets[mask]\n",
    "        \n",
    "    temp_tweets['tweet'] = temp_tweets['tweet'].apply(lambda h: remove_tag(hashtag, h))  \n",
    "    citizen_tweets.loc[mask, 'tweet'] = temp_tweets['tweet']\n",
    "    "
   ]
  },
  {
   "cell_type": "code",
   "execution_count": 32,
   "metadata": {},
   "outputs": [],
   "source": [
    "citizen_tweets['tweet'] = citizen_tweets['tweet'].apply(lambda t: transform_tweet(t))"
   ]
  },
  {
   "cell_type": "code",
   "execution_count": 33,
   "metadata": {},
   "outputs": [
    {
     "data": {
      "text/plain": [
       "0      yeah democrat love you guess what @potu @reald...\n",
       "1      hope dimwit vote one socialist communist rathe...\n",
       "2      qanon qarmi qanon greatawaken spygat stoptheco...\n",
       "3      woman disgrac add noth discuss covid doesnt ca...\n",
       "4                                 girl kag2020 fightback\n",
       "                             ...                        \n",
       "274    dem presid gave iranian 18 billion secret deal...\n",
       "275    what good comedi socialist slaughter former us...\n",
       "276    tell lot somebodi hang with @realdonaldtrump s...\n",
       "277    actuallypresid trump predict would foolishli t...\n",
       "278    son sound like person could realli use good da...\n",
       "Name: tweet, Length: 279, dtype: object"
      ]
     },
     "execution_count": 33,
     "metadata": {},
     "output_type": "execute_result"
    }
   ],
   "source": [
    "citizen_tweets['tweet']"
   ]
  },
  {
   "cell_type": "code",
   "execution_count": 34,
   "metadata": {},
   "outputs": [],
   "source": [
    "citizenDf = pd.DataFrame({\n",
    "    'tweet': citizen_tweets['tweet'].values,\n",
    "    'Party': citizen_tweets['Party'].values,\n",
    "    'Hashtag': citizen_tweets['Hashtag'].values\n",
    "})"
   ]
  },
  {
   "cell_type": "code",
   "execution_count": 35,
   "metadata": {},
   "outputs": [
    {
     "name": "stdout",
     "output_type": "stream",
     "text": [
      "{'@potu': 0, 'west': 1, 'discrimin': 2, 'town': 3, 'god': 4, 'censu': 5, 'librari': 6, 'terrorist': 7, 'count': 8, 'pelosi': 9, 'forthepeopl': 10, 'supplement': 11, '@usda': 12, 'partisan': 13, 'condit': 14, 'enrol': 15, 'said': 16, 'comprehens': 17, 'mental': 18, 'democrat': 19, 'unpreced': 20, 'condemn': 21, 'pm': 22, 'facebookcom': 23, 'gun': 24, 'foxnewscom': 25, 'mobil': 26, 'medicaid': 27, 'legal': 28, 'montgomeri': 29, 'manufactur': 30, 'remov': 31, 'telephon': 32, 'confid': 33, 'paid': 34, 'chanc': 35, 'climat': 36, 'usmcanow': 37, 'decid': 38, 'cnbccom': 39, '2020censu': 40, 'regim': 41, 'appropri': 42, 'central': 43, 'capabl': 44, 'facebook': 45, 'ad': 46, '2020censusgov': 47, 'result': 48, 'progrowth': 49, 'key': 50, 'border': 51, 'gender': 52, 'equalpayday': 53, 'size': 54, 'jobsreport': 55, 'aliv': 56, 'recommit': 57, 'soldier': 58, 'unborn': 59, 'phone': 60, 'daca': 61, 'lender': 62, 'instead': 63, 'rancher': 64, 'far': 65, 'kick': 66, 'custom': 67, 'pray': 68, 'connect': 69, 'email': 70, 'isi': 71, 'rx': 72, 'speaker': 73, 'china': 74, 'sick': 75, 'inittogeth': 76, 'arm': 77, 'violenc': 78, 'democraci': 79, 'thrive': 80, '2016': 81, 'woman': 82, 'tennesse': 83, 'growth': 84, 'park': 85, 'bless': 86, 'ultim': 87, '2010': 88, 'postpon': 89, 'horrif': 90, 'georgia': 91, '@realdonaldtrump': 92, 'lowest': 93, '35': 94, 'road': 95, '14': 96, 'terror': 97, 'natl': 98, 'fail': 99, 'illeg': 100, 'advoc': 101, 'regist': 102, 'rebuild': 103, 'certainti': 104, 'advanc': 105, 'wwii': 106, 'bridg': 107, 'monday': 108, 'nytimescom': 109, 'percent': 110, 'sever': 111, 'disrupt': 112, 'singl': 113, 'enemi': 114, 'doubt': 115, 'stem': 116, 'oversight': 117, 'video': 118, '@whitehous': 119, 'insur': 120, 'wsjcom': 121, 'defend': 122, 'corpor': 123, 'iran': 124, 'farmer': 125, 'epidem': 126, 'vital': 127, 'coverag': 128, 'russia': 129, 'michael': 130, 'fear': 131, 'touch': 132, 'divers': 133, 'deepli': 134, '@secretarysonni': 135, 'click': 136, 'dial': 137, 'sham': 138, 'unaccept': 139, 'quick': 140, 'suprem': 141, 'prayer': 142, 'lowincom': 143, 'globe': 144, 'boom': 145, 'sanctuari': 146, 'hi': 147, 'sector': 148, 'agreement': 149, 'current': 150, 'jackson': 151, 'repeal': 152, 'push': 153, 'interview': 154, 'bitli': 155, 'rural': 156, 'tragedi': 157, 'census2020': 158, 'movement': 159, 'mail': 160, '@energycommerc': 161, 'owli': 162, 'concern': 163, 'everyth': 164, 'cover': 165, 'eranow': 166, 'lifesav': 167, 'standard': 168, 'airmen': 169, 'championship': 170, 'prolif': 171, 'proact': 172, 'healthcar': 173, 'mission': 174, 'process': 175, 'everyon': 176, 'bank': 177, 'troop': 178, 'ga': 179, 'washingtonexaminercom': 180, 'suffer': 181, 'plant': 182, 'weekend': 183, 'say': 184, 'bigotri': 185, 'mueller': 186, 'team': 187, 'enforc': 188, 'payrol': 189, '36': 190, 'commend': 191, 'accomplish': 192, 'motiv': 193, 'my2020censusgov': 194, 'be': 195, 'aca': 196, 'deposit': 197, '32': 198, 'undo': 199, 'represent': 200, 'communist': 201, 'alabama': 202, 'document': 203, 'mayor': 204, 'king': 205, 'mcconnel': 206, 'who': 207, 'chairman': 208, 'contain': 209, 'socialist': 210, 'soleimani': 211, 'traffick': 212, 'casework': 213, 'piec': 214, 'spirit': 215, 'white': 216, 'canada': 217, 'board': 218, 'racist': 219, 'hatr': 220, 'pro': 221, 'dem': 222, 'mourn': 223, 'younger': 224, 'mitch': 225, 'fli': 226, 'expedit': 227, 'revel': 228, 'unemploy': 229, 'affect': 230, 'deliv': 231, 'air': 232, 'iranian': 233, 'caresact': 234, 'mexico': 235, 'east': 236, 'trust': 237, 'all': 238, 'restor': 239, 'blackhistorymonth': 240, 'lgbtq': 241, 'hr8': 242, 'ope': 243, 'older': 244, 'phase': 245, 'effici': 246, '@vp': 247, 'stateofhealthcar': 248, '2': 249, 'innov': 250, 'thi': 251, 'group': 252, 'usmca': 253, 'weve': 254, 'valentin': 255, 'thrill': 256, '31': 257, 'near': 258, 'draft': 259, 'afternoon': 260, 'born': 261, 'period': 262, 'familiesfirst': 263, 'a': 264, 'reliabl': 265, 'victori': 266, 'apnewscom': 267, 'comput': 268, 'prove': 269, 'treasurygov': 270, 'guy': 271, 'trace': 272, 'struggl': 273, 'guid': 274, 'florida': 275, 'march': 276, 'appoint': 277, 'endgunviol': 278, 'catch': 279, 'price': 280, 'guard': 281, 'regulatori': 282, 'felt': 283, 'tell': 284, 'will': 285, 'extend': 286, 'protectourcar': 287, 'uncertain': 288, 'poverti': 289, 'export': 290, '273000': 291, 'acquit': 292, 'charad': 293, 'tragic': 294, 'panel': 295, 'driver': 296, 'medicar': 297, 'technolog': 298, 'number': 299, 'advantag': 300, 'uniform': 301, 'renew': 302, 'equal': 303, 'control': 304, 'civil': 305, 'antisemit': 306, 'clean': 307, 'al': 308, 'morn': 309, 'counti': 310, 'almost': 311, 'match': 312, 'lifelong': 313, 'expens': 314, 'landmark': 315, 'physic': 316, 'sexual': 317, 'seem': 318, 'smart': 319, 'sadden': 320, 'rent': 321, 'caution': 322, 'construct': 323, 'warm': 324, 'everywher': 325, 'suppli': 326, 'investig': 327, 'true': 328, 'lose': 329, 'owe': 330, 'bonni': 331, 'that': 332, 'highlight': 333, 'taliban': 334, 'truck': 335, 'hand': 336, 'outcom': 337, 'what': 338, 'posit': 339, 'recipi': 340, 'owner': 341, 'industri': 342, 'seriou': 343, 'hundr': 344, 'cyber': 345, 'becam': 346, 'nuclear': 347, 'footbal': 348, 'frequent': 349, 'five': 350, '@dcexamin': 351, 'green': 352, 'lawenforcementappreciationday': 353, 'whitehousegov': 354, 'creator': 355, 'overcom': 356, 'express': 357, 'racism': 358, 'advocaci': 359, 'roevwad': 360, 'testimoni': 361, 'giant': 362, '75': 363, 'equalityact': 364, '80': 365, 'rosa': 366, '2021': 367, 'affordablecareact': 368, '@cmsgov': 369, 'outreach': 370, 'wound': 371, 'comfort': 372, 'discharg': 373, 'properti': 374, 'evil': 375, 'sailor': 376, 'schiff': 377, 'passion': 378, 'inclus': 379, 'mayb': 380, 'popular': 381, 'hurrican': 382, 'expert': 383, 'washingtonpostcom': 384, 'session': 385, '@uscensusbureau': 386, 'win': 387, 'healthi': 388, 'az01': 389, 'freedom': 390, 'reform': 391, 'foster': 392, 'never': 393, 'form': 394, 'progress': 395, 'tri': 396, 'dreamer': 397, '200': 398, 'associ': 399, '1000': 400, 'commission': 401, 'buy': 402, 'paper': 403, 'disord': 404, 'daili': 405, 'campus': 406, 'prosper': 407, 'februari': 408, 'homeless': 409, 'spoke': 410, 'ground': 411, 'patient': 412, 'publicpriv': 413, '@uschamb': 414, 'scammer': 415, 'welfar': 416, 'creation': 417, 'afloat': 418, 'cough': 419, 'speed': 420, 'worth': 421, 'scotu': 422, 'v': 423, 'releas': 424, 'transgend': 425, 'swear': 426, 'condol': 427, 'assassin': 428, 'rev': 429, 'vigil': 430, 'nasagov': 431, 'internationalwomensday': 432, 'energi': 433, 'lawmak': 434, 'cast': 435, 'usdagov': 436, 'beacon': 437, 'contrast': 438, 'nashvil': 439, 'walker': 440, '@stevescalis': 441, 'captain': 442, 'adam': 443, 'stake': 444, 'throw': 445, 'copi': 446, '2002': 447, 'whi': 448, '@thejusticedept': 449, 'core': 450, 'politic': 451, 'tribal': 452, 'infrastructur': 453, 'frederick': 454, 'wage': 455, 'sgt': 456, 'manag': 457, 'livestock': 458, 'club': 459, 'closur': 460, 'shape': 461, 'reproduct': 462, 'ballot': 463, 'tribe': 464, 'council': 465, 'venezuela': 466, 'radic': 467, 'children': 468, 'bernardino': 469, 'share': 470, 'place': 471, 'leav': 472, 'health': 473, 'order': 474, 'river': 475, 'desk': 476, 'amount': 477, 'chair': 478, 'eye': 479, 'fair': 480, 'submit': 481, 'salut': 482, 'ceo': 483, 'matern': 484, 'vawa': 485, 'johnni': 486, 'competit': 487, 'major': 488, 'commun': 489, 'effort': 490, 'low': 491, 'broke': 492, 'fellow': 493, 'bright': 494, 'hr1': 495, '@redcross': 496, 'data': 497, 'worst': 498, 'cdcgov': 499, 'town hall': 500, 'hous democrat': 501, 'im work': 502, 'mental health': 503, 'new job': 504, 'gun violenc': 505, 'speaker pelosi': 506, 'us safe': 507, 'proud stand': 508, 'pass bill': 509, 'sick leav': 510, 'twittercom im': 511, 'right now': 512, 'access health': 513, 'mobil offic': 514, 'care worker': 515, 'bipartisan legisl': 516, 'feder fund': 517, 'health insur': 518, 'thank @realdonaldtrump': 519, 'paid sick': 520, 'today im': 521, 'supplement fund': 522, 'pass bipartisan': 523, 'job creat': 524, 'work peopl': 525, 'health crisi': 526, 'dark money': 527, 'partisan impeach': 528, 'job ad': 529, 'see mani': 530, 'great news': 531, 'farmer rancher': 532, 'telephon town': 533, 'presid @realdonaldtrump': 534, 'must ensur': 535, 'here facebookcom': 536, 'american commun': 537, 'take action': 538, 'climat chang': 539, 'thank @potu': 540, 'protect act': 541, '100 year': 542, 'child care': 543, 'farmer manufactur': 544, 'past time': 545, 'social secur': 546, 'last night': 547, 'special interest': 548, '@realdonaldtrump sign': 549, 'thank you': 550, 'state local': 551, 'vote right': 552, 'move forward': 553, 'public school': 554, 'protect right': 555, 'air forc': 556, 'expand access': 557, '2016 elect': 558, 'great see': 559, 'housegov im': 560, 'citizen unit': 561, 'time senat': 562, 'food assist': 563, 'im proud': 564, 'im hold': 565, 'stay healthi': 566, 'censu count': 567, 'dr king': 568, 'violenc women': 569, 'secur border': 570, 'resourc fair': 571, 'impeach process': 572, 'civil right': 573, 'facebook page': 574, 'rx drug': 575, 'spread coronaviru': 576, 'far long': 577, 'suprem court': 578, 'congress pass': 579, 'preexist condit': 580, 'women uniform': 581, 'help pass': 582, 'worker right': 583, 'ultim sacrific': 584, 'censu bureau': 585, 'famili affect': 586, 'last day': 587, 'cast vote': 588, 'work day': 589, 'learn appli': 590, 'introduc bipartisan': 591, 'import work': 592, 'inform visit': 593, 'health coverag': 594, 'law enforc': 595, 'health care': 596, 'click link': 597, '@potu sign': 598, 'work famili': 599, 'due process': 600, 'paycheck protect': 601, 'keep famili': 602, 'million american': 603, 'work forthepeopl': 604, 'safe healthi': 605, 'fair act': 606, 'commit fight': 607, 'commun access': 608, 'thank dedic': 609, 'communist parti': 610, 'staff hold': 611, 'keep american': 612, 'trade agreement': 613, 'protect program': 614, 'health safeti': 615, 'great state': 616, 'born aliv': 617, 'open enrol': 618, 'win american': 619, 'hold mobil': 620, 'montgomeri counti': 621, 'men women': 622, 'stop spread': 623, 'sign usmca': 624, 'enforc offic': 625, 'alway rememb': 626, 'make chang': 627, 'commun today': 628, 'sure everi': 629, 'spread word': 630, 'grate opportun': 631, 'work congress': 632, 'us economi': 633, 'unemploy rate': 634, 'crisi border': 635, 'equal right': 636, 'risk live': 637, 'young peopl': 638, 'offic hour': 639, 'presid trump': 640, 'progrowth polici': 641, '50 year': 642, 'need assist': 643, 'commun help': 644, 'visit 2020censusgov': 645, 'famili deserv': 646, 'today proud': 647, 'earlier year': 648, 'uncertain time': 649, 'presid sign': 650, 'money polit': 651, 'today @realdonaldtrump': 652, 'hour today': 653, 'higher educ': 654, 'make it': 655, 'im host': 656, 'act would': 657, 'proud announc': 658, 'manufactur busi': 659, 'farm bill': 660, 'us capitol': 661, 'cost american': 662, 'tax cut': 663, 'avail help': 664, 'hold telephon': 665, 'care provid': 666, 'resourc inform': 667, 'women equal': 668, 'one thing': 669, 'col vindman': 670, 'deserv access': 671, 'border secur': 672, 'work address': 673, 'let us': 674, 'housegov look': 675, 'tax return': 676, 'equal pay': 677, 'administr propos': 678, 'fight back': 679, 'pleas consid': 680, 'million job': 681, 'american worker': 682, 'servic sacrific': 683, 'aliv abort': 684, 'sanctuari citi': 685, 'access new': 686, 'first woman': 687, 'call offic': 688, 'test coronaviru': 689, 'follow @cdcgov': 690, 'good friend': 691, 'keep us': 692, 'art competit': 693, 'busi owner': 694, 'district offic': 695, 'one anoth': 696, 'hand sanit': 697, 'provid necessari': 698, 'local commun': 699, 'feder law': 700, 'great visit': 701, 'lowest level': 702, 'brave men': 703, 'avoid touch': 704, 'access qualiti': 705, 'twittercom trump': 706, 'were still': 707, 'day work': 708, 'help secur': 709, 'women act': 710, 'call email': 711, 'protect health': 712, 'defens product': 713, 'product act': 714, 'stay tune': 715, 'valentin day': 716, 'day night': 717, 'nation defens': 718, 'ive heard': 719, 'fight freedom': 720, 'democrat tri': 721, 'put polit': 722, 'democrat leadership': 723, 'relief american': 724, 'pelosi bring': 725, 'abort survivor': 726, 'worker front': 727, 'make voic': 728, '@realdonaldtrump today': 729, 'america today': 730, 'day one': 731, 'resourc guid': 732, 'hurrican michael': 733, 'trade deal': 734, 'work hard': 735, 'that im': 736, 'domest violenc': 737, '2020 censu': 738, 'im look': 739, 'drug cost': 740, 'middl east': 741, 'happen now': 742, 'take place': 743, 'chines communist': 744, 'twittercom congratul': 745, '36 unemploy': 746, 'support presid': 747, 'fight isi': 748, 'nation prescript': 749, 'promis kept': 750, 'thank law': 751, 'away famili': 752, 'im thank': 753, 'happi thanksgiv': 754, 'local state': 755, 'without doubt': 756, 'support commun': 757, 'stay afloat': 758, 'ill join': 759, 'visit my2020censusgov': 760, 'stand togeth': 761, 'without fear': 762, 'took import': 763, 'fight make': 764, 'month celebr': 765, 'mitch mcconnel': 766, 'housegov proud': 767, 'honor host': 768, 'support student': 769, 'gender equal': 770, 'equal work': 771, 'twittercom proud': 772, 'pass hr1': 773, 'tonight sotu': 774, 'countri deserv': 775, 'fill 2020': 776, 'doctor health': 777, 'today call': 778, 'follow cdc': 779, 'one safe': 780, 'gener come': 781, 'work state': 782, 'across globe': 783, 'protect environ': 784, 'know firsthand': 785, 'state thank': 786, 'fair pay': 787, 'pay act': 788, 'look back': 789, 'happi announc': 790, 'protect older': 791, 'thank honor': 792, 'night keep': 793, 'peopl work': 794, 'long time': 795, 'import know': 796, 'america farmer': 797, 'weve done': 798, 'frequent ask': 799, 'state today': 800, 'help nation': 801, 'older american': 802, 'us job': 803, 'send messag': 804, 'adam schiff': 805, 'twittercom @realdonaldtrump': 806, 'survivor protect': 807, 'district work': 808, 'improv stateofhealthcar': 809, 'togeth protect': 810, 'fight get': 811, 'countri honor': 812, 'repeal 2002': 813, 'court decis': 814, 'today it': 815, 'busi thank': 816, 'new medicin': 817, 'usmca creat': 818, '50year low': 819, 'updat covid19': 820, 'privat sector': 821, 'congression district': 822, 'good news': 823, 'famili safe': 824, 'coronaviru covid19': 825, 'full interview': 826, 'reach offic': 827, 'san bernardino': 828, 'american peopl': 829, 'stop offic': 830, '2019 congression': 831, 'econom growth': 832, 'question feder': 833, 'access resourc': 834, 'afford health': 835, 'rural area': 836, 'valentin veteran': 837, 'impeach sham': 838, '@realdonaldtrump sotu': 839, 'partisan polit': 840, 'econom opportun': 841, 'appreci meet': 842, 'unit state': 843, 'bipartisan bill': 844, 'keep promis': 845, 'year ago': 846, 'legisl help': 847, '75 year': 848, 'join colleagu': 849, 'job report': 850, 'wage growth': 851, 'continu fight': 852, 'school student': 853, 'keep commun': 854, 'commun countri': 855, 'commun resourc': 856, 'care act': 857, 'covid19 resourc': 858, 'put togeth': 859, 'take step': 860, 'must keep': 861, 'keep fight': 862, 'health center': 863, 'week hous': 864, 'commun health': 865, '200 pm': 866, 'pass usmca': 867, 'tax relief': 868, '@realdonaldtrump desk': 869, 'militari readi': 870, 'unemploy benefit': 871, 'famili small': 872, 'introduc bill': 873, 'detail here': 874, '7 million': 875, 'sinc day': 876, 'illeg immigr': 877, 'feder agenc': 878, 'american safe': 879, 'act pass': 880, 'access afford': 881, 'farm bureau': 882, 'floor vote': 883, 'highspe internet': 884, 'academi day': 885, 'import step': 886, 'american across': 887, 'info here': 888, 'deserv know': 889, 'there still': 890, 'way help': 891, 'commun get': 892, 'defend countri': 893, 'honor meet': 894, 'discuss work': 895, 'ensur everi': 896, 'help feder': 897, 'militari famili': 898, 'famili across': 899, 'hear directli': 900, 'bill expand': 901, 'work across': 902, 'defend nation': 903, 'im urg': 904, 'protect equip': 905, 'put food': 906, 'food tabl': 907, 'help save': 908, 'learn work': 909, 'subcommitte hear': 910, 'everi year': 911, 'servicememb famili': 912, 'make payrol': 913, 'govern take': 914, 'economi ad': 915, '@realdonaldtrump commit': 916, 'forest product': 917, 'connect resourc': 918, 'read letter': 919, 'meet me': 920, 'trace act': 921, 'today discuss': 922, 'emerg relief': 923, 'border crisi': 924, 'free covid19': 925, 'twittercom happen': 926, 'resourc avail': 927, '@potu @realdonaldtrump': 928, 'first district': 929, 'high school': 930, 'page facebookcom': 931, 'week washington': 932, 'twittercom great': 933, 'train program': 934, 'american farmer': 935, 'agreement usmca': 936, 'bring usmca': 937, 'im honor': 938, 'million small': 939, 'anoth great': 940, 'secur benefit': 941, 'pass away': 942, 'bill help': 943, 'truck driver': 944, 'due coronaviru': 945, 'full equal': 946, 'protect commun': 947, 'highqual afford': 948, 'thank visit': 949, 'sure get': 950, 'watch full': 951, 'continu deliv': 952, 'must make': 953, 'learn import': 954, 'american deserv': 955, 'background check': 956, 'bipartisan work': 957, 'colleagu side': 958, 'congress im': 959, 'get work': 960, 'bitli twittercom': 961, 'protect public': 962, 'vote favor': 963, 'fight protect': 964, 'one import': 965, 'power act': 966, 'improv health': 967, 'execut order': 968, 'world health': 969, 'fill censu': 970, 'thank meet': 971, '273000 new': 972, 'us must': 973, 'first step': 974, 'thank presid': 975, 'work us': 976, 'rebuild militari': 977, '@realdonaldtrump polici': 978, 'big win': 979, 'pelosi hous': 980, '25 million': 981, '@realdonaldtrump address': 982, '500 pm': 983, 'know need': 984, 'senat act': 985, 'need work': 986, 'educ student': 987, 'senat floor': 988, 'staff help': 989, 'join me': 990, 'now im': 991, 'look resourc': 992, 'housegov tomorrow': 993, 'tomorrow ill': 994, 'alway great': 995, 'must held': 996, 'us hous': 997, 'sotu presid': 998, 'famili medic': 999, 'medic leav': 1000, 'enrol period': 1001, 'work american': 1002, 'resourc need': 1003, 'join us': 1004, 'militari widow': 1005, '8th district': 1006, 'more bitli': 1007, 'vote pass': 1008, 'difficult time': 1009, 'tribal commun': 1010, 'teletown hall': 1011, 'question concern': 1012, 'frederick counti': 1013, 'medic suppli': 1014, 'govern privat': 1015, 'act provid': 1016, 'strong support': 1017, '31 wage': 1018, 'white hous': 1019, 'made promis': 1020, 'let get': 1021, 'get back': 1022, 'tonight vote': 1023, 'vote democrat': 1024, 'thank take': 1025, 'back day': 1026, 'give student': 1027, 'voic heard': 1028, 'law make': 1029, 'congression gold': 1030, 'im excit': 1031, 'local law': 1032, 'week thank': 1033, 'made ultim': 1034, 'support local': 1035, '2018 farm': 1036, 'everi singl': 1037, 'countri thank': 1038, 'effort combat': 1039, 'state militari': 1040, 'naval air': 1041, 'help student': 1042, 'year great': 1043, 'support great': 1044, 'perfect union': 1045, 'safe twittercom': 1046, 'number one': 1047, 'thank come': 1048, 'nation small': 1049, 'school hospit': 1050, 'find here': 1051, 'ensur health': 1052, 'way support': 1053, 'today twittercom': 1054, 'import ever': 1055, 'familiesfirst coronaviru': 1056, 'practic social': 1057, 'combat coronaviru': 1058, 'take necessari': 1059, 'soap water': 1060, 'touch eye': 1061, 'eye nose': 1062, 'nose mouth': 1063, 'today took': 1064, 'step forward': 1065, 'work done': 1066, 'fight climat': 1067, 'commun proud': 1068, 'spend time': 1069, 'today mourn': 1070, 'housegov one': 1071, 'twittercom call': 1072, 'climat crisi': 1073, 'work get': 1074, 'get thing': 1075, 'help american': 1076, 'time celebr': 1077, 'access american': 1078, 'colleagu pass': 1079, 'earlier month': 1080, 'student leader': 1081, 'us work': 1082, 'rosa park': 1083, 'includ mani': 1084, 'common sens': 1085, 'stayathom order': 1086, 'line crisi': 1087, 'healthcar system': 1088, 'bipartisan care': 1089, 'protect expand': 1090, 'pay mortgag': 1091, 'senat take': 1092, 'state need': 1093, 'famili get': 1094, 'get assist': 1095, 'twittercom remind': 1096, 'sacrific countri': 1097, 'togeth find': 1098, 'access safe': 1099, 'violenc survivor': 1100, 'prioriti year': 1101, '2 pm': 1102, 'learn resourc': 1103, 'avail you': 1104, 'qualiti afford': 1105, 'long past': 1106, 'ope here': 1107, 'toward justic': 1108, 'legisl assist': 1109, 'age discrimin': 1110, '4 pm': 1111, 'thank dr': 1112, 'hall tomorrow': 1113, 'pleas follow': 1114, 'deal coronaviru': 1115, 'coronaviru relief': 1116, 'coronaviru everi': 1117, 'twittercom let': 1118, 'support them': 1119, 'congress get': 1120, 'trump sign': 1121, 'impeach charad': 1122, 'record low': 1123, 'kill american': 1124, 'servic nation': 1125, 'counti commission': 1126, 'yesterday discuss': 1127, 'time pass': 1128, 'across world': 1129, 'democrat colleagu': 1130, 'discharg petit': 1131, '@usda @secretarysonni': 1132, 'live unborn': 1133, 'came togeth': 1134, '2 year': 1135, 'hope join': 1136, 'natl secur': 1137, '5 year': 1138, 'plan make': 1139, 'father three': 1140, 'feder grant': 1141, '150 year': 1142, 'state check': 1143, 'need access': 1144, 'keep push': 1145, 'colleagu call': 1146, 'lower rx': 1147, 'pfa chemic': 1148, 'call center': 1149, 'housegov were': 1150, 'american work': 1151, 'global pandem': 1152, 'blame us': 1153, 'get fact': 1154, 'sbagov thank': 1155, 'great group': 1156, 'trump sinc': 1157, 'twittercom it': 1158, '68 billion': 1159, 'boost economi': 1160, 'rent util': 1161, 'stand life': 1162, 'care thank': 1163, 'partisan bill': 1164, 'benefit avail': 1165, 'inform appli': 1166, 'right amend': 1167, 'fight antisemit': 1168, 'make everi': 1169, 'asian american': 1170, '5 pm': 1171, 'safe legal': 1172, 'prey upon': 1173, 'usmca would': 1174, '80th birthday': 1175, 'yet come': 1176, 'today join': 1177, 'agenc program': 1178, 'pass hous': 1179, 'congression art': 1180, 'need help': 1181, 'proud join': 1182, 'question answer': 1183, 'impeach @realdonaldtrump': 1184, 'iranian regim': 1185, '@oversightdem hear': 1186, 'best help': 1187, 'websit list': 1188, 'latest updat': 1189, 'bipartisan support': 1190, 'across state': 1191, 'american spirit': 1192, 'deal put': 1193, 'million invest': 1194, 'today jobsreport': 1195, 'result 2016': 1196, 'usmca floor': 1197, 'awar month': 1198, 'work continu': 1199, 'workforc thank': 1200, 'promis made': 1201, 'healthcar educ': 1202, 'busi provid': 1203, 'it time': 1204, 'see friend': 1205, 'issu matter': 1206, 'ensur voic': 1207, 'publicpriv partnership': 1208, 'ensur local': 1209, 'travel washington': 1210, 'record high': 1211, 'step help': 1212, 'today introduc': 1213, 'compani like': 1214, 'return home': 1215, 'arm forc': 1216, 'thank everi': 1217, 'veteran serv': 1218, 'the us': 1219, 'militari academi': 1220, 'west point': 1221, 'countri make': 1222, 'year cnbccom': 1223, 'bill support': 1224, 'us servic': 1225, 'wwii veteran': 1226, 'job creation': 1227, 'strengthen protect': 1228, 'year look': 1229, 'veteran thank': 1230, 'great stori': 1231, 'job higher': 1232, 'thank support': 1233, 'mother day': 1234, 'cut job': 1235, 'next gener': 1236, 'accur censu': 1237, 'were see': 1238, 'take minut': 1239, 'monday march': 1240, 'question need': 1241, 'that work': 1242, 'test need': 1243, 'necessari precaut': 1244, 'local resourc': 1245, 'tell us': 1246, 'step take': 1247, 'famili healthi': 1248, 'continu advoc': 1249, 'housegov ive': 1250, 'equal constitut': 1251, 'constitut eranow': 1252, 'commun blackhistorymonth': 1253, 'commun count': 1254, 'work build': 1255, 'american valu': 1256, 'congression scorecard': 1257, 'pass hr3': 1258, 'us censu': 1259, 'would provid': 1260, 'democraci attack': 1261, 'act protect': 1262, 'housegov it': 1263, 'that introduc': 1264, 'program today': 1265, 'risk health': 1266, 'like one': 1267, 'fund commun': 1268, 'conduct oversight': 1269, 'fair wage': 1270, 'stand hatr': 1271, 'racist attack': 1272, 'everi person': 1273, 'must recommit': 1274, 'tonight im': 1275, 'educ program': 1276, 'commun includ': 1277, 'servic countri': 1278, 'women access': 1279, 'take import': 1280, 'world better': 1281, 'time like': 1282, 'now need': 1283, 'law presid': 1284, 'proud see': 1285, 'proud origin': 1286, 'improv commun': 1287, 'protect make': 1288, 'make harder': 1289, 'work today': 1290, 'best work': 1291, 'nation emerg': 1292, 'go around': 1293, 'also creat': 1294, 'time let': 1295, 'one difficult': 1296, 'made sure': 1297, 'way make': 1298, 'pass two': 1299, 'two bipartisan': 1300, 'forthepeopl act': 1301, 'day everi': 1302, 'protect serv': 1303, 'famili join': 1304, 'need file': 1305, 'major disast': 1306, 'resourc here': 1307, 'especi rural': 1308, 'today equalpayday': 1309, 'day women': 1310, 'wage gap': 1311, 'work issu': 1312, 'american abroad': 1313, 'recent pass': 1314, 'lifesav work': 1315, 'countri around': 1316, 'know im': 1317, 'legisl improv': 1318, 'pandem work': 1319, 'bipartisan group': 1320, 'need test': 1321, 'confirm case': 1322, 'state offici': 1323, 'counti commun': 1324, 'commun healthi': 1325, 'health profession': 1326, 'late last': 1327, 'get count': 1328, 'women made': 1329, 'pay equal': 1330, 'stay date': 1331, 'opportun meet': 1332, 'talk import': 1333, 'week join': 1334, 'educ system': 1335, 'intern dc': 1336, 'addit inform': 1337, 'feder offici': 1338, 'veteran benefit': 1339, 'public educ': 1340, 'resolut recogn': 1341, 'learn best': 1342, '80 year': 1343, 'key provis': 1344, 'resourc program': 1345, 'lilli ledbett': 1346, 'ledbett fair': 1347, 'lunar new': 1348, 'work better': 1349, 'come first': 1350, 'encourag use': 1351, 'report fraud': 1352, 'continu pay': 1353, 'around countri': 1354, '20 year': 1355, 'peopl employ': 1356, 'thank healthcar': 1357, 'line coronaviru': 1358, 'help health': 1359, 'pass caresact': 1360, 'distanc help': 1361, 'visit coronavirusgov': 1362, 'use time': 1363, 'women continu': 1364, 'covid19 nation': 1365, 'sever blood': 1366, 'blood shortag': 1367, 'covid19 expos': 1368, 'way give': 1369, 'see compani': 1370, 'togeth overcom': 1371, 'coronaviru pleas': 1372, 'must hold': 1373, 'congression deleg': 1374, 'sever impact': 1375, 'billion emerg': 1376, 'emerg supplement': 1377, 'step taken': 1378, 'made great': 1379, 'republican work': 1380, 'servic need': 1381, '70 year': 1382, 'month unemploy': 1383, 'send deepest': 1384, 'deepest condol': 1385, 'home busi': 1386, 'would make': 1387, 'justic victim': 1388, 'great job': 1389, 'express support': 1390, 'better protect': 1391, 'economi boom': 1392, 'consid donat': 1393, 'suppli equip': 1394, 'covid19 us': 1395, 'us respons': 1396, 'legisl sign': 1397, 'support men': 1398, 'sinc @potu': 1399, '@realdonaldtrump great': 1400, 'great discuss': 1401, 'reform lower': 1402, 'want undo': 1403, 'fight terror': 1404, 'one worst': 1405, 'build upon': 1406, 'upon success': 1407, 'winner 2019': 1408, 'sacrific servic': 1409, 'guarante women': 1410, 'ensur equal': 1411, 'happi nation': 1412, 'sign discharg': 1413, 'care commun': 1414, 'deadlin submit': 1415, 'thank farmer': 1416, 'mani sacrific': 1417, 'see result': 1418, 'let stay': 1419, 'peopl need': 1420, 'expand unemploy': 1421, 'file deadlin': 1422, 'peopl safe': 1423, 'were togeth': 1424, 'peopl make': 1425, 'work protect': 1426, 'coronaviru hear': 1427, '1 year': 1428, 'cant wait': 1429, 'could make': 1430, 'year help': 1431, 'twittercom live': 1432, 'happi valentin': 1433, 'togeth improv': 1434, 'help fill': 1435, '11 year': 1436, 'pass histor': 1437, 'servic provid': 1438, 'want extend': 1439, 'day 2020': 1440, 'also take': 1441, 'talk way': 1442, 'all im': 1443, 'fund school': 1444, 'day let': 1445, 'fix it': 1446, 'roll back': 1447, 'hear what': 1448, 'were make': 1449, 'it right': 1450, 'fight restor': 1451, 'need put': 1452, 'legisl like': 1453, 'done twittercom': 1454, 'devast impact': 1455, 'help call': 1456, 'w peopl': 1457, 'busi housegov': 1458, 'test free': 1459, 'sick day': 1460, 'action today': 1461, 'hand often': 1462, 'need job': 1463, 'mani peopl': 1464, 'honor celebr': 1465, '2002 aumf': 1466, 'senat refus': 1467, 'everi month': 1468, 'state marin': 1469, 'act housegov': 1470, 'reauthor vawa': 1471, 'resourc small': 1472, 'violenc must': 1473, 'help busi': 1474, 'job well': 1475, 'elect serv': 1476, 'sinc introduc': 1477, 'day must': 1478, 'nation prayer': 1479, '60 million': 1480, 'senat today': 1481, '30 million': 1482, 'use payrol': 1483, '8 week': 1484, 'encourag see': 1485, 'guidanc @cdcgov': 1486, 'polit asid': 1487, 'lot peopl': 1488, 'intellig agenc': 1489, 'solid plan': 1490, 'way prevent': 1491, 'threat nation': 1492, 'nation face': 1493, 'loan help': 1494, 'protect life': 1495, 'provid direct': 1496, 'combat spread': 1497, 'togeth condemn': 1498, 'today appreci': 1499, 'keep us safe': 1500, 'health care worker': 1501, 'mobil offic hour': 1502, 'paid sick leav': 1503, 'telephon town hall': 1504, 'public health crisi': 1505, 'im proud stand': 1506, 'men women uniform': 1507, 'continu work togeth': 1508, 'great see mani': 1509, 'paycheck protect program': 1510, 'twittercom im proud': 1511, 'access health care': 1512, 'hold mobil offic': 1513, 'law enforc offic': 1514, 'make sure everi': 1515, 'pass bipartisan bill': 1516, 'staff hold mobil': 1517, 'im hold telephon': 1518, 'hold telephon town': 1519, 'lt col vindman': 1520, 'get back work': 1521, 'born aliv abort': 1522, 'brave men women': 1523, 'violenc women act': 1524, 'defens product act': 1525, 'introduc bipartisan bill': 1526, 'act would provid': 1527, 'aliv abort survivor': 1528, 'town hall tomorrow': 1529, 'make voic heard': 1530, 'read here housegov': 1531, '@realdonaldtrump sign usmca': 1532, 'im look forward': 1533, 'chines communist parti': 1534, 'work american peopl': 1535, 'thank law enforc': 1536, 'fight make sure': 1537, 'love one safe': 1538, 'fair pay act': 1539, 'work day night': 1540, 'day night keep': 1541, 'frequent ask question': 1542, 'abort survivor protect': 1543, 'survivor protect act': 1544, 'work togeth protect': 1545, 'afford health care': 1546, 'keep american safe': 1547, 'american across countri': 1548, 'keep famili safe': 1549, 'put food tabl': 1550, 'offic hour today': 1551, 'facebook page facebookcom': 1552, 'stop spread coronaviru': 1553, 'health care provid': 1554, 'work make sure': 1555, 'famili across countri': 1556, 'dark money polit': 1557, 'cost prescript drug': 1558, '273000 new job': 1559, 'vote articl impeach': 1560, 'keep peopl safe': 1561, 'need work togeth': 1562, 'sinc day one': 1563, 'must held account': 1564, 'protect american live': 1565, 'famili medic leav': 1566, 'visit websit housegov': 1567, 'govern privat sector': 1568, '31 wage growth': 1569, 'thank take time': 1570, 'local law enforc': 1571, 'made ultim sacrific': 1572, '2018 farm bill': 1573, 'million small busi': 1574, 'unit state militari': 1575, 'nation small busi': 1576, 'familiesfirst coronaviru respons': 1577, 'practic social distanc': 1578, 'avoid touch eye': 1579, 'touch eye nose': 1580, 'eye nose mouth': 1581, 'im work make': 1582, 'mental health care': 1583, 'get thing done': 1584, 'make sure get': 1585, 'front line crisi': 1586, 'bipartisan care act': 1587, 'worker first respond': 1588, 'help save live': 1589, 'learn resourc avail': 1590, 'read ope here': 1591, 'lower drug cost': 1592, 'state local offici': 1593, 'presid trump sign': 1594, 'pelosi hous democrat': 1595, 'speaker pelosi bring': 1596, 'plan make sure': 1597, 'afford care act': 1598, 'hous pass bill': 1599, 'presid trump sinc': 1600, 'partisan impeach process': 1601, 'read more housegov': 1602, 'equal right amend': 1603, 'open enrol period': 1604, 'town hall tonight': 1605, 'worker front line': 1606, 'feder agenc program': 1607, 'congression art competit': 1608, 'deal put american': 1609, 'result 2016 elect': 1610, 'promis made promis': 1611, 'made promis kept': 1612, 'ensur voic heard': 1613, 'support local busi': 1614, 'thank brave men': 1615, 'tax cut job': 1616, 'cut job act': 1617, 'twittercom im live': 1618, 'accur censu count': 1619, 'need assist pleas': 1620, 'take necessari precaut': 1621, 'took import step': 1622, 'import step forward': 1623, 'us censu bureau': 1624, 'women right vote': 1625, 'make world better': 1626, 'world better place': 1627, 'must make sure': 1628, 'sign law presid': 1629, 'proud origin cosponsor': 1630, 'love one difficult': 1631, 'one difficult time': 1632, 'major disast declar': 1633, 'protect public land': 1634, 'fill 2020 censu': 1635, 'doctor health care': 1636, 'late last night': 1637, 'equal pay equal': 1638, 'proud introduc bipartisan': 1639, 'improv health care': 1640, 'long past time': 1641, 'lilli ledbett fair': 1642, 'ledbett fair pay': 1643, 'lunar new year': 1644, 'work keep commun': 1645, 'front line coronaviru': 1646, 'feder state local': 1647, 'social distanc help': 1648, 'men women continu': 1649, 'sever blood shortag': 1650, 'were work hard': 1651, 'month unemploy rate': 1652, 'medic suppli equip': 1653, 'inform visit websit': 1654, 'legisl sign law': 1655, 'support men women': 1656, 'nation prescript drug': 1657, 'build upon success': 1658, 'guarante women right': 1659, 'sign discharg petit': 1660, 'local state feder': 1661, 'happi valentin day': 1662, 'work togeth improv': 1663, '11 year ago': 1664, 'hundr million dollar': 1665, 'work weve done': 1666, 'wash hand often': 1667, 'repeal 2002 aumf': 1668, 'suprem court decis': 1669, 'unit state marin': 1670, 'servic countri honor': 1671, 'health care need': 1672, 'put polit asid': 1673, 'protect american peopl': 1674, 'articl impeach senat': 1675, 'famili your merri': 1676, 'your merri christma': 1677, 'democrat would rather': 1678, 'coronaviru aid relief': 1679, 'aid relief econom': 1680, 'relief econom secur': 1681, 'sign usmca law': 1682, 'liber auschwitz must': 1683, 'farmer rancher busi': 1684, 'next gener leader': 1685, 'town hall covid19': 1686, 'housegov great meet': 1687, 'pleas contact offic': 1688, 'im proud cosponsor': 1689, 'protect small busi': 1690, 'cesarchavezday let us': 1691, 'let us thank': 1692, 'pm ill join': 1693, 'join presid trump': 1694, 'access new medicin': 1695, 'new medicin cure': 1696, 'today celebr 100': 1697, 'celebr 100 year': 1698, 'year ago today': 1699, 'worker small busi': 1700, 'proud announc fund': 1701, 'air forc base': 1702, 'proud help pass': 1703, 'look forward work': 1704, 'look forward join': 1705, '75 year ago': 1706, '2019 congression art': 1707, 'help make sure': 1708, 'famili small busi': 1709, 'may god bless': 1710, 'make sure everyon': 1711, 'act pass hous': 1712, 'twittercom look forward': 1713, 'high school student': 1714, 'one year ago': 1715, 'keep commun safe': 1716, 'work across aisl': 1717, 'commun health center': 1718, 'town hall meet': 1719, 'mental health resourc': 1720, 'tomorrow staff hold': 1721, 'week hous vote': 1722, 'detail here housegov': 1723, 'small busi develop': 1724, 'million new job': 1725, 'impeach presid trump': 1726, 'farmer manufactur worker': 1727, 'look forward continu': 1728, '21st centuri trade': 1729, 'dispos expir unus': 1730, 'medicar social secur': 1731, 'art competit winner': 1732, 'social secur benefit': 1733, 'pass bipartisan legisl': 1734, 'highqual afford health': 1735, 'make health care': 1736, 'must keep fight': 1737, 'colleagu side aisl': 1738, 'hous pass bipartisan': 1739, 'result american peopl': 1740, 'unit state america': 1741, 'martin luther king': 1742, 'luther king jr': 1743, 'assist feder agenc': 1744, 'famili safe healthi': 1745, 'person protect equip': 1746, 'public health worker': 1747, 'forward work togeth': 1748, 'address public health': 1749, 'get dark money': 1750, 'read full statement': 1751, 'statement here housegov': 1752, 'read here owli': 1753, 'us economi ad': 1754, 'economi ad 273000': 1755, 'ad 273000 new': 1756, 'unit statesmexicocanada agreement': 1757, 'special counsel robert': 1758, 'counsel robert mueller': 1759, 'happi founder day': 1760, 'live preexist condit': 1761, 'happen now im': 1762, 'twittercom presid trump': 1763, '7 million new': 1764, 'unemploy 50 year': 1765, 'circuit court judg': 1766, 'speaker pelosi hous': 1767, 'us hous repres': 1768, 'host telephon town': 1769, 'learn more pleas': 1770, 'throughout covid19 pandem': 1771, 'speak member team': 1772, 'montgomeri counti resid': 1773, 'visit websit below': 1774, 'help stop spread': 1775, 'paid famili medic': 1776, 'first congression district': 1777, 'take look enewslett': 1778, 'look enewslett see': 1779, 'hous floor vote': 1780, 'economi creat job': 1781, 'everi singl day': 1782, 'unus prescript drug': 1783, 'prescript drug support': 1784, 'wait far long': 1785, 'small busi week': 1786, 'ensur health safeti': 1787, 'one best way': 1788, 'visit websit learn': 1789, 'pleas dont hesit': 1790, 'dont hesit contact': 1791, 'make sure american': 1792, 'ill continu work': 1793, 'there still work': 1794, 'still work done': 1795, 'fight climat chang': 1796, 'there still time': 1797, 'lower health care': 1798, 'reach across aisl': 1799, 'help pass bipartisan': 1800, 'two year sinc': 1801, 'access highqual afford': 1802, 'feder hous polici': 1803, 'access resourc allow': 1804, 'health care choic': 1805, 'civil right protect': 1806, 'today im join': 1807, 'commun make sure': 1808, 'american peopl look': 1809, 'im work ensur': 1810, 'protect health safeti': 1811, 'presid sign law': 1812, 'improv broadband access': 1813, 'health care million': 1814, 'care million american': 1815, 'pay mortgag put': 1816, 'mortgag put food': 1817, 'leader health offici': 1818, 'sick leav famili': 1819, 'bipartisan bill would': 1820, 'issu social secur': 1821, 'work togeth find': 1822, 'qualiti mental health': 1823, 'puppi assist wound': 1824, 'assist wound servicememb': 1825, 'wound servicememb paw': 1826, 'servicememb paw veteran': 1827, 'paw veteran therapi': 1828, 'veteran therapi act': 1829, 'address mental health': 1830, 'staff work hard': 1831, 'hour facebook page': 1832, 'today last day': 1833, 'proud vote favor': 1834, 'dr martin luther': 1835, 'drug cost act': 1836, 'world health organ': 1837, 'close due covid19': 1838, 'true blue award': 1839, 'support veteran stem': 1840, 'veteran stem career': 1841, 'stem career act': 1842, 'great american comeback': 1843, 'statesmexicocanada agreement usmca': 1844, 'wast time money': 1845, 'unit state stand': 1846, 'everi day keep': 1847, 'drug take back': 1848, 'take back day': 1849, 'humanitarian crisi border': 1850, 'twittercom thank @realdonaldtrump': 1851, 'relief american across': 1852, 'said time again': 1853, 'includ hurrican michael': 1854, 'front line pandem': 1855, 'new small busi': 1856, 'thank everyon came': 1857, 'montgomeri bu boycott': 1858, 'delta sigma theta': 1859, 'sigma theta soror': 1860, 'theta soror inc': 1861, 'today hous took': 1862, 'forest product industri': 1863, 'father three know': 1864, 'town hall look': 1865, 'hall look forward': 1866, 'join town hall': 1867, '150 year ago': 1868, 'worker famili small': 1869, 'prevent spread viru': 1870, 'protect right organ': 1871, 'right organ act': 1872, 'american worker famili': 1873, 'lower rx drug': 1874, 'it past time': 1875, 'rx drug price': 1876, 'mental health substanc': 1877, 'health substanc abus': 1878, 'download here housegov': 1879, 'women act vawa': 1880, 'time senat act': 1881, 'small busi commun': 1882, 'small busi pay': 1883, 'communist parti china': 1884, 'state local author': 1885, 'back work american': 1886, 'record low unemploy': 1887, '@realdonaldtrump continu deliv': 1888, 'continu deliv promis': 1889, 'trump sinc day': 1890, 'pay rais troop': 1891, 'phase one trade': 1892, 'one trade agreement': 1893, 'trade agreement china': 1894, 'enewslett see week': 1895, 'surviv abort attempt': 1896, 'sotu presid trump': 1897, 'everi human life': 1898, 'duli elect presid': 1899, 'hous democrat leadership': 1900, 'attack pearl harbor': 1901, 'crisi southern border': 1902, 'fund border secur': 1903, 'visit sbagov inform': 1904, 'congression medal honor': 1905, 'hand often soap': 1906, 'often soap water': 1907, 'gun violenc survivor': 1908, 'cant make it': 1909, 'victim gun violenc': 1910, 'stop mobil offic': 1911, 'get assist feder': 1912, 'mental health servic': 1913, 'follow @cdcgov guidelin': 1914, 'make everi day': 1915, 'join us import': 1916, 'navig covid19 pandem': 1917, 'covid19 resourc guid': 1918, 'covid19 pandem check': 1919, 'help one anoth': 1920, 'asian american commun': 1921, 'covid19 pandem offic': 1922, 'twittercom happen now': 1923, 'special open enrol': 1924, 'housegov small busi': 1925, 'address opioid epidem': 1926, 'peac middl east': 1927, 'join import convers': 1928, 'access safe legal': 1929, 'safe legal abort': 1930, '@vp mike penc': 1931, 'thank meet me': 1932, 'farmer manufactur busi': 1933, 'im host telephon': 1934, 'beauti 8th district': 1935, 'counti mobil offic': 1936, 'im work congress': 1937, 'everi level govern': 1938, 'inform pleas visit': 1939, 'nation defens author': 1940, 'defens author act': 1941, 'author act ndaa': 1942, 'stay home effort': 1943, 'home effort stop': 1944, 'effort stop spread': 1945, 'control prevent cdc': 1946, 'coronaviru outbreak learn': 1947, 'expand access afford': 1948, 'look forward what': 1949, 'forward what come': 1950, 'farm bureau invit': 1951, '@potu sign usmca': 1952, 'trade deal put': 1953, 'put american farmer': 1954, 'strong american economi': 1955, 'law enforc thank': 1956, 'work keep us': 1957, 'american peopl twittercom': 1958, 'centuri trade deal': 1959, 'bring usmca floor': 1960, 'take time busi': 1961, 'due process continu': 1962, 'back day saturday': 1963, 'im commit ensur': 1964, 'access healthcar educ': 1965, 'time nafta replac': 1966, 'nafta replac 21st': 1967, 'replac 21st centuri': 1968, 'centuri trade agreement': 1969, 'voic heard washington': 1970, 'high school talk': 1971, 'take proactiv measur': 1972, 'congression gold medal': 1973, 'commun across countri': 1974, 'honor spend morn': 1975, 'ensur local law': 1976, 'polic week thank': 1977, 'stop offic thank': 1978, 'live keep us': 1979, 'nation polic week': 1980, 'washington week honor': 1981, 'act import step': 1982, 'man dedic life': 1983, 'fight everi day': 1984, 'spirit enterpris award': 1985, 'head start program': 1986, 'everyon stay safe': 1987, 'line duti keep': 1988, 'bill hous pass': 1989, 'thank everi day': 1990, '100 year ago': 1991, 'countri thank servic': 1992, 'dispos unus prescript': 1993, 'famili member friend': 1994, 'work toward end': 1995, 'twittercom @potu sign': 1996, 'help fellow veteran': 1997, 'first time sinc': 1998, 'naval air forc': 1999, 'air forc coast': 2000, 'forc coast guard': 2001, 'middl class famili': 2002, 'year great news': 2003, 'award continu fight': 2004, 'form perfect union': 2005, 'new job ad': 2006, 'econom news us': 2007, 'us servic member': 2008, 'growth job creation': 2009, 'home safe twittercom': 2010, 'year look forward': 2011, 'thank come by': 2012, 'team help you': 2013, 'art competit artwork': 2014, 'happi father day': 2015, 'countri thank you': 2016, 'thank first respond': 2017, 'first respond law': 2018, 'respond law enforc': 2019, 'kill line duti': 2020, 'happi mother day': 2021, 'thank everyon particip': 2022, '2017 tax cut': 2023, 'middl school student': 2024, 'creat new job': 2025, 'here sbagov twittercom': 2026, 'fill census2020 form': 2027, 'year congression art': 2028, 'find here housegov': 2029, 'best way support': 2030, 'way support commun': 2031, 'direct cash payment': 2032, 'small busi increas': 2033, 'thank health care': 2034, 'resourc avail help': 2035, 'websit learn more': 2036, 'monday march 23rd': 2037, 'answer question coronaviru': 2038, 'question need assist': 2039, 'care love one': 2040, 'covid19 resourc avail': 2041, 'import step toward': 2042, 'respons act would': 2043, 'act would give': 2044, 'free coronaviru test': 2045, 'health safeti commun': 2046, 'keep famili healthi': 2047, 'women equal constitut': 2048, 'equal constitut eranow': 2049, 'that im work': 2050, 'everi member commun': 2051, 'american valu twittercom': 2052, 'sure american access': 2053, 'american access qualiti': 2054, 'reproduct health care': 2055, 'end citizen unit': 2056, 'honor life legaci': 2057, 'plan work famili': 2058, 'help commun get': 2059, '275 bipartisan bill': 2060, 'it time senat': 2061, 'today rememb lost': 2062, 'honor spend time': 2063, 'comprehens health care': 2064, 'proud join bipartisan': 2065, 'commun live fear': 2066, 'discuss work were': 2067, 'famili cant afford': 2068, 'twittercom climat chang': 2069, 'make problem wors': 2070, 'im proud join': 2071, 'congress abl pass': 2072, 'great place start': 2073, 'take step toward': 2074, 'intellig commun made': 2075, 'allianc retir american': 2076, 'bipartisan bill help': 2077, 'deliv result forthepeopl': 2078, 'disgust @realdonaldtrump continu': 2079, 'last week announc': 2080, 'survivor domest violenc': 2081, 'violenc sexual assault': 2082, 'speaker pro tempor': 2083, 'million american famili': 2084, 'famili today im': 2085, 'place call home': 2086, 'proud support program': 2087, 'paycheck fair act': 2088, 'hero serv nation': 2089, 'mani innoc live': 2090, 'background check firearm': 2091, 'check firearm purchas': 2092, 'hold presid account': 2093, 'keep govern open': 2094, 'join tonight sotu': 2095, 'within commun let': 2096, 'rosa park born': 2097, 'forward work colleagu': 2098, 'im commit work': 2099, 'aisl work togeth': 2100, 'effort im glad': 2101, 'today rememb life': 2102, 'care prescript drug': 2103, 'threaten withhold disast': 2104, 'withhold disast aid': 2105, 'pass two bipartisan': 2106, 'two bipartisan bill': 2107, 'ive work hard': 2108, 'countri deserv better': 2109, 'never forget lost': 2110, 'forget lost live': 2111, 'plan work best': 2112, 'work best famili': 2113, 'offic continu work': 2114, 'serv unit state': 2115, 'bitli need assist': 2116, 'social secur recipi': 2117, 'covid19 im work': 2118, 'request major disast': 2119, 'leadership heed call': 2120, 'statewid stayathom order': 2121, 'stayathom order slow': 2122, 'order slow spread': 2123, 'provid front line': 2124, 'close wage gap': 2125, 'abroad get home': 2126, 'act save live': 2127, 'across countri around': 2128, 'clock keep famili': 2129, 'commun safe healthi': 2130, 'million feder fund': 2131, 'work address spread': 2132, 'spread coronaviru protect': 2133, 'pass bipartisan care': 2134, 'vote pass care': 2135, 'speak hous floor': 2136, 'receiv care act': 2137, 'vote favor import': 2138, 'effort fight coronaviru': 2139, 'frontlin pandem work': 2140, 'pandem work around': 2141, 'util defens product': 2142, 'protect gear need': 2143, 'way keep famili': 2144, 'difficult uncertain time': 2145, 'continu fight protect': 2146, 'fight protect aca': 2147, 'transit onlin learn': 2148, 'famili worker busi': 2149, 'care worker first': 2150, 'follow cdc guidelin': 2151, 'inform keep famili': 2152, 'coronaviru resourc inform': 2153, 'resourc feder govern': 2154, 'elig small busi': 2155, 'expand paid sick': 2156, 'st patrick day': 2157, 'need them pleas': 2158, 'protect public health': 2159, 'commun across america': 2160, 'precaut prevent spread': 2161, 'prevent spread covid19': 2162, 'march womenshistorymonth celebr': 2163, 'pay equal work': 2164, 'week discuss way': 2165, 'assist issu may': 2166, 'intern dc offic': 2167, 'health care benefit': 2168, 'public school foundat': 2169, 'introduc bipartisan legisl': 2170, 'strengthen social secur': 2171, 'lower cost prescript': 2172, 'experi domest violenc': 2173, 'deepli sadden hear': 2174, 'lower skyrocket cost': 2175, 'letter district offic': 2176, 'met health care': 2177, 'health care profession': 2178, 'learn import work': 2179, 'program spoke hous': 2180, 'cost rx drug': 2181, 'resourc avail you': 2182, 'lead caus death': 2183, 'bipartisan resolut recogn': 2184, 'discuss health care': 2185, 'expand access qualiti': 2186, 'access qualiti afford': 2187, 'proud bipartisan work': 2188, 'civil right champion': 2189, 'presid sign usmca': 2190, 'act must recommit': 2191, 'legisl provid resourc': 2192, 'happi lunar new': 2193, 'american famili deserv': 2194, 'import work togeth': 2195, 'look back work': 2196, 'mail drop card': 2197, 'arc moral univers': 2198, 'bend toward justic': 2199, 'ensur constitu access': 2200, 'pass hr 3': 2201, 'hr 3 lower': 2202, '3 lower drug': 2203, 'protect older worker': 2204, 'older worker discrimin': 2205, 'worker discrimin act': 2206, 'social secur scam': 2207, 'secur scam includ': 2208, 'call email use': 2209, 'email use fals': 2210, 'use fals document': 2211, 'fals document target': 2212, 'document target encourag': 2213, 'target encourag use': 2214, 'encourag use new': 2215, 'use new onlin': 2216, 'new onlin form': 2217, 'onlin form report': 2218, 'form report fraud': 2219, 'report fraud help': 2220, 'fraud help protect': 2221, 'vote today took': 2222, 'everi day brave': 2223, 'vote pass bipartisan': 2224, 'night keep us': 2225, 'last night host': 2226, 'coronaviru covid19 outbreak': 2227, 'continu pay employe': 2228, 'line save other': 2229, 'step support nation': 2230, 'thank healthcar profession': 2231, 'across countri work': 2232, 'effort save live': 2233, 'thank front line': 2234, 'provis care act': 2235, 'work small busi': 2236, 'bill far perfect': 2237, 'hous pass caresact': 2238, 'head back dc': 2239, 'last week host': 2240, 'america farmer rancher': 2241, 'care act give': 2242, 'mani busi struggl': 2243, 'presid donald j': 2244, 'donald j trump': 2245, 'covid19 nation emerg': 2246, 'covid19 pleas follow': 2247, 'visit websit here': 2248, 'relief packag would': 2249, 'work level govern': 2250, 'want make sure': 2251, 'disast loan program': 2252, 'school close due': 2253, 'us govern take': 2254, 'thank servic great': 2255, 'small busi provid': 2256, 'last week discuss': 2257, 'nation emerg declar': 2258, 'govern keep american': 2259, 'govern take everi': 2260, 'democrat war power': 2261, 'two month ago': 2262, 'hous republican work': 2263, 'new job month': 2264, 'job month unemploy': 2265, 'unemploy rate 35': 2266, 'rate 35 match': 2267, '35 match lowest': 2268, 'match lowest level': 2269, 'lowest level 50': 2270, 'level 50 year': 2271, '50 year cnbccom': 2272, 'american speaker pelosi': 2273, 'send deepest condol': 2274, 'deepest condol prayer': 2275, 'desk sign law': 2276, 'togeth keep great': 2277, 'nation defens strategi': 2278, 'appreci hard work': 2279, 'take care servic': 2280, 'care servic member': 2281, '58 million american': 2282, 'find solut end': 2283, 'older american act': 2284, '225000 job ad': 2285, 'pleas consid donat': 2286, 'last night passag': 2287, 'resourc help combat': 2288, 'help combat coronaviru': 2289, 'prepared respons supplement': 2290, 'respons supplement appropri': 2291, 'supplement appropri act': 2292, '175 year ago': 2293, 'honor receiv true': 2294, 'receiv true blue': 2295, 'send clear messag': 2296, 'million job creat': 2297, 'citizen forfeit life': 2298, 'job higher wage': 2299, 'state union tonight': 2300, 'pass hous repres': 2301, 'play key role': 2302, 'wwii korea vietnam': 2303, 'law enforc appreci': 2304, 'enforc appreci day': 2305, 'pleas keep men': 2306, 'keep men women': 2307, 'behind close door': 2308, 'undo result 2016': 2309, 'get fair share': 2310, 'join sever colleagu': 2311, 'attack naval air': 2312, 'reform lower cost': 2313, 'veteran get care': 2314, 'hous democrat tri': 2315, 'one worst terrorist': 2316, 'continu fight isi': 2317, 'us safe thank': 2318, 'thank dedic servic': 2319, 'dedic servic sacrific': 2320, 'prescript drug take': 2321, 'impeach inquiri sham': 2322, 'famili friend difficult': 2323, 'friend difficult time': 2324, 'fulli support presid': 2325, 'support presid trump': 2326, 'presid trump decis': 2327, 'overturn 2016 elect': 2328, 'twittercom great see': 2329, 'baseless impeach inquiri': 2330, '18 year ago': 2331, 'local offici follow': 2332, 'alway enjoy meet': 2333, 'speaker pelosi it': 2334, 'pelosi it time': 2335, 'time get work': 2336, 'four week ago': 2337, 'winner 2019 congression': 2338, 'happi birthday @potu': 2339, 'birthday @potu @realdonaldtrump': 2340, 'presid reagan said': 2341, 'peopl unit state': 2342, 'constitut guarante women': 2343, 'american farm bureau': 2344, 'provid necessari resourc': 2345, 'thank work tirelessli': 2346, 'made clear continu': 2347, 'attorney gener barr': 2348, 'look forward review': 2349, 'supplement fund bill': 2350, 'provid relief american': 2351, 'provid tax relief': 2352, 'thank @realdonaldtrump continu': 2353, 'art competit deadlin': 2354, 'competit deadlin submit': 2355, 'deadlin submit art': 2356, 'thank farmer rancher': 2357, 'famili mani sacrific': 2358, 'mani sacrific made': 2359, 'right bear arm': 2360, 'work hard keep': 2361, 'provid necessari fund': 2362, 'declar nation emerg': 2363, 'work @realdonaldtrump address': 2364, 'continu kick road': 2365, 'rememb live tragic': 2366, 'issu stay home': 2367, 'health care crisi': 2368, 'tune here facebookcom': 2369, 'here facebookcom thank': 2370, 'risk live everi': 2371, 'stay home stay': 2372, 'difficult time thank': 2373, 'pleas hesit reach': 2374, 'bill get money': 2375, 'care worker front': 2376, 'done american peopl': 2377, 'take bold action': 2378, 'move juli 15': 2379, 'keep commun healthi': 2380, 'work famili small': 2381, 'like wash hand': 2382, 'first confirm case': 2383, 'confirm case covid19': 2384, 'take step prevent': 2385, 'step prevent spread': 2386, 'healthi covid19 outbreak': 2387, 'town hall today': 2388, 'health care infrastructur': 2389, 'health insur million': 2390, 'wish everyon happi': 2391, 'last year help': 2392, 'justic system proud': 2393, 'find way come': 2394, 'way come togeth': 2395, 'presid abus power': 2396, 'protect older american': 2397, 'year ago lilli': 2398, 'ago lilli ledbett': 2399, 'pay act sign': 2400, 'serv commun across': 2401, 'holiday season hope': 2402, 'open enrol dont': 2403, 'enrol dont forget': 2404, 'student across countri': 2405, 'hous took import': 2406, 'day pass sinc': 2407, 'worth fight for': 2408, 'sign health insur': 2409, 'issu work togeth': 2410, 'mental health challeng': 2411, 'thank folk came': 2412, 'im urg colleagu': 2413, 'urg colleagu senat': 2414, 'need someon talk': 2415, 'show around today': 2416, 'still work do': 2417, 'let work togeth': 2418, 'hope see there': 2419, 'shelbi counti v': 2420, 'counti v holder': 2421, 'wish best futur': 2422, 'today rememb courag': 2423, 'serv countri honor': 2424, 'get done twittercom': 2425, 'take time fill': 2426, 'small busi housegov': 2427, 'find reliabl inform': 2428, 'sba disast loan': 2429, 'incom tax return': 2430, 'offic open public': 2431, 'job due coronaviru': 2432, 'continu work district': 2433, 'help famili stay': 2434, 'pass bill hous': 2435, 'sba servic small': 2436, 'bipartisan bill support': 2437, 'qualiti health coverag': 2438, 'state union guest': 2439, 'counti teacher year': 2440, 'worker age discrimin': 2441, 'citizen unit decis': 2442, 'big money polit': 2443, 'last month w': 2444, 'dark money group': 2445, 'set record straight': 2446, 'roll back protect': 2447, '244th birthday unit': 2448, 'state marin corp': 2449, 'benefit theyv earn': 2450, 'improv mental health': 2451, 'hous health care': 2452, 'housegov tomorrow ill': 2453, 'reauthor violenc women': 2454, 'hous floor today': 2455, 'work compani like': 2456, 'that pass bipartisan': 2457, 'pro act protect': 2458, 'small busi creat': 2459, 'rejoin pari climat': 2460, 'pari climat agreement': 2461, 'entir commun offic': 2462, 'help famili affect': 2463, 'see innov work': 2464, 'resourc small busi': 2465, '2008 financi crisi': 2466, 'come togeth stand': 2467, 'last week pass': 2468, 'secur feder fund': 2469, 'want hear you': 2470, 'power special interest': 2471, 'learn work theyr': 2472, 'provid child care': 2473, 'hear what happen': 2474, 'updat im work': 2475, 'god bless keep': 2476, 'bless keep safe': 2477, 'answer frequent ask': 2478, 'get lot question': 2479, '30 million small': 2480, 'number peopl work': 2481, 'urgenc get done': 2482, 'bank credit union': 2483, 'job go back': 2484, 'coronaviru relief bill': 2485, 'encourag see mani': 2486, 'advantag us nation': 2487, 'state local govt': 2488, 'best way prevent': 2489, 'resourc help health': 2490, 'help health care': 2491, 'impact coronaviru outbreak': 2492, 'singl greatest threat': 2493, 'greatest threat nation': 2494, 'small busi backbon': 2495, 'protect program loan': 2496, 'frontlin coronaviru crisi': 2497, 'discuss coronaviru impact': 2498, 'provid direct relief': 2499, 'appreci opportun talk': 2500, 'combat spread coronaviru': 2501, 'spread coronaviru pleas': 2502, 'resourc need fight': 2503, 'entir grave famili': 2504, 'new job februari': 2505, 'stand togeth condemn': 2506, 'im close monitor': 2507, 'take coronaviru serious': 2508, 'presid trump win': 2509, 'veteran servic sacrific': 2510, 'major polit parti': 2511, 'nation prayer breakfast': 2512, 'last 3 year': 2513, 'huge win american': 2514, 'weve seen last': 2515, 'right due process': 2516, 'togeth im confid': 2517, 'american peopl time': 2518, '@senatorloeffl look forward': 2519, 'send articl impeach': 2520, 'democrat obsess impeach': 2521, 'one polit parti': 2522, 'anoth strong jobsreport': 2523, '266000 job ad': 2524, 'year sinc @realdonaldtrump': 2525, 'sinc @realdonaldtrump sign': 2526, 'sign usmca speaker': 2527, 'usmca speaker pelosi': 2528, 'speaker pelosi still': 2529, 'job it time': 2530, 'socialist polici would': 2531, 'end human traffick': 2532, 'held account twittercom': 2533, 'reach full potenti': 2534, 'due process right': 2535, 'democrat wast time': 2536, 'it time vote': 2537, 'thank dedic help': 2538, 'loan forgiven use': 2539, 'act provid direct': 2540, 'econom secur care': 2541, 'secur care act': 2542, 'us small busi': 2543, 'hesit contact offic': 2544, 'medicar expand telemedicin': 2545, 'serv american peopl': 2546, 'thank @realdonaldtrump sign': 2547, 'week washington bitli': 2548, 'surpris medic bill': 2549, 'medic bill im': 2550, 'cover cough sneez': 2551, 'vote born aliv': 2552, 'pain capabl unborn': 2553, 'capabl unborn child': 2554, 'it alway great': 2555, 'cut wast spend': 2556, 'america today great': 2557, 'get work american': 2558, 'modern trade polici': 2559, 'work togeth behalf': 2560, 'merri christma happi': 2561, 'christma happi new': 2562, 'american peopl speaker': 2563, 'peopl speaker pelosi': 2564, 'prescript drug plan': 2565, 'pelosi bring usmca': 2566, 'bring usmca vote': 2567, 'pearl harbor date': 2568, 'hous repres pass': 2569, 'letter servic member': 2570, 'remov duli elect': 2571, 'happi 244th birthday': 2572, 'cost american peopl': 2573, 'urg democrat colleagu': 2574, 'urg speaker pelosi': 2575, 'speaker pelosi democrat': 2576, 'happi 72nd birthday': 2577, 'rancher busi owner': 2578, 'eighteen year ago': 2579, 'district work period': 2580, 'may alway rememb': 2581, 'hope take time': 2582, 'thank veteran honor': 2583, 'near you pleas': 2584, 'small busi thrive': 2585, 'jeannett rankin becam': 2586, 'take care sick': 2587, 'fill censu onlin': 2588, 'make sure student': 2589, 'protect right vote': 2590, 'medal honor societi': 2591, 'file payment deadlin': 2592, 'payment deadlin also': 2593, 'access afford qualiti': 2594, 'afford qualiti health': 2595, 'get support need': 2596, 'three month pay': 2597, 'disast declar @sbagov': 2598, 'ask question hear': 2599, 'keep us healthi': 2600, 'stay home keep': 2601, 'work state local': 2602, 'inspir us all': 2603, 'us all one': 2604, 'vote right secur': 2605, 'right secur elect': 2606, 'violenc women reauthor': 2607, 'women reauthor act': 2608, 'franklin delano roosevelt': 2609, 'cough sneez w': 2610, 'sneez w tissu': 2611, 'w tissu throw': 2612, 'tissu throw tissu': 2613, 'throw tissu trash': 2614, 'water 20 sec': 2615, 'presid kennedi establish': 2616, 'countri around world': 2617, 'great meet student': 2618, 'week pass bill': 2619, 'proud cast vote': 2620, 'onthisday 75 year': 2621, 'us marin rais': 2622, 'flag iwo jima': 2623, 'commun live center': 2624, 'must ensur equal': 2625, 'ensur equal right': 2626, 'equal right women': 2627, 'right women includ': 2628, 'women includ constitut': 2629, 'fight improv stateofhealthcar': 2630, 'wound warrior act': 2631, 'fundament right must': 2632, 'today citizen unit': 2633, 'let us stand': 2634, 'gun violenc save': 2635, 'violenc save live': 2636, 'commit fight antisemit': 2637, 'fight antisemit form': 2638, 'inspir everi day': 2639, 'everi day fight': 2640, 'wish merri christma': 2641, 'today continu work': 2642, 'stop gun violenc': 2643, 'univers background check': 2644, 'stream onlin housegov': 2645, 'onlin housegov twittercom': 2646, 'bipartisan background check': 2647, 'peopl come togeth': 2648, 'everyon deserv live': 2649, 'help individu famili': 2650, 'legisl weve pass': 2651, 'learn constitu servic': 2652, 'medicar open enrol': 2653, 'statement congression record': 2654, 'care mental health': 2655, 'day protect health': 2656, 'countri honor meet': 2657, 'relief small busi': 2658, 'today join colleagu': 2659, 'today discuss way': 2660, 'way help american': 2661, 'american small busi': 2662, 'famili difficult time': 2663, 'qualiti life soldier': 2664, 'never happen again': 2665, 'continu work colleagu': 2666, 'auschwitz must continu': 2667, 'day must continu': 2668, 'human right religi': 2669, 'right religi freedom': 2670, 'known long time': 2671, 'state sponsor terror': 2672, 'improv militari readi': 2673, 'continu deliv american': 2674, 'must stand unit': 2675, 'special oper forc': 2676, 'give back commun': 2677, 'natur resourc committe': 2678, 'took oath offic': 2679, 'us import convers': 2680, 'protect yourself visit': 2681, 'us alreadi knew': 2682, 'connect one anoth': 2683, 'respons covid19 pandem': 2684, 'updat covid19 resourc': 2685, 'impact covid19 pandem': 2686, 'smart travel enrol': 2687, 'travel enrol program': 2688, 'counti resid lost': 2689, 'resid lost covid19': 2690, 'lost covid19 pandem': 2691, 'first maryland lost': 2692, 'respons covid19 congress': 2693, 'nation capit region': 2694, 'elig disast loan': 2695, 'vote public health': 2696, 'find inform here': 2697, 'come togeth nation': 2698, 'discuss congress help': 2699, 'intern women day': 2700, 'today md deleg': 2701, 'peopl everi day': 2702, 'global health crisi': 2703, 'that im fight': 2704, 'pass bill would': 2705, 'engin prosper frederick': 2706, 'prosper frederick counti': 2707, 'we better thi': 2708, 'new grant program': 2709, 'invest rural broadband': 2710, 'work togeth invest': 2711, '47 year ago': 2712, 'social media cover': 2713, 'media cover photo': 2714, 'cover photo contest': 2715, 'prevent war iran': 2716, 'protect lgbtq peopl': 2717, 'lgbtq peopl discrimin': 2718, '2019 washingtonian year': 2719, '1st 2nd 3rd': 2720, '2nd 3rd place': 2721, '3rd place winner': 2722, 'forgiven use payrol': 2723, 'use payrol mortgag': 2724, 'payrol mortgag rent': 2725, 'mortgag rent util': 2726, 'click link learn': 2727, 'deleg sent letter': 2728, 'statement last night': 2729, 'decis declar nation': 2730, 'wish best retir': 2731, 'take time meet': 2732, 'militari veteran thank': 2733, 'unborn child protect': 2734, 'child protect act': 2735, '@realdonaldtrump sotu presid': 2736, '@realdonaldtrump progrowth agenda': 2737, 'senat acquit @realdonaldtrump': 2738, 'job increas wage': 2739, 'week @realdonaldtrump sign': 2740, 'today @realdonaldtrump sign': 2741, '@goplead resolut support': 2742, 'spoke floor us': 2743, 'floor us hous': 2744, 'us safe twittercom': 2745, 'broadband infrastructur develop': 2746, 'lower cost cure': 2747, 'cost cure act': 2748, '50 year low': 2749, 'congress took action': 2750, 'housegov happi nation': 2751, '100 year @farmbureau': 2752, 'rural commun like': 2753, 'us thank honor': 2754, 'health care essenti': 2755, 'frontlin health care': 2756, 'care act housegov': 2757, 'housegov im host': 2758, 'covid19 inform avail': 2759, 'celebr 80th birthday': 2760, 'revers youth tobacco': 2761, 'youth tobacco epidem': 2762, 'tobacco epidem act': 2763, 'great meet member': 2764, 'ago hous pass': 2765, 'save live twittercom': 2766, 'trump administr propos': 2767, 'hous pass comprehens': 2768, 'war power act': 2769, 'everi day everi': 2770, 'restor tax fair': 2771, 'stricter work requir': 2772, 'human right twittercom': 2773, 'paid ultim sacrific': 2774, 'cosponsor resolut condemn': 2775, 'work ensur never': 2776, 'sinc presid trump': 2777, 'american peopl see': 2778, 'find inform appli': 2779, 'expand unemploy insur': 2780, 'restaur small busi': 2781, 'free covid19 test': 2782, 'test paid emerg': 2783, 'paid emerg leav': 2784, 'emerg leav enhanc': 2785, 'unemploy benefit food': 2786, 'make sure voic': 2787, 'sure voic heard': 2788, 'school make sure': 2789, 'onlin by phone': 2790, 'combat climat chang': 2791, 'show appreci servic': 2792, 'becam first woman': 2793, 'job well done': 2794, 'use defens product': 2795, 'groceri store worker': 2796, 'food assist program': 2797, 'strengthen nation secur': 2798, 'great news farmer': 2799, '2020 pass hous': 2800, 'stand peopl iran': 2801, 'act pass congress': 2802, 'civil right leader': 2803, 'act use bipartisan': 2804, 'use bipartisan reform': 2805, 'lower pocket spend': 2806, 'pocket spend protect': 2807, 'spend protect access': 2808, 'protect access new': 2809, 'see week washington': 2810, 'firesid chat facebook': 2811, 'pleas click link': 2812, 'san bernardino counti': 2813, 'facebook page bitli': 2814, 'militari widow tax': 2815, 'detail facebook page': 2816, 'look forward see': 2817, 'inland empir resid': 2818, 'district director kathleen': 2819, 'director kathleen connor': 2820, 'phone appoint tool': 2821, 'chat facebook page': 2822, 'az01 mobil offic': 2823, 'see yall there': 2824, 'week serv ga12': 2825, 'serv ga12 bitli': 2826, 'email websit housegov': 2827, 'click link owli': 2828, 'newslett owli ms01': 2829, 'famili first coronaviru': 2830, 'first coronaviru respons': 2831, 'green new deal': 2832, 'dedic public servant': 2833, 'work togeth ensur': 2834, 'offic hour tomorrow': 2835, 'tune in im': 2836, 'dr adi pour': 2837, 'china communist parti': 2838, 'see week serv': 2839, 'ill anoth firesid': 2840, 'anoth firesid chat': 2841, 'ct coronaviru pandem': 2842, 'coronaviru pandem question': 2843, 'pandem question concern': 2844, 'question concern want': 2845, 'concern want address': 2846, 'want address pleas': 2847, 'address pleas call': 2848, 'pleas call 847': 2849, 'call 847 413': 2850, 'page facebookcom 1230pm': 2851, 'pleas read newslett': 2852, 'read newslett owli': 2853, 'im proud announc': 2854, 'tyndal air forc': 2855, 'hbcu minorityserv institut': 2856, 'lewiston 2072416767 bangor': 2857, 'join dial 8773001219': 2858, '847 413 1959': 2859, '413 1959 email': 2860, '1959 email websit': 2861, 'facebookcom 1230pm ct': 2862, 'ye backyard act': 2863, 'senior secur act': 2864, 'across indiana ninth': 2865, 'join @appropsdem colleagu': 2866, 'learn more bitli': 2867, 'help small busi': 2868, 'call 855 9200558': 2869, 'get question answer': 2870, 'forward see yall': 2871, 'fund hbcu minorityserv': 2872, 'main small busi': 2873, 'new york state': 2874, 'salut countri hero': 2875, 'countri hero thank': 2876, '1230pm ct coronaviru': 2877, 'conflict trade act': 2878, 'read weekli wrapup': 2879, 'indiana ninth congression': 2880, 'ninth congression district': 2881, 'posit impact tax': 2882, 'impact tax reform': 2883, 'hoosier famili busi': 2884, 'like inland empir': 2885, 'inland empir famili': 2886, 'today hous pass': 2887, 'close digit divid': 2888, 'question feder agenc': 2889, 'teletown hall local': 2890, 'hall local health': 2891, 'local health offici': 2892, 'fl02 covid19 coronaviru': 2893, 'may rest peac': 2894, 'constitu town hall': 2895, '2072416767 bangor 2072497400': 2896, 'bangor 2072497400 carib': 2897, '2072497400 carib 2074926009': 2898, 'savannah harbor expans': 2899, 'harbor expans project': 2900, 'ga12 bitli video': 2901, 'bitli video here': 2902, 'video here bitli': 2903, 'experi call america': 2904, 'hope tune in': 2905, 'md06 busi owner': 2906, 'freshmen work group': 2907, 'work group addict': 2908, 'rural health agenda': 2909, 'offic put togeth': 2910, 'connect folk resourc': 2911, 'offic hour monday': 2912, '35th town hall': 2913, 'chatham polic chief': 2914, 'polic chief peter': 2915, 'chief peter volkmann': 2916, 'subcommitte econom consum': 2917, 'econom consum polici': 2918, 'question concern coronaviru': 2919, 'ban conflict trade': 2920, 'question answer coronaviru': 2921, 'answer coronaviru stimulu': 2922, 'coronaviru stimulu packag': 2923, 'pleas read weekli': 2924, 'weekli wrapup owli': 2925, 'foster innov act': 2926, 'sgt ben bertram': 2927, 'find dropoff locat': 2928, 'famili love one': 2929, 'taxreform stori in09': 2930, 'stori in09 hoosier': 2931, 'in09 hoosier famili': 2932, 'famili busi across': 2933, 'busi across indiana': 2934, 'congression district alreadi': 2935, 'district alreadi felt': 2936, 'alreadi felt posit': 2937, 'felt posit impact': 2938, 'everi inland empir': 2939, 'congress coequal branch': 2940, 'coequal branch govern': 2941, 'proud join @housedemocrat': 2942, 'casework az01 staff': 2943, 'az01 bitli today': 2944, 'az01 tribal commun': 2945, 'spoke hous floor': 2946, 'host town hall': 2947, 'az01 staff hold': 2948, 'last year introduc': 2949, 'stop by az01': 2950, 'staff hold az01': 2951, 'hold az01 mobil': 2952, 'week staff hold': 2953, 'receiv benefit owe': 2954, 'access servic offic': 2955, 'servic offic provid': 2956, 'top prioriti mine': 2957, 'valentin veteran program': 2958, 'profession first respond': 2959, 'small busi nonprofit': 2960, '855 9200558 listen': 2961, 'full statement here': 2962, 'make lynch feder': 2963, 'lynch feder hate': 2964, 'feder hate crime': 2965, 'hurrican michael recoveri': 2966, 'recov hurrican michael': 2967, 'alabama across countri': 2968, 'hope see yall': 2969, 'repeal militari widow': 2970, 'host constitu town': 2971, 'academi nomin info': 2972, 'nomin info session': 2973, 'nearest offic lewiston': 2974, 'offic lewiston 2072416767': 2975, 'rx drug cost': 2976, 'defens fund bill': 2977, 'week ago twittercom': 2978, 'unit state senat': 2979, 'conduct fair trial': 2980, 'here full interview': 2981, 'held telephon town': 2982, 'answer question resid': 2983, 'bitli take look': 2984, 'substanc use disord': 2985, 'great experi call': 2986, 'take advantag technolog': 2987, 'advantag technolog take': 2988, 'technolog take advantag': 2989, 'take advantag us': 2990, 'nation intellig prioriti': 2991, 'busi resourc webinar': 2992, '300 400 pm': 2993, 'see full statement': 2994, 'offic help get': 2995, 'help get answer': 2996, 'twittercom send love': 2997, 'covid19 telephon town': 2998, 'district offic 3013541000': 2999, 'kathleen connor attend': 3000, 'put togeth resourc': 3001, 'town hall coronaviru': 3002, 'weekli telephon town': 3003, 'appoint tool connect': 3004, 'constitu servic repres': 3005, 'offic 845 4432930': 3006, 'new phone appoint': 3007, 'renssela ulster counti': 3008, 'today join @housesmallbiz': 3009, 'join @housesmallbiz hear': 3010, 'town hall ny19': 3011, 'gateway career act': 3012, 'show appreci veteran': 3013, 'sure everyon count': 3014, 'kingston offic 256': 3015, 'offic 256 clinton': 3016, 'offic collect valentin': 3017, 'card kingston offic': 3018, 'honor chatham polic': 3019, '@oversightdem subcommitte econom': 3020, 'take place 9am': 3021, 'place 9am ct': 3022, '9am ct 10amet': 3023, 'ct 10amet 1230': 3024, '10amet 1230 previous': 3025, '1230 previous announc': 3026, 'previous announc pleas': 3027, 'announc pleas tune': 3028, 'pleas tune facebook': 3029, 'tune facebook page': 3030, 'page facebookcom 9am': 3031, 'facebookcom 9am ct': 3032, '9am ct question': 3033, 'ct question answer': 3034, 'address question concern': 3035, 'recent chanc meet': 3036, 'ms01 great news': 3037, 'link owli ms01': 3038, 'first district ms01': 3039, 'backyard act pass': 3040, 'locat near housegov': 3041, 'interest attend servic': 3042, 'attend servic academi': 3043, 'enhanc safeti skill': 3044, 'safeti skill train': 3045, 'open job opportun': 3046, 'cut edg scientif': 3047, 'edg scientif medic': 3048, 'scientif medic research': 3049, 'protect senior citizen': 3050, 'truck industri driver': 3051, 'industri driver shortag': 3052, 'job opportun hoosier': 3053, 'combat opioid epidem': 3054, 'dropoff locat near': 3055, 'seaman 1st class': 3056, '1st class carl': 3057, 'class carl huff': 3058, 'receiv medal earn': 3059, 'job investor confid': 3060, 'investor confid act': 3061, '2018 congression art': 3062, 'resourc avail commun': 3063, 'help inland empir': 3064, 'bernardino counti depart': 3065, 'counti depart public': 3066, 'depart public health': 3067, 'dream promis act': 3068, 'away million american': 3069, 'commun like inland': 3070, 'act terror took': 3071, 'terror took live': 3072, 'announc fund help': 3073, 'secur fund help': 3074, 'access ballot box': 3075, 'broken immigr system': 3076, 'teacher aid learn': 3077, 'today join @appropsdem': 3078, 'join @housedemocrat colleagu': 3079, 'bipartisan bill expand': 3080, 'fulfil campaign promis': 3081, 'bipartisan bill reopen': 3082, 'bill reopen govern': 3083, 'deliv result american': 3084, 'az deleg letter': 3085, 'relief az01 famili': 3086, 'more bitli az01': 3087, 'tribal commun az01': 3088, 'overlook nation respons': 3089, 'commun across az01': 3090, 'temporarili close @grandcanyonnp': 3091, 'solar vet act': 3092, 'casework staff work': 3093, 'assist az01 famili': 3094, 'az01 bitli icymi': 3095, 'bitli today sent': 3096, 'today sent letter': 3097, 'letter vp penc': 3098, 'avail websit here': 3099, 'websit here bitli': 3100, 'act legisl provid': 3101, 'rural tribal commun': 3102, 'reliabl date inform': 3103, 'ensur free test': 3104, 'free test covid19': 3105, 'hous vote pass': 3106, 'ensur az01 famili': 3107, 'must ensur az01': 3108, 'social secur medicar': 3109, 'anoth feder agenc': 3110, 'western navajo agenc': 3111, 'navajo agenc va': 3112, 'agenc va offic': 3113, 'protect az01 commun': 3114, 'az01 staff detail': 3115, 'offic hour across': 3116, 'hour across az01': 3117, 'work togeth identifi': 3118, 'tribal power act': 3119, 'censu onceadecad chanc': 3120, 'onceadecad chanc track': 3121, 'chanc track chang': 3122, 'track chang popul': 3123, 'az01 commun help': 3124, 'commun help shape': 3125, 'help shape futur': 3126, 'shape futur arizona': 3127, 'futur arizona particip': 3128, 'arizona particip 2020': 3129, 'particip 2020 censu': 3130, 'act bill cosponsor': 3131, 'rio de flag': 3132, 'az01 receiv benefit': 3133, 'forward see good': 3134, 'agenc program detail': 3135, 'program detail facebook': 3136, 'remark @energycommerc subcommitte': 3137, '@energycommerc subcommitte hear': 3138, 'az01 famili rural': 3139, 'tara mccollum plese': 3140, 'week mobil offic': 3141, 'bill secur 5g': 3142, 'secur 5g beyond': 3143, '5g beyond act': 3144, 'call teletown hall': 3145, 'ron eidshaug us': 3146, 'eidshaug us chamber': 3147, 'governor pete rickett': 3148, 'busi develop center': 3149, 'one top prioriti': 3150, 'medic profession first': 3151, 'coronaviru answer question': 3152, 'websit contain page': 3153, 'contain page strictli': 3154, 'page strictli dedic': 3155, 'strictli dedic provid': 3156, 'dedic provid inform': 3157, 'provid inform coronaviru': 3158, 'inform coronaviru also': 3159, 'coronaviru also list': 3160, 'also list feder': 3161, 'list feder resourc': 3162, 'feder resourc employ': 3163, 'resourc employ busi': 3164, 'employ busi organ': 3165, 'busi organ learn': 3166, 'organ learn visit': 3167, 'learn visit websit': 3168, 'visit websit at': 3169, 'websit at housegov': 3170, 'sba econom injuri': 3171, 'constitu call 855': 3172, '745 pm ct': 3173, 'discuss govern respons': 3174, 'govern respons coronaviru': 3175, 'art competit open': 3176, 'competit open high': 3177, 'open high school': 3178, 'school student nebraska': 3179, 'student nebraska 2nd': 3180, 'nebraska 2nd district': 3181, '2nd district opportun': 3182, 'district opportun recogn': 3183, 'opportun recogn encourag': 3184, 'recogn encourag artist': 3185, 'encourag artist talent': 3186, 'artist talent nation': 3187, 'talent nation youth': 3188, 'nation youth good': 3189, 'youth good luck': 3190, 'good luck look': 3191, 'luck look forward': 3192, 'forward see art': 3193, 'see art appli': 3194, 'art appli here': 3195, 'grate cosponsor hr': 3196, 'stay tune updat': 3197, 'here cdcgov fl02': 3198, 'thank men women': 3199, 'rebuild tyndal air': 3200, 'week honor life': 3201, 'rest peac it': 3202, 'keep famili commun': 3203, 'discuss hurrican michael': 3204, 'help us rebuild': 3205, 'across countri hurt': 3206, 'sinc hurrican michael': 3207, 'marianna high school': 3208, 'colleg world seri': 3209, 'disast relief fund': 3210, 'pass disast supplement': 3211, 'great question work': 3212, 'question work congress': 3213, 'due covid19 pandem': 3214, 'im proud introduc': 3215, 'fair complet trial': 3216, 'act sign law': 3217, 'perman fund hbcu': 3218, 'critic fund hbcu': 3219, 'forward see there': 3220, 'renew critic fund': 3221, 'hall im look': 3222, 'look forward hope': 3223, 'final get done': 3224, 'staff host militari': 3225, 'host militari academi': 3226, 'staff lead militari': 3227, 'im go keep': 3228, 'matern care act': 3229, 'improv qualiti life': 3230, 'carib 2074926009 2': 3231, 'social secur va': 3232, 'violat worker right': 3233, 'rural small busi': 3234, 'main wood fiber': 3235, 'hear take place': 3236, '@senatorcollin @senangusk @chelliepingre': 3237, '@senangusk @chelliepingre urg': 3238, 'protect right whale': 3239, 'small busi succeed': 3240, 'info here housegov': 3241, 'arm servic committe': 3242, '@realdonaldtrump main lobstermen': 3243, 'main lobstermen need': 3244, 'lobstermen need help': 3245, 'saw day one': 3246, '@sbagov interim final': 3247, 'interim final rule': 3248, 'expect earli next': 3249, 'earli next week': 3250, 'slow rate infect': 3251, 'use pay worker': 3252, 'job small busi': 3253, 'one way anoth': 3254, 'get cash small': 3255, 'cash small busi': 3256, 'ago twittercom rt': 3257, 'i lord god': 3258, 'find approv lender': 3259, 'tune can gapol': 3260, 'take extra precaut': 3261, 'presid trump agenda': 3262, '25 million peopl': 3263, 'tune in gapol': 3264, 'discuss latest impeach': 3265, '176000 new job': 3266, 'great news ga12': 3267, 'public health offici': 3268, 'help prevent spread': 3269, 'night answer question': 3270, 'question resid ga12': 3271, 'undermin presid trump': 3272, 'washington bitli today': 3273, 'assist closer home': 3274, 'june commun offic': 3275, 'commun offic hour': 3276, 'full list date': 3277, 'list date time': 3278, 'date time locat': 3279, 'act becam law': 3280, 'inspir next gener': 3281, 'gun violenc prevent': 3282, 'one favorit part': 3283, 'save american live': 3284, 'refus accept that': 3285, 'one import job': 3286, 'import job member': 3287, 'job member congress': 3288, 'member congress help': 3289, 'congress help feder': 3290, 'help feder case': 3291, 'seven year ago': 3292, 'act gun violenc': 3293, 'deserv feel safe': 3294, 'nation ai strategi': 3295, 'unit us divid': 3296, 'us divid us': 3297, 'gener secretari xi': 3298, 'light conquer dark': 3299, 'trade mexico canada': 3300, 'minut hope tune': 3301, 'jewish friend celebr': 3302, 'put innoc live': 3303, 'innoc live risk': 3304, 'south west texa': 3305, 'tune 7pm ct': 3306, 'spread hate respond': 3307, 'hate respond love': 3308, 'mail onlin 2020censusgov': 3309, 'onlin 2020censusgov phone': 3310, '2020censusgov phone english': 3311, 'phone english 18443302020': 3312, 'phone spanish 18444682020': 3313, 'busi owner regist': 3314, 'regist free covid19': 3315, 'maryland health benefit': 3316, 'health benefit exchang': 3317, 'covid19 pandem regist': 3318, 'covid19 busi resourc': 3319, 'resourc webinar wednesday': 3320, 'webinar wednesday april': 3321, 'wednesday april 1st': 3322, 'april 1st 300': 3323, 'news governor larri': 3324, 'governor larri hogan': 3325, 'covid19 commun resourc': 3326, 'commun resourc guid': 3327, 'famili support servic': 3328, 'support servic act': 3329, 'thank hard work': 3330, 'west tennesse thank': 3331, 'appreci learn continu': 3332, 'catch week below': 3333, 'trade deal major': 3334, 'deal major win': 3335, 'answer need housegov': 3336, 'year incred servic': 3337, 'harass robocal receiv': 3338, 'introduc rural health': 3339, 'also join dial': 3340, 'send love strength': 3341, 'frederick carrol counti': 3342, 'remind offic host': 3343, 'call district offic': 3344, 'check out housegov': 3345, 'district team member': 3346, 'complet censu count': 3347, 'oklahoma first district': 3348, 'covid19 pandem togeth': 3349, 'togeth resourc guid': 3350, 'third telephon town': 3351, 'im hold third': 3352, 'your abl join': 3353, 'abl join us': 3354, 'small busi ny19': 3355, 'join us housegov': 3356, 'offic send updat': 3357, 'tool connect folk': 3358, 'respect social distanc': 3359, 'speak constitu servic': 3360, 'second telephon town': 3361, 'commun throughout covid19': 3362, 'im hold second': 3363, 'latest @cdcgov guidanc': 3364, 'small busi selfemploy': 3365, 'busi selfemploy owner': 3366, 'ny19 small busi': 3367, 'issu feder govern': 3368, '@ulsterexec pat ryan': 3369, 'ny19 home nearli': 3370, 'home nearli 5000': 3371, 'nearli 5000 farm': 3372, '5000 farm 96': 3373, 'farm 96 famili': 3374, '96 famili farm': 3375, 'housegov thank everyon': 3376, 'small busi across': 3377, 'answer question assist': 3378, 'want help prevent': 3379, 'member staff hold': 3380, 'were work togeth': 3381, 'columbia sullivan counti': 3382, 'offic hold mobil': 3383, 'otsego dutchess counti': 3384, 'appli serv commun': 3385, 'serv commun 2020censusgov': 3386, 'im hold 35th': 3387, 'hold 35th town': 3388, 'share prioriti 2020': 3389, 'introduc gateway career': 3390, 'import famili detail': 3391, '256 clinton ave': 3392, 'valentin show appreci': 3393, 'town hall dutchess': 3394, 'hall dutchess counti': 3395, '34th town hall': 3396, '300 pm hyde': 3397, 'pm hyde park': 3398, 'collect valentin veteran': 3399, 'im honor chatham': 3400, 'get back game': 3401, 'need bold action': 3402, 'concern coronaviru pandem': 3403, 'trade act would': 3404, 'trade individu stock': 3405, 'tomorrow ill anoth': 3406, 'offic 847 4131959': 3407, 'chat facebook morn': 3408, 'facebook morn take': 3409, 'morn take place': 3410, 'chanc meet member': 3411, 'today @oversightdem hear': 3412, 'read letter housegov': 3413, '2020 first congression': 3414, 'congression district art': 3415, 'district art competit': 3416, 'come see us': 3417, 'throughout first district': 3418, 'wrapup owli ms01': 3419, 'owli ms01 thank': 3420, 'partisan polit american': 3421, 'state mississippi thank': 3422, 'owli ms01 great': 3423, 'more pleas click': 3424, 'prevent spread coronaviru': 3425, 'pass hous last': 3426, 'hous last week': 3427, 'night hous pass': 3428, 'legisl encourag commun': 3429, 'encourag commun increas': 3430, 'commun increas avail': 3431, 'increas avail afford': 3432, 'avail afford hous': 3433, 'safe stabl home': 3434, 'stabl home serv': 3435, 'home serv bedrock': 3436, 'serv bedrock famili': 3437, 'gain skill need': 3438, 'updat trade deal': 3439, 'certainti hoosier farmer': 3440, 'thank tireless work': 3441, 'live everi day': 3442, 'john wooden middl': 3443, 'wooden middl school': 3444, 'prevent youth substanc': 3445, 'youth substanc use': 3446, 'hoosier across indiana': 3447, 'expir unus unwant': 3448, 'unus unwant prescript': 3449, 'unwant prescript drug': 3450, 'afford hous crisi': 3451, 'experi manufactur busi': 3452, 'men women work': 3453, 'act introduc w': 3454, 'someon know interest': 3455, 'know interest attend': 3456, 'sure attend academi': 3457, 'attend academi day': 3458, 'address driver shortag': 3459, 'invest cut edg': 3460, 'medic research develop': 3461, 'secur act introduc': 3462, 'salem water treatment': 3463, 'water treatment facil': 3464, 'protect protect us': 3465, 'ben bertram newsandtribunecom': 3466, 'grow indiana economi': 3467, 'protect lifelong save': 3468, 'introduc w @repjoshg': 3469, 'senior learn more': 3470, 'find housegov twittercom': 3471, 'housegov twittercom today': 3472, 'lifelong save invest': 3473, 'local famili farm': 3474, 'famili farm countri': 3475, 'farm countri origin': 3476, 'countri origin small': 3477, 'origin small busi': 3478, 'address truck industri': 3479, 'driver shortag open': 3480, 'shortag open job': 3481, 'opportun hoosier enhanc': 3482, 'hoosier enhanc safeti': 3483, 'ban member congress': 3484, 'member congress becom': 3485, 'congress becom lobbyist': 3486, 'chao dysfunct washington': 3487, 'dysfunct washington interest': 3488, 'washington interest livelihood': 3489, 'interest livelihood hoosier': 3490, 'livelihood hoosier american': 3491, 'hoosier american come': 3492, 'american come second': 3493, 'come second selfinterest': 3494, 'second selfinterest social': 3495, 'selfinterest social media': 3496, 'social media follow': 3497, 'media follow financi': 3498, 'follow financi futur': 3499, 'mani member congress': 3500, 'america small busi': 3501, 'econom good news': 3502, 'drug takeback day': 3503, 'cut suppli prescript': 3504, 'suppli prescript drug': 3505, '10am2pm properli dispos': 3506, 'properli dispos expir': 3507, 'drug support ongo': 3508, 'support ongo effort': 3509, 'ongo effort combat': 3510, 'effort combat opioid': 3511, 'opioid epidem face': 3512, 'epidem face commun': 3513, 'click find dropoff': 3514, 'carl huff famili': 3515, 'huff famili receiv': 3516, 'famili receiv medal': 3517, 'medal earn wwii': 3518, 'pass job investor': 3519, 'develop empow aspir': 3520, 'empow aspir leader': 3521, 'aspir leader act': 3522, 'polic act wrote': 3523, 'counti sheriff frank': 3524, 'sheriff frank loop': 3525, 'drivesaf act address': 3526, 'indiana ninth district': 3527, 'world robot competit': 3528, 'busi affect coronaviru': 3529, 'affect coronaviru crisi': 3530, 'question feder respons': 3531, 'feder respons coronaviru': 3532, 'respons coronaviru crisi': 3533, 'coronaviru crisi resourc': 3534, 'crisi resourc avail': 3535, 'today twittercom today': 3536, 'twittercom today vote': 3537, 'resourc need meet': 3538, 'need meet challeng': 3539, 'support small busi': 3540, 'health care system': 3541, 'avail help inland': 3542, 'guarante paid sick': 3543, 'help work famili': 3544, 'assist pleas contact': 3545, 'small busi resourc': 3546, 'busi resourc avail': 3547, 'econom injuri disast': 3548, 'injuri disast loan': 3549, 'coronaviru hotlin 909': 3550, 'hotlin 909 3873911': 3551, 'bernardino counti resid': 3552, 'resourc need overcom': 3553, 'congress must pass': 3554, 'ensur daca recipi': 3555, 'pass dream promis': 3556, 'recipi deserv know': 3557, 'region like inland': 3558, 'vice chair @appropsdem': 3559, 'issu face commun': 3560, 'inland empir job': 3561, 'empir job corp': 3562, 'fight full equal': 3563, 'fund help region': 3564, 'presid tri take': 3565, 'sure everi inland': 3566, 'empir resid count': 3567, 'repres best brightest': 3568, 'region look forward': 3569, 'stand inland empir': 3570, 'dr king dedic': 3571, 'king dedic life': 3572, 'student loan debt': 3573, 'were go let': 3574, 'go let happen': 3575, 'still time getcov': 3576, 'trump administr make': 3577, 'prioriti inland empir': 3578, 'health care one': 3579, 'make sure peopl': 3580, 'four year ago': 3581, 'took live 14': 3582, 'live 14 injur': 3583, '14 injur 22': 3584, 'injur 22 commun': 3585, 'legisl would provid': 3586, 'health care cost': 3587, 'help san bernardino': 3588, 'im proud support': 3589, 'sinc presid cruel': 3590, 'twittercom hous pass': 3591, 'countri know home': 3592, 'time senat step': 3593, 'twittercom trump administr': 3594, 'take action protect': 3595, 'one face discrimin': 3596, 'face discrimin love': 3597, 'happi new year': 3598, 'open impeach inquiri': 3599, 'proud stand @hispaniccaucu': 3600, 'commun housegov happi': 3601, 'put american live': 3602, 'american live risk': 3603, 'today im vote': 3604, 'bad problem wors': 3605, 'spend day work': 3606, 'help feder agenc': 3607, 'valu make countri': 3608, 'make countri great': 3609, 'like not twittercom': 3610, 'fund help support': 3611, 'help support good': 3612, 'support good job': 3613, 'head start teacher': 3614, 'start teacher aid': 3615, 'border patrol agent': 3616, 'unaccept today join': 3617, 'american dream mani': 3618, 'famili inland empir': 3619, 'includ amend expand': 3620, 'benefit militari spous': 3621, 'help servic member': 3622, 'progress that made': 3623, 'help american access': 3624, 'display us capitol': 3625, 'taco ramon immigrantown': 3626, 'ramon immigrantown busi': 3627, 'busi heart san': 3628, 'heart san bernardino': 3629, 'san bernardino thank': 3630, 'woman right make': 3631, 'right make health': 3632, 'join hous colleagu': 3633, '@appropsdem colleagu demand': 3634, 'colleagu demand answer': 3635, 'jack h brown': 3636, 'tear apart famili': 3637, 'im join @appropsdem': 3638, '@appropsdem colleagu hear': 3639, 'find goodpay job': 3640, 'health care away': 3641, 'care away million': 3642, 'fund allow inland': 3643, 'allow inland empir': 3644, 'inland empir housegov': 3645, 'proud work @reppaulcook': 3646, 'proud announc feder': 3647, 'announc feder fund': 3648, 'everi american deserv': 3649, 'job inland empir': 3650, 'campaign promis build': 3651, 'promis build wall': 3652, 'constitut nation emerg': 3653, 'enhanc secur southern': 3654, 'secur southern border': 3655, 'solut look forward': 3656, 'enhanc border secur': 3657, 'peopl look forward': 3658, 'reopen govern @realdonaldtrump': 3659, 'time stop play': 3660, 'stop play polit': 3661, 'play polit peopl': 3662, 'polit peopl live': 3663, 'shutdown real consequ': 3664, '116th congress im': 3665, 'throughout 115th congress': 3666, 'deleg letter urg': 3667, 'letter urg speedi': 3668, 'urg speedi distribut': 3669, 'tribal govern care': 3670, 'govern care act': 3671, 'resourc promis fight': 3672, 'promis fight covid19': 3673, 'led entir az': 3674, 'entir az deleg': 3675, 'more bitli twittercom': 3676, 'need assist feder': 3677, 'around clock assist': 3678, 'uncertainti caus coronaviru': 3679, 'bitli az01 famili': 3680, 'nation respons effort': 3681, 'health safeti constitu': 3682, 'home onlin phone': 3683, 'onlin phone mail': 3684, 'bitli pleas see': 3685, 'slow spread covid19': 3686, 'spread covid19 navajo': 3687, 'continu work w': 3688, 'navajo nation az01': 3689, 'az01 bitli az01': 3690, '@secbernhardt close @grandcanyonnp': 3691, 'around clock keep': 3692, 'need temporarili close': 3693, 'az01 commun tribe': 3694, 'websit bitli today': 3695, 'sent letter vp': 3696, 'tribal commun overlook': 3697, 'commun overlook nation': 3698, 'az01 commun bitli': 3699, 'care act provid': 3700, 'muchneed relief az01': 3701, 'az01 famili health': 3702, 'famili health care': 3703, 'today spoke hous': 3704, 'care act legisl': 3705, 'support az01 famili': 3706, 'az01 famili busi': 3707, 'work keep az01': 3708, 'keep az01 famili': 3709, 'neg effect coronaviru': 3710, 'tomorrow look forward': 3711, 'look forward vote': 3712, 'qualiti highspe internet': 3713, 'az01 commun health': 3714, 'protect equip need': 3715, 'equip need keep': 3716, 'az01 work togeth': 3717, 'az01 farmer ag': 3718, 'improv access health': 3719, 'tribal commun across': 3720, 'new legisl packag': 3721, 'legisl packag address': 3722, 'stay inform reliabl': 3723, 'inform reliabl date': 3724, 'govern american approach': 3725, 'health crisi az01': 3726, 'ensur az01 tribal': 3727, 'read ope bitli': 3728, 'propos chang would': 3729, 'sent letter indian': 3730, 'letter indian health': 3731, 'indian health servic': 3732, 'health servic voic': 3733, 'servic voic concern': 3734, 'tribal leader health': 3735, 'receiv adequ guidanc': 3736, 'time manner more': 3737, 'manner more bitli': 3738, 'bipartisan famili first': 3739, 'head presid desk': 3740, 'presid desk signatur': 3741, 'urg senat take': 3742, 'test covid19 extend': 3743, 'covid19 extend paid': 3744, 'extend paid sick': 3745, 'leav famili affect': 3746, 'famili affect expand': 3747, 'affect expand nutrit': 3748, 'expand nutrit assist': 3749, 'transit militari personnel': 3750, 'career solar industri': 3751, 'solar industri bitli': 3752, 'increasingli connect world': 3753, 'one hardwork intern': 3754, 'keep love one': 3755, 'az01 famili w': 3756, 'due coronaviru concern': 3757, 'cancel upcom az01': 3758, 'upcom az01 town': 3759, 'az01 town hall': 3760, 'first prioriti health': 3761, 'ensur az01 rural': 3762, 'resourc avail websit': 3763, 'az01 tuba citi': 3764, 'tuba citi meet': 3765, 'citi meet casework': 3766, 'meet casework staff': 3767, 'offic hour issu': 3768, 'hour issu social': 3769, 'secur medicar anoth': 3770, 'medicar anoth feder': 3771, 'feder agenc thursday': 3772, 'agenc thursday march': 3773, 'thursday march 12th': 3774, 'march 12th 1000': 3775, '12th 1000 200': 3776, '1000 200 pm': 3777, '200 pm western': 3778, 'pm western navajo': 3779, 'work close digit': 3780, 'spoke @energycommerc subcommitte': 3781, '@energycommerc subcommitte markup': 3782, 'money polit safeguard': 3783, 'us capitol attract': 3784, 'capitol attract visit': 3785, 'attract visit websit': 3786, 'visit websit detail': 3787, 'websit detail bitli': 3788, 'detail bitli az01': 3789, 'hear directli az01': 3790, 'directli az01 famili': 3791, 'az01 famili today': 3792, 'hopi veteran outstat': 3793, 'veteran outstat tomorrow': 3794, 'new mobil offic': 3795, 'may feder agenc': 3796, 'meet casework detail': 3797, 'discuss econom develop': 3798, 'az01 rural commun': 3799, 'hardwork az01 famili': 3800, 'agenc program encourag': 3801, 'tomorrow meet casework': 3802, 'meet casework az01': 3803, 'staff detail bitli': 3804, 'detail bitli staff': 3805, 'bitli staff hold': 3806, 'across az01 ensur': 3807, 'az01 ensur famili': 3808, 'ensur famili veteran': 3809, 'famili veteran senior': 3810, 'az01 look forward': 3811, 'togeth identifi last': 3812, 'keep promis veteran': 3813, 'offic visit websit': 3814, 'staff host mobil': 3815, 'az01 famili abl': 3816, 'famili abl access': 3817, 'abl access resourc': 3818, 'access resourc avail': 3819, 'resourc avail offic': 3820, 'rural electr cooper': 3821, 'week met w': 3822, 'togeth find solut': 3823, 'agenc program urg': 3824, 'program urg stop': 3825, 'veteran love one': 3826, 'invest public school': 3827, 'ag produc work': 3828, 'produc work tirelessli': 3829, 'deserv access highest': 3830, 'access highest qualiti': 3831, 'highest qualiti mental': 3832, 'health resourc cosponsor': 3833, 'resourc cosponsor @repbrindisi': 3834, 'cosponsor @repbrindisi see': 3835, '@repbrindisi see rural': 3836, 'see rural resili': 3837, 'rural resili act': 3838, 'resili act address': 3839, 'act address crisi': 3840, 'address crisi farmer': 3841, 'crisi farmer suicid': 3842, 'farmer suicid america': 3843, 'offic hour page': 3844, 'call 928 286533': 3845, '928 286533 email': 3846, '286533 email pauletteyazzie@mailhousegov': 3847, 'email pauletteyazzie@mailhousegov schedul': 3848, 'pauletteyazzie@mailhousegov schedul appoint': 3849, 'commun thought today': 3850, 'bitli last week': 3851, 'offic hour window': 3852, 'hour window rock': 3853, 'bitli need build': 3854, 'need build school': 3855, 'build school hospit': 3856, 'school hospit road': 3857, 'hospit road censu': 3858, 'road censu onceadecad': 3859, 'chang popul determin': 3860, 'popul determin feder': 3861, 'fund flow az01': 3862, 'flow az01 commun': 3863, 'bipartisan solut address': 3864, 'solut address nation': 3865, 'nation crumbl infrastructur': 3866, 'pass puppi assist': 3867, 'therapi act bill': 3868, 'bill cosponsor establish': 3869, 'cosponsor establish pilot': 3870, 'establish pilot program': 3871, 'pilot program within': 3872, 'program within va': 3873, 'within va give': 3874, 'va give veteran': 3875, 'give veteran access': 3876, 'veteran access therapi': 3877, 'access therapi dog': 3878, 'therapi dog address': 3879, 'dog address mental': 3880, 'az01 commun flood': 3881, 'bitli week staff': 3882, 'year introduc bipartisan': 3883, 'work hard ensur': 3884, 'veteran az01 receiv': 3885, 'secur nearli 85000': 3886, 'nearli 85000 backpay': 3887, '85000 backpay marcu': 3888, 'offic hour winslow': 3889, 'hour winslow springervil': 3890, 'bitli former cop': 3891, 'prioriti mine week': 3892, 'mine week staff': 3893, 'week met az01': 3894, 'prioriti year thank': 3895, 'thank visit washington': 3896, 'vulner ensur care': 3897, 'ensur care center': 3898, 'held account serv': 3899, 'account serv az01': 3900, 'serv az01 bitli': 3901, '9 12 pm': 3902, 'complet rio de': 3903, 'de flag flood': 3904, 'flag flood control': 3905, 'flood control project': 3906, 'sinc come congress': 3907, 'come congress 2017': 3908, 'az01 indian countri': 3909, 'key prioriti mine': 3910, 'encourag stop question': 3911, 'stop question feder': 3912, 'bitli deepli sadden': 3913, 'joe vandev sr': 3914, 'vandev sr joe': 3915, 'navajo code talker': 3916, 'serv az01 famili': 3917, 'work accomplish 2019': 3918, 'bitli last year': 3919, 'offic hour facebook': 3920, 'resolv disput feder': 3921, 'disput feder agenc': 3922, 'return nearli 2': 3923, 'nearli 2 million': 3924, 'promis act legisl': 3925, 'affect closur ng': 3926, 'veteran program encourag': 3927, 'recogn import work': 3928, 'tribal colleg univers': 3929, 'colleg univers week': 3930, 'digit divid az01': 3931, 'divid az01 bitli': 3932, 'veteran servic staff': 3933, 'veteran resourc fair': 3934, 'issu must continu': 3935, 'pleas tara mccollum': 3936, 'mccollum plese @azalliancechc': 3937, 'offic hour sedona': 3938, 'bring constitu servic': 3939, 'see good az01': 3940, 'good az01 bitli': 3941, 'detail websit bitli': 3942, 'page bitli icymi': 3943, 'proud receiv a': 3944, 'receiv a rate': 3945, 'honor repres az01': 3946, 'live arizona famili': 3947, 'accomplish past year': 3948, 'full statement bitli': 3949, 'offic provid matter': 3950, 'provid matter zip': 3951, 'matter zip code': 3952, 'zip code detail': 3953, 'code detail week': 3954, 'detail week mobil': 3955, 'vote pass bill': 3956, 'pass bill secur': 3957, 'watch remark @energycommerc': 3958, 'famili navajo nation': 3959, 'navajo nation lack': 3960, 'nation lack access': 3961, 'lack access electr': 3962, 'access electr tribal': 3963, 'electr tribal power': 3964, 'power act would': 3965, 'would provid assist': 3966, 'bitli icymi week': 3967, 'front line work': 3968, 'talk econom relief': 3969, 'busi affect novel': 3970, 'affect novel coronaviru': 3971, 'listen full teletown': 3972, 'full teletown hall': 3973, 'teletown hall here': 3974, 'hall here housegov': 3975, 'everyon call teletown': 3976, 'thank you icymi': 3977, 'icymi governor pete': 3978, 'pete rickett announc': 3979, 'owli lo resultado': 3980, 'lo resultado del': 3981, 'resultado del censo': 3982, 'del censo 2020': 3983, 'censo 2020 ayudarn': 3984, '2020 ayudarn determinar': 3985, 'ayudarn determinar cmo': 3986, 'determinar cmo lo': 3987, 'cmo lo fondo': 3988, 'lo fondo federal': 3989, 'fondo federal fluyen': 3990, 'federal fluyen la': 3991, 'fluyen la comunidad': 3992, 'la comunidad cada': 3993, 'comunidad cada ao': 3994, 'cada ao durant': 3995, 'ao durant la': 3996, 'durant la prxima': 3997, 'la prxima dcada': 3998, 'prxima dcada aprovech': 3999}\n"
     ]
    }
   ],
   "source": [
    "CX, CY = transform_dataset(citizenDf)"
   ]
  },
  {
   "cell_type": "code",
   "execution_count": 36,
   "metadata": {},
   "outputs": [],
   "source": [
    "def accuracy_on_citizen_tweets(name, predictions):\n",
    "    \n",
    "    hashtag_success = {}\n",
    "    hashtag_total = {}\n",
    "    for hashtag in list(set(citizen_tweets['Hashtag'].values)):\n",
    "        hashtag_success[hashtag] = 0\n",
    "        hashtag_total[hashtag] = 0\n",
    "        \n",
    "    correctR = 0\n",
    "    correctD = 0\n",
    "    correct = 0\n",
    "\n",
    "    totalR = 0\n",
    "    totalD = 0\n",
    "    total = 0\n",
    "\n",
    "    for i in range(0, len(predictions)):\n",
    "    \n",
    "        row = citizenDf.iloc[i]\n",
    "        hashtag = row['Hashtag']\n",
    "        \n",
    "        if predictions[i] == CY[i]:\n",
    "            hashtag_success[hashtag] += 1\n",
    "            if CY[i] == REPUBLICAN:\n",
    "                correctR += 1\n",
    "            elif CY[i] == DEMOCRAT:\n",
    "                correctD += 1\n",
    "            correct += 1\n",
    "    \n",
    "        if CY[i] == REPUBLICAN:\n",
    "            totalR += 1\n",
    "        elif CY[i] == DEMOCRAT:\n",
    "            totalD += 1\n",
    "        \n",
    "        hashtag_total[hashtag] += 1\n",
    "        total += 1\n",
    "    \n",
    "    print(\"===============================================\")\n",
    "    \n",
    "    print(\"OVERALL: \" + str(correct/total))\n",
    "    print(\" * R: \" + str(correctR) + \"/\" + str(totalR) + \" ~ \" + str(correctR/totalR))\n",
    "    print(\" * D: \" + str(correctD) + \"/\" + str(totalD) + \" ~ \" + str(correctD/totalD))\n",
    "\n",
    "    print(\"===============================================\")\n",
    "\n",
    "    for hashtag in hashtag_success:\n",
    "        print(\" # \" + hashtag + \": \" + str(hashtag_success[hashtag] / hashtag_total[hashtag]) )\n",
    "    \n",
    "    print(\"===============================================\")"
   ]
  },
  {
   "cell_type": "code",
   "execution_count": 37,
   "metadata": {},
   "outputs": [
    {
     "name": "stdout",
     "output_type": "stream",
     "text": [
      "===============================================\n",
      "OVERALL: 0.5913978494623656\n",
      " * R: 64/125 ~ 0.512\n",
      " * D: 101/154 ~ 0.6558441558441559\n",
      "===============================================\n",
      " # MAGA: 0.75\n",
      " # 2A: 0.3333333333333333\n",
      " # GunControl: 0.8333333333333334\n",
      " # SleepyJoe: 0.5\n",
      " # VoteBlue: 0.5833333333333334\n",
      " # VoteRed: 0.45161290322580644\n",
      " # ProLife: 0.6346153846153846\n",
      " # GreenNewDeal: 0.5384615384615384\n",
      " # BlueNoMatterWho: 0.7916666666666666\n",
      " # Trump2020Landslide: 0.5\n",
      "===============================================\n"
     ]
    }
   ],
   "source": [
    "accuracy_on_citizen_tweets(\"Neural Network\", nn.predict(CX))"
   ]
  },
  {
   "cell_type": "code",
   "execution_count": 38,
   "metadata": {},
   "outputs": [
    {
     "name": "stdout",
     "output_type": "stream",
     "text": [
      "===============================================\n",
      "OVERALL: 0.5304659498207885\n",
      " * R: 107/125 ~ 0.856\n",
      " * D: 41/154 ~ 0.2662337662337662\n",
      "===============================================\n",
      " # MAGA: 0.5833333333333334\n",
      " # 2A: 0.8333333333333334\n",
      " # GunControl: 0.3333333333333333\n",
      " # SleepyJoe: 0.8846153846153846\n",
      " # VoteBlue: 0.26666666666666666\n",
      " # VoteRed: 0.8387096774193549\n",
      " # ProLife: 0.5\n",
      " # GreenNewDeal: 0.5\n",
      " # BlueNoMatterWho: 0.08333333333333333\n",
      " # Trump2020Landslide: 0.875\n",
      "===============================================\n"
     ]
    }
   ],
   "source": [
    "accuracy_on_citizen_tweets(\"Decision Tree\", clf.predict(CX))"
   ]
  },
  {
   "cell_type": "code",
   "execution_count": 39,
   "metadata": {},
   "outputs": [
    {
     "name": "stdout",
     "output_type": "stream",
     "text": [
      "===============================================\n",
      "OVERALL: 0.5304659498207885\n",
      " * R: 107/125 ~ 0.856\n",
      " * D: 41/154 ~ 0.2662337662337662\n",
      "===============================================\n",
      " # MAGA: 0.5833333333333334\n",
      " # 2A: 0.8333333333333334\n",
      " # GunControl: 0.3333333333333333\n",
      " # SleepyJoe: 0.8846153846153846\n",
      " # VoteBlue: 0.26666666666666666\n",
      " # VoteRed: 0.8387096774193549\n",
      " # ProLife: 0.5\n",
      " # GreenNewDeal: 0.5\n",
      " # BlueNoMatterWho: 0.08333333333333333\n",
      " # Trump2020Landslide: 0.875\n",
      "===============================================\n"
     ]
    }
   ],
   "source": [
    "accuracy_on_citizen_tweets(\"KNN\", clf.predict(CX))"
   ]
  },
  {
   "cell_type": "markdown",
   "metadata": {},
   "source": [
    "# 3. EDA"
   ]
  },
  {
   "cell_type": "markdown",
   "metadata": {},
   "source": [
    "#### A. Get the post popular hashtags by party"
   ]
  },
  {
   "cell_type": "code",
   "execution_count": 40,
   "metadata": {},
   "outputs": [],
   "source": [
    "def most_common_array_col_values(df, col, n):\n",
    "\n",
    "    hashtags = []\n",
    "\n",
    "    for tweet_hashtags in df[col].values:\n",
    "        tweet_hashtags = tweet_hashtags[1:-1]\n",
    "        tweet_hashtags = tweet_hashtags.replace(\"'\", \"\")\n",
    "        tweet_hashtags = tweet_hashtags.replace(\" \", \"\")\n",
    "        hashtags = hashtags + tweet_hashtags.split(\",\")\n",
    "\n",
    "    counter=collections.Counter(hashtags)\n",
    "    return counter.most_common(n)"
   ]
  },
  {
   "cell_type": "code",
   "execution_count": 41,
   "metadata": {},
   "outputs": [],
   "source": [
    "r_most_common = most_common_array_col_values(r_tweets, 'hashtags', 25)\n",
    "d_most_common = most_common_array_col_values(d_tweets, 'hashtags', 25)"
   ]
  },
  {
   "cell_type": "code",
   "execution_count": 42,
   "metadata": {},
   "outputs": [],
   "source": [
    "r_most_common = [ r for r in r_most_common if r[0] != '' ]\n",
    "d_most_common = [ d for d in d_most_common if d[0] != '' ]"
   ]
  },
  {
   "cell_type": "code",
   "execution_count": 43,
   "metadata": {},
   "outputs": [],
   "source": [
    "common_hashtag_df = pd.DataFrame({\n",
    "    'Hashtag': [ v[0] for v in r_most_common ] + [ v[0] for v in d_most_common ],\n",
    "    'Uses': [ v[1] for v in r_most_common ] + [ v[1] for v in d_most_common ],\n",
    "    'Party': [ 'R' for v in r_most_common ] + [ 'D' for v in d_most_common ]\n",
    "})"
   ]
  },
  {
   "cell_type": "code",
   "execution_count": 44,
   "metadata": {},
   "outputs": [],
   "source": [
    "common_hashtag_df.to_csv('tableau/common_hashtags.csv')"
   ]
  },
  {
   "cell_type": "markdown",
   "metadata": {},
   "source": [
    "#### B. Get the most important n-grams"
   ]
  },
  {
   "cell_type": "code",
   "execution_count": 45,
   "metadata": {},
   "outputs": [
    {
     "name": "stdout",
     "output_type": "stream",
     "text": [
      "n-gram map\n",
      "==============================================\n",
      "{'town hall': {'r': 23, 'd': 84}, 'hous democrat': {'r': 31, 'd': 2}, 'im work': {'r': 2, 'd': 30}, 'mental health': {'r': 1, 'd': 27}, 'new job': {'r': 23, 'd': 1}, 'gun violenc': {'r': 0, 'd': 30}, 'speaker pelosi': {'r': 30, 'd': 0}, 'us safe': {'r': 20, 'd': 3}, 'proud stand': {'r': 1, 'd': 14}, 'pass bill': {'r': 5, 'd': 21}, 'sick leav': {'r': 0, 'd': 13}, 'twittercom im': {'r': 0, 'd': 0}, 'right now': {'r': 4, 'd': 15}, 'access health': {'r': 2, 'd': 13}, 'mobil offic': {'r': 4, 'd': 61}, 'care worker': {'r': 5, 'd': 19}, 'bipartisan legisl': {'r': 1, 'd': 16}, 'feder fund': {'r': 4, 'd': 18}, 'health insur': {'r': 0, 'd': 13}, 'thank @realdonaldtrump': {'r': 23, 'd': 0}, 'paid sick': {'r': 0, 'd': 13}, 'today im': {'r': 7, 'd': 17}, 'supplement fund': {'r': 8, 'd': 0}, 'pass bipartisan': {'r': 4, 'd': 24}, 'job creat': {'r': 17, 'd': 0}, 'work peopl': {'r': 3, 'd': 14}, 'health crisi': {'r': 1, 'd': 20}, 'dark money': {'r': 0, 'd': 10}, 'partisan impeach': {'r': 10, 'd': 0}, 'job ad': {'r': 10, 'd': 0}, 'see mani': {'r': 10, 'd': 1}, 'great news': {'r': 28, 'd': 13}, 'farmer rancher': {'r': 16, 'd': 1}, 'telephon town': {'r': 5, 'd': 34}, 'presid @realdonaldtrump': {'r': 28, 'd': 0}, 'must ensur': {'r': 4, 'd': 18}, 'here facebookcom': {'r': 0, 'd': 8}, 'american commun': {'r': 0, 'd': 9}, 'take action': {'r': 2, 'd': 15}, 'climat chang': {'r': 1, 'd': 14}, 'thank @potu': {'r': 7, 'd': 0}, 'protect act': {'r': 8, 'd': 2}, '100 year': {'r': 9, 'd': 2}, 'child care': {'r': 0, 'd': 6}, 'farmer manufactur': {'r': 12, 'd': 0}, 'past time': {'r': 0, 'd': 11}, 'social secur': {'r': 10, 'd': 31}, 'last night': {'r': 40, 'd': 19}, 'special interest': {'r': 0, 'd': 11}, '@realdonaldtrump sign': {'r': 11, 'd': 0}, 'thank you': {'r': 28, 'd': 11}, 'state local': {'r': 17, 'd': 7}, 'vote right': {'r': 0, 'd': 10}, 'move forward': {'r': 13, 'd': 3}, 'public school': {'r': 0, 'd': 8}, 'protect right': {'r': 0, 'd': 10}, 'air forc': {'r': 18, 'd': 1}, 'expand access': {'r': 3, 'd': 12}, '2016 elect': {'r': 9, 'd': 0}, 'great see': {'r': 18, 'd': 9}, 'housegov im': {'r': 0, 'd': 0}, 'citizen unit': {'r': 0, 'd': 7}, 'time senat': {'r': 0, 'd': 9}, 'food assist': {'r': 0, 'd': 9}, 'im proud': {'r': 24, 'd': 65}, 'im hold': {'r': 0, 'd': 17}, 'stay healthi': {'r': 2, 'd': 10}, 'censu count': {'r': 0, 'd': 8}, 'dr king': {'r': 1, 'd': 9}, 'violenc women': {'r': 0, 'd': 8}, 'secur border': {'r': 9, 'd': 1}, 'resourc fair': {'r': 0, 'd': 7}, 'impeach process': {'r': 8, 'd': 0}, 'civil right': {'r': 2, 'd': 15}, 'facebook page': {'r': 1, 'd': 35}, 'rx drug': {'r': 0, 'd': 11}, 'spread coronaviru': {'r': 19, 'd': 11}, 'far long': {'r': 7, 'd': 0}, 'suprem court': {'r': 5, 'd': 11}, 'congress pass': {'r': 1, 'd': 8}, 'preexist condit': {'r': 0, 'd': 15}, 'women uniform': {'r': 15, 'd': 2}, 'help pass': {'r': 2, 'd': 14}, 'worker right': {'r': 0, 'd': 12}, 'ultim sacrific': {'r': 8, 'd': 2}, 'censu bureau': {'r': 0, 'd': 6}, 'famili affect': {'r': 0, 'd': 6}, 'last day': {'r': 0, 'd': 6}, 'cast vote': {'r': 0, 'd': 6}, 'work day': {'r': 7, 'd': 1}, 'learn appli': {'r': 0, 'd': 6}, 'introduc bipartisan': {'r': 1, 'd': 12}, 'import work': {'r': 3, 'd': 14}, 'inform visit': {'r': 14, 'd': 3}, 'health coverag': {'r': 0, 'd': 11}, 'law enforc': {'r': 33, 'd': 11}, 'health care': {'r': 30, 'd': 116}, 'click link': {'r': 25, 'd': 1}, '@potu sign': {'r': 12, 'd': 0}, 'work famili': {'r': 3, 'd': 13}}\n",
      "\n",
      "interesting_ngram_df\n",
      "==============================================\n",
      "            ngram  republican  democratic\n",
      "0       town hall          23          84\n",
      "1   hous democrat          31           2\n",
      "2         im work           2          30\n",
      "3   mental health           1          27\n",
      "4         new job          23           1\n",
      "..            ...         ...         ...\n",
      "95     law enforc          33          11\n",
      "96    health care          30         116\n",
      "97     click link          25           1\n",
      "98     @potu sign          12           0\n",
      "99    work famili           3          13\n",
      "\n",
      "[100 rows x 3 columns]\n"
     ]
    }
   ],
   "source": [
    "interesting = []\n",
    "\n",
    "#interesting += [' '.join(n) for n in most_interesting_ngrams(1, 15)]\n",
    "interesting += [' '.join(n) for n in most_interesting_ngrams(2, 100)]\n",
    "#interesting += [' '.join(n) for n in most_interesting_ngrams(3, 10)]\n",
    "\n",
    "ngramMap = {}\n",
    "\n",
    "for term in interesting:\n",
    "    ngramMap[term] = {\n",
    "        'r': 0,\n",
    "        'd': 0\n",
    "    }\n",
    "\n",
    "for index, row in tweets.iterrows():\n",
    "    tweet = row['tweet']\n",
    "    party = row['Party']\n",
    "    for term in interesting:\n",
    "        if term in tweet:\n",
    "            if party == 0:\n",
    "                ngramMap[term]['d'] += 1\n",
    "            if party == 1:\n",
    "                ngramMap[term]['r'] += 1\n",
    "                \n",
    "interesting_ngram_df = pd.DataFrame({\n",
    "    'ngram': [k for k in ngramMap.keys()],\n",
    "    'republican': [v['r'] for v in ngramMap.values()],\n",
    "    'democratic': [v['d'] for v in ngramMap.values()]\n",
    "})\n",
    "   \n",
    "print(\"n-gram map\")\n",
    "print(\"==============================================\")\n",
    "print(ngramMap)\n",
    "print()\n",
    "print(\"interesting_ngram_df\")\n",
    "print(\"==============================================\")\n",
    "print(interesting_ngram_df)   \n",
    "                \n",
    "interesting_ngram_df.to_csv(\"tableau/interesting_ngrams.csv\")"
   ]
  },
  {
   "cell_type": "markdown",
   "metadata": {},
   "source": [
    "#### Get most mentioned users by party"
   ]
  },
  {
   "cell_type": "code",
   "execution_count": 46,
   "metadata": {},
   "outputs": [],
   "source": [
    "r_most_common_mentions = most_common_array_col_values(r_tweets, 'mentions', 10)\n",
    "d_most_common_mentions = most_common_array_col_values(d_tweets, 'mentions', 10)"
   ]
  },
  {
   "cell_type": "code",
   "execution_count": 47,
   "metadata": {},
   "outputs": [
    {
     "data": {
      "text/plain": [
       "[('', 1804),\n",
       " ('realdonaldtrump', 228),\n",
       " ('potus', 72),\n",
       " ('cdcgov', 34),\n",
       " ('speakerpelosi', 22),\n",
       " ('sbagov', 21),\n",
       " ('housedemocrats', 19),\n",
       " ('usda', 16),\n",
       " ('senatorfischer', 15),\n",
       " ('newsandtribune', 12)]"
      ]
     },
     "execution_count": 47,
     "metadata": {},
     "output_type": "execute_result"
    }
   ],
   "source": [
    "r_most_common_mentions"
   ]
  },
  {
   "cell_type": "code",
   "execution_count": 48,
   "metadata": {},
   "outputs": [
    {
     "data": {
      "text/plain": [
       "[('', 2166),\n",
       " ('realdonaldtrump', 33),\n",
       " ('cdcgov', 26),\n",
       " ('oversightdems', 24),\n",
       " ('housedemocrats', 23),\n",
       " ('sbagov', 16),\n",
       " ('appropsdems', 14),\n",
       " ('energycommerce', 14),\n",
       " ('housejudiciary', 11),\n",
       " ('housesmallbiz', 10)]"
      ]
     },
     "execution_count": 48,
     "metadata": {},
     "output_type": "execute_result"
    }
   ],
   "source": [
    "d_most_common_mentions"
   ]
  },
  {
   "cell_type": "markdown",
   "metadata": {},
   "source": [
    "#### Get the trends of different keywords"
   ]
  },
  {
   "cell_type": "code",
   "execution_count": 49,
   "metadata": {},
   "outputs": [],
   "source": [
    "def trend_for_keywords(df, keywords):\n",
    "    timeseries = {}\n",
    "    \n",
    "    for index, row in df.iterrows():\n",
    "        date = row['date']\n",
    "        tweet = row['tweet']\n",
    "        \n",
    "        found = False\n",
    "        for kw in keywords:\n",
    "            if kw in tweet:\n",
    "                found = True\n",
    "                break\n",
    "        \n",
    "        if found:\n",
    "            if date in timeseries:\n",
    "                timeseries[date] += 1\n",
    "            else:\n",
    "                timeseries[date] = 1\n",
    "    \n",
    "    return timeseries"
   ]
  },
  {
   "cell_type": "code",
   "execution_count": 50,
   "metadata": {},
   "outputs": [],
   "source": [
    "gen_timeseries = trend_for_keywords(tweets, ['coronavirus', 'covid', 'pandemic'] )\n",
    "rep_timeseries = trend_for_keywords(r_tweets, ['coronavirus', 'covid', 'pandemic'] )\n",
    "dem_timeseries = trend_for_keywords(d_tweets, ['coronavirus', 'covid', 'pandemic'] )"
   ]
  },
  {
   "cell_type": "code",
   "execution_count": 51,
   "metadata": {},
   "outputs": [],
   "source": [
    "timeseriesDf = pd.DataFrame({\n",
    "    'date': [k for k in gen_timeseries.keys()],\n",
    "    'gen_tweets': [v for v in gen_timeseries.values()],\n",
    "    'rep_tweets': [(rep_timeseries[k] if k in rep_timeseries else 0) for k in gen_timeseries.keys()],\n",
    "    'dem_tweets': [(dem_timeseries[k] if k in dem_timeseries else 0) for k in gen_timeseries.keys()]\n",
    "})"
   ]
  },
  {
   "cell_type": "code",
   "execution_count": 52,
   "metadata": {},
   "outputs": [],
   "source": [
    "timeseriesDf.to_csv('tableau/covid_tweet_frequency.csv')"
   ]
  },
  {
   "cell_type": "code",
   "execution_count": 53,
   "metadata": {},
   "outputs": [
    {
     "data": {
      "text/html": [
       "<div>\n",
       "<style scoped>\n",
       "    .dataframe tbody tr th:only-of-type {\n",
       "        vertical-align: middle;\n",
       "    }\n",
       "\n",
       "    .dataframe tbody tr th {\n",
       "        vertical-align: top;\n",
       "    }\n",
       "\n",
       "    .dataframe thead th {\n",
       "        text-align: right;\n",
       "    }\n",
       "</style>\n",
       "<table border=\"1\" class=\"dataframe\">\n",
       "  <thead>\n",
       "    <tr style=\"text-align: right;\">\n",
       "      <th></th>\n",
       "      <th>date</th>\n",
       "      <th>gen_tweets</th>\n",
       "      <th>rep_tweets</th>\n",
       "      <th>dem_tweets</th>\n",
       "    </tr>\n",
       "  </thead>\n",
       "  <tbody>\n",
       "    <tr>\n",
       "      <th>0</th>\n",
       "      <td>2020-03-19</td>\n",
       "      <td>30</td>\n",
       "      <td>15</td>\n",
       "      <td>15</td>\n",
       "    </tr>\n",
       "    <tr>\n",
       "      <th>1</th>\n",
       "      <td>2020-03-18</td>\n",
       "      <td>20</td>\n",
       "      <td>9</td>\n",
       "      <td>11</td>\n",
       "    </tr>\n",
       "    <tr>\n",
       "      <th>2</th>\n",
       "      <td>2020-03-17</td>\n",
       "      <td>23</td>\n",
       "      <td>11</td>\n",
       "      <td>12</td>\n",
       "    </tr>\n",
       "    <tr>\n",
       "      <th>3</th>\n",
       "      <td>2020-03-09</td>\n",
       "      <td>8</td>\n",
       "      <td>4</td>\n",
       "      <td>4</td>\n",
       "    </tr>\n",
       "    <tr>\n",
       "      <th>4</th>\n",
       "      <td>2020-02-28</td>\n",
       "      <td>2</td>\n",
       "      <td>1</td>\n",
       "      <td>1</td>\n",
       "    </tr>\n",
       "    <tr>\n",
       "      <th>5</th>\n",
       "      <td>2020-04-04</td>\n",
       "      <td>8</td>\n",
       "      <td>2</td>\n",
       "      <td>6</td>\n",
       "    </tr>\n",
       "    <tr>\n",
       "      <th>6</th>\n",
       "      <td>2020-04-03</td>\n",
       "      <td>13</td>\n",
       "      <td>8</td>\n",
       "      <td>5</td>\n",
       "    </tr>\n",
       "    <tr>\n",
       "      <th>7</th>\n",
       "      <td>2020-04-02</td>\n",
       "      <td>19</td>\n",
       "      <td>8</td>\n",
       "      <td>11</td>\n",
       "    </tr>\n",
       "    <tr>\n",
       "      <th>8</th>\n",
       "      <td>2020-03-31</td>\n",
       "      <td>19</td>\n",
       "      <td>7</td>\n",
       "      <td>12</td>\n",
       "    </tr>\n",
       "    <tr>\n",
       "      <th>9</th>\n",
       "      <td>2020-03-29</td>\n",
       "      <td>9</td>\n",
       "      <td>4</td>\n",
       "      <td>5</td>\n",
       "    </tr>\n",
       "    <tr>\n",
       "      <th>10</th>\n",
       "      <td>2020-03-28</td>\n",
       "      <td>8</td>\n",
       "      <td>4</td>\n",
       "      <td>4</td>\n",
       "    </tr>\n",
       "    <tr>\n",
       "      <th>11</th>\n",
       "      <td>2020-03-24</td>\n",
       "      <td>23</td>\n",
       "      <td>16</td>\n",
       "      <td>7</td>\n",
       "    </tr>\n",
       "    <tr>\n",
       "      <th>12</th>\n",
       "      <td>2020-03-20</td>\n",
       "      <td>14</td>\n",
       "      <td>2</td>\n",
       "      <td>12</td>\n",
       "    </tr>\n",
       "    <tr>\n",
       "      <th>13</th>\n",
       "      <td>2020-03-16</td>\n",
       "      <td>28</td>\n",
       "      <td>18</td>\n",
       "      <td>10</td>\n",
       "    </tr>\n",
       "    <tr>\n",
       "      <th>14</th>\n",
       "      <td>2020-03-15</td>\n",
       "      <td>9</td>\n",
       "      <td>3</td>\n",
       "      <td>6</td>\n",
       "    </tr>\n",
       "    <tr>\n",
       "      <th>15</th>\n",
       "      <td>2020-03-14</td>\n",
       "      <td>13</td>\n",
       "      <td>6</td>\n",
       "      <td>7</td>\n",
       "    </tr>\n",
       "    <tr>\n",
       "      <th>16</th>\n",
       "      <td>2020-03-12</td>\n",
       "      <td>23</td>\n",
       "      <td>13</td>\n",
       "      <td>10</td>\n",
       "    </tr>\n",
       "    <tr>\n",
       "      <th>17</th>\n",
       "      <td>2020-03-05</td>\n",
       "      <td>6</td>\n",
       "      <td>3</td>\n",
       "      <td>3</td>\n",
       "    </tr>\n",
       "    <tr>\n",
       "      <th>18</th>\n",
       "      <td>2020-02-29</td>\n",
       "      <td>2</td>\n",
       "      <td>0</td>\n",
       "      <td>2</td>\n",
       "    </tr>\n",
       "    <tr>\n",
       "      <th>19</th>\n",
       "      <td>2020-02-26</td>\n",
       "      <td>1</td>\n",
       "      <td>0</td>\n",
       "      <td>1</td>\n",
       "    </tr>\n",
       "    <tr>\n",
       "      <th>20</th>\n",
       "      <td>2020-04-01</td>\n",
       "      <td>20</td>\n",
       "      <td>11</td>\n",
       "      <td>9</td>\n",
       "    </tr>\n",
       "    <tr>\n",
       "      <th>21</th>\n",
       "      <td>2020-03-30</td>\n",
       "      <td>17</td>\n",
       "      <td>8</td>\n",
       "      <td>9</td>\n",
       "    </tr>\n",
       "    <tr>\n",
       "      <th>22</th>\n",
       "      <td>2020-03-27</td>\n",
       "      <td>16</td>\n",
       "      <td>3</td>\n",
       "      <td>13</td>\n",
       "    </tr>\n",
       "    <tr>\n",
       "      <th>23</th>\n",
       "      <td>2020-03-26</td>\n",
       "      <td>16</td>\n",
       "      <td>8</td>\n",
       "      <td>8</td>\n",
       "    </tr>\n",
       "    <tr>\n",
       "      <th>24</th>\n",
       "      <td>2020-03-25</td>\n",
       "      <td>16</td>\n",
       "      <td>7</td>\n",
       "      <td>9</td>\n",
       "    </tr>\n",
       "    <tr>\n",
       "      <th>25</th>\n",
       "      <td>2020-03-22</td>\n",
       "      <td>12</td>\n",
       "      <td>5</td>\n",
       "      <td>7</td>\n",
       "    </tr>\n",
       "    <tr>\n",
       "      <th>26</th>\n",
       "      <td>2020-03-11</td>\n",
       "      <td>12</td>\n",
       "      <td>5</td>\n",
       "      <td>7</td>\n",
       "    </tr>\n",
       "    <tr>\n",
       "      <th>27</th>\n",
       "      <td>2020-03-10</td>\n",
       "      <td>12</td>\n",
       "      <td>5</td>\n",
       "      <td>7</td>\n",
       "    </tr>\n",
       "    <tr>\n",
       "      <th>28</th>\n",
       "      <td>2020-03-04</td>\n",
       "      <td>11</td>\n",
       "      <td>7</td>\n",
       "      <td>4</td>\n",
       "    </tr>\n",
       "    <tr>\n",
       "      <th>29</th>\n",
       "      <td>2020-03-13</td>\n",
       "      <td>27</td>\n",
       "      <td>10</td>\n",
       "      <td>17</td>\n",
       "    </tr>\n",
       "    <tr>\n",
       "      <th>30</th>\n",
       "      <td>2020-03-07</td>\n",
       "      <td>3</td>\n",
       "      <td>2</td>\n",
       "      <td>1</td>\n",
       "    </tr>\n",
       "    <tr>\n",
       "      <th>31</th>\n",
       "      <td>2020-03-06</td>\n",
       "      <td>3</td>\n",
       "      <td>1</td>\n",
       "      <td>2</td>\n",
       "    </tr>\n",
       "    <tr>\n",
       "      <th>32</th>\n",
       "      <td>2020-03-03</td>\n",
       "      <td>4</td>\n",
       "      <td>2</td>\n",
       "      <td>2</td>\n",
       "    </tr>\n",
       "    <tr>\n",
       "      <th>33</th>\n",
       "      <td>2020-03-23</td>\n",
       "      <td>13</td>\n",
       "      <td>7</td>\n",
       "      <td>6</td>\n",
       "    </tr>\n",
       "    <tr>\n",
       "      <th>34</th>\n",
       "      <td>2020-03-02</td>\n",
       "      <td>2</td>\n",
       "      <td>1</td>\n",
       "      <td>1</td>\n",
       "    </tr>\n",
       "    <tr>\n",
       "      <th>35</th>\n",
       "      <td>2020-03-21</td>\n",
       "      <td>8</td>\n",
       "      <td>2</td>\n",
       "      <td>6</td>\n",
       "    </tr>\n",
       "    <tr>\n",
       "      <th>36</th>\n",
       "      <td>2020-03-08</td>\n",
       "      <td>1</td>\n",
       "      <td>0</td>\n",
       "      <td>1</td>\n",
       "    </tr>\n",
       "  </tbody>\n",
       "</table>\n",
       "</div>"
      ],
      "text/plain": [
       "          date  gen_tweets  rep_tweets  dem_tweets\n",
       "0   2020-03-19          30          15          15\n",
       "1   2020-03-18          20           9          11\n",
       "2   2020-03-17          23          11          12\n",
       "3   2020-03-09           8           4           4\n",
       "4   2020-02-28           2           1           1\n",
       "5   2020-04-04           8           2           6\n",
       "6   2020-04-03          13           8           5\n",
       "7   2020-04-02          19           8          11\n",
       "8   2020-03-31          19           7          12\n",
       "9   2020-03-29           9           4           5\n",
       "10  2020-03-28           8           4           4\n",
       "11  2020-03-24          23          16           7\n",
       "12  2020-03-20          14           2          12\n",
       "13  2020-03-16          28          18          10\n",
       "14  2020-03-15           9           3           6\n",
       "15  2020-03-14          13           6           7\n",
       "16  2020-03-12          23          13          10\n",
       "17  2020-03-05           6           3           3\n",
       "18  2020-02-29           2           0           2\n",
       "19  2020-02-26           1           0           1\n",
       "20  2020-04-01          20          11           9\n",
       "21  2020-03-30          17           8           9\n",
       "22  2020-03-27          16           3          13\n",
       "23  2020-03-26          16           8           8\n",
       "24  2020-03-25          16           7           9\n",
       "25  2020-03-22          12           5           7\n",
       "26  2020-03-11          12           5           7\n",
       "27  2020-03-10          12           5           7\n",
       "28  2020-03-04          11           7           4\n",
       "29  2020-03-13          27          10          17\n",
       "30  2020-03-07           3           2           1\n",
       "31  2020-03-06           3           1           2\n",
       "32  2020-03-03           4           2           2\n",
       "33  2020-03-23          13           7           6\n",
       "34  2020-03-02           2           1           1\n",
       "35  2020-03-21           8           2           6\n",
       "36  2020-03-08           1           0           1"
      ]
     },
     "execution_count": 53,
     "metadata": {},
     "output_type": "execute_result"
    }
   ],
   "source": [
    "timeseriesDf"
   ]
  }
 ],
 "metadata": {
  "kernelspec": {
   "display_name": "Python 3",
   "language": "python",
   "name": "python3"
  },
  "language_info": {
   "codemirror_mode": {
    "name": "ipython",
    "version": 3
   },
   "file_extension": ".py",
   "mimetype": "text/x-python",
   "name": "python",
   "nbconvert_exporter": "python",
   "pygments_lexer": "ipython3",
   "version": "3.7.6"
  }
 },
 "nbformat": 4,
 "nbformat_minor": 4
}
