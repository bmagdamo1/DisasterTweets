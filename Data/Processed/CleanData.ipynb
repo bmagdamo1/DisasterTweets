{
 "cells": [
  {
   "cell_type": "code",
   "execution_count": 1,
   "metadata": {},
   "outputs": [],
   "source": [
    "import numpy as np\n",
    "import pandas as pd\n",
    "import string\n",
    "import re\n",
    "import nltk\n",
    "#nltk.download()\n",
    "from nltk.corpus import stopwords"
   ]
  },
  {
   "cell_type": "code",
   "execution_count": 2,
   "metadata": {},
   "outputs": [],
   "source": [
    "def url(text):\n",
    "    stuff = re.compile(r'https?://\\S+|www\\.\\S+')\n",
    "    return stuff.sub(r'', text)\n",
    "\n",
    "def emoji(text):\n",
    "    stuff = re.compile(\n",
    "        '['\n",
    "        u'\\U0001F600-\\U0001F64F'\n",
    "        u'\\U0001F300-\\U0001F5FF'\n",
    "        u'\\U0001F680-\\U0001F6FF'\n",
    "        u'\\U0001F1E0-\\U0001F1FF'\n",
    "        u'\\U00002702-\\U000027B0'\n",
    "        u'\\U000024C2-\\U0001F251'\n",
    "        ']+',\n",
    "        flags=re.UNICODE)\n",
    "    return stuff.sub(r'', text)\n",
    "\n",
    "def html(text):\n",
    "    stuff = re.compile(r'<.*?>|&([a-z0-9]+|#[0-9]{1,6}|#x[0-9a-f]{1,6});')\n",
    "    return re.sub(stuff, '', text)\n",
    "\n",
    "def punctuation(text):\n",
    "    stuff = str.maketrans('', '', string.punctuation)\n",
    "    return text.translate(stuff)"
   ]
  },
  {
   "cell_type": "code",
   "execution_count": 5,
   "metadata": {},
   "outputs": [],
   "source": [
    "train = pd.read_csv(\"train.csv\")\n",
    "stop = stopwords.words('english')\n",
    "train['text'] = train['text'].apply(lambda x: url(x))\n",
    "train['text'] = train['text'].apply(lambda x: emoji(x))\n",
    "train['text'] = train['text'].apply(lambda x: html(x))\n",
    "train['text'] = train['text'].apply(lambda x: punctuation(x))\n",
    "train['text'] = train['text'].apply(lambda x: str.lower(x))\n",
    "train['text'] = train['text'].apply(lambda x: ' '.join([word for word in x.split() if word not in (stop)]))"
   ]
  },
  {
   "cell_type": "code",
   "execution_count": 6,
   "metadata": {},
   "outputs": [
    {
     "name": "stdout",
     "output_type": "stream",
     "text": [
      "<class 'pandas.core.frame.DataFrame'>\n",
      "RangeIndex: 7613 entries, 0 to 7612\n",
      "Data columns (total 2 columns):\n",
      "text      7613 non-null object\n",
      "target    7613 non-null int64\n",
      "dtypes: int64(1), object(1)\n",
      "memory usage: 119.0+ KB\n"
     ]
    }
   ],
   "source": [
    "clean_train = train[['text','target']]\n",
    "clean_train.info()"
   ]
  },
  {
   "cell_type": "code",
   "execution_count": 7,
   "metadata": {},
   "outputs": [],
   "source": [
    "clean_train.to_csv('cleaned_train.csv')"
   ]
  },
  {
   "cell_type": "code",
   "execution_count": 8,
   "metadata": {},
   "outputs": [],
   "source": [
    "test = pd.read_csv(\"train.csv\")\n",
    "test['text'] = test['text'].apply(lambda x: url(x))\n",
    "test['text'] = test['text'].apply(lambda x: emoji(x))\n",
    "test['text'] = test['text'].apply(lambda x: html(x))\n",
    "test['text'] = test['text'].apply(lambda x: punctuation(x))\n",
    "test['text'] = test['text'].apply(lambda x: str.lower(x))\n",
    "test['text'] = test['text'].apply(lambda x: ' '.join([word for word in x.split() if word not in (stop)]))"
   ]
  },
  {
   "cell_type": "code",
   "execution_count": 9,
   "metadata": {},
   "outputs": [
    {
     "name": "stdout",
     "output_type": "stream",
     "text": [
      "<class 'pandas.core.frame.DataFrame'>\n",
      "RangeIndex: 7613 entries, 0 to 7612\n",
      "Data columns (total 1 columns):\n",
      "text    7613 non-null object\n",
      "dtypes: object(1)\n",
      "memory usage: 59.6+ KB\n"
     ]
    }
   ],
   "source": [
    "clean_test = test[['text']]\n",
    "clean_test.info()"
   ]
  },
  {
   "cell_type": "code",
   "execution_count": 10,
   "metadata": {},
   "outputs": [],
   "source": [
    "clean_test.to_csv('cleaned_test.csv')"
   ]
  },
  {
   "cell_type": "code",
   "execution_count": null,
   "metadata": {},
   "outputs": [],
   "source": []
  }
 ],
 "metadata": {
  "kernelspec": {
   "display_name": "Python 3",
   "language": "python",
   "name": "python3"
  },
  "language_info": {
   "codemirror_mode": {
    "name": "ipython",
    "version": 3
   },
   "file_extension": ".py",
   "mimetype": "text/x-python",
   "name": "python",
   "nbconvert_exporter": "python",
   "pygments_lexer": "ipython3",
   "version": "3.7.3"
  }
 },
 "nbformat": 4,
 "nbformat_minor": 2
}
